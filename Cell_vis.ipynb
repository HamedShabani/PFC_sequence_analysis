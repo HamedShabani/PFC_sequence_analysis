{
 "cells": [
  {
   "cell_type": "markdown",
   "metadata": {},
   "source": [
    "## Here we load and visualize the results from analysis of single cells (PC,TC).(figure 3 and 4 of manuscript)"
   ]
  },
  {
   "cell_type": "code",
   "execution_count": 1,
   "metadata": {},
   "outputs": [
    {
     "name": "stdout",
     "output_type": "stream",
     "text": [
      "Illustration of the use of these functions\n",
      " Mask indexes (burst array indexes): \n",
      " [2, 10, 50] \n",
      "Mask indexes expanded to its 2 neighbours: \n",
      " [ 0  1  2  3  4  8  9 10 11 12 48 49 50 51 52] \n",
      "Input indexes (array indexes of the positions y or spike positions ysp)\n",
      " [3, 7, 12, 30, 51, 100] \n",
      "Input indexes excluding those in the set of mask indexes\n",
      " [  7  30 100]\n"
     ]
    }
   ],
   "source": [
    "import matplotlib.pyplot as plt\n",
    "import matplotlib as mpl\n",
    "import numpy as np\n",
    "from os.path import join\n",
    "from scipy.ndimage import gaussian_filter1d\n",
    "from scipy.special import factorial\n",
    "from scipy.stats import spearmanr\n",
    "import pftools as pf\n",
    "import seaborn as sns\n",
    "import pandas as pd\n",
    "import mtools as mot\n",
    "plt.rcParams['svg.fonttype'] = 'none'  # Export text as SVG <text> objects, not paths\n",
    "\n",
    "mpl.rcParams['xtick.major.size'] = 6    # Length of major ticks on x-axis\n",
    "mpl.rcParams['xtick.major.width'] = 1.5 # Width of major ticks on x-axis\n",
    "mpl.rcParams['xtick.direction'] = 'in' # Tick direction, both in and out\n",
    "mpl.rcParams['xtick.major.pad'] = 10    # Padding between ticks and x-axis labels\n",
    "\n",
    "mpl.rcParams['ytick.major.size'] = 6    # Length of major ticks on y-axis\n",
    "mpl.rcParams['ytick.major.width'] = 1.5 # Width of major ticks on y-axis\n",
    "mpl.rcParams['ytick.direction'] = 'in' # Tick direction, both in and out\n",
    "mpl.rcParams['ytick.major.pad'] = 10    # Padding between ticks and y-axis labels\n",
    "\n",
    "\n",
    "# Set default spine and tick settings globally for all plots\n",
    "mpl.rcParams['axes.linewidth'] = 1.5     # Set the width of all spines (top, bottom, left, right)\n",
    "mpl.rcParams['xtick.major.width'] = 1.5  # Width of major ticks on x-axis\n",
    "mpl.rcParams['ytick.major.width'] = 1.5  # Width of major ticks on y-axis\n",
    "mpl.rcParams['xtick.labelsize'] = 12     # Font size of x-axis tick labels\n",
    "mpl.rcParams['ytick.labelsize'] = 12     # Font size of y-axis tick labels\n",
    "\n",
    "# Define the helper function to hide spines\n",
    "def hide_spines(ax=None):\n",
    "    if ax is None:\n",
    "        ax = plt.gca()\n",
    "    ax.spines['top'].set_visible(False)\n",
    "    ax.spines['right'].set_visible(False)"
   ]
  },
  {
   "cell_type": "code",
   "execution_count": 2,
   "metadata": {},
   "outputs": [],
   "source": [
    "fs = 20# sampling freq\n",
    "dt = 1/fs  # bin size of each time index\n",
    "dy = 0.001 # bin size for position histogram. Since we will smooth the histogram anyways, the smaller the better (approaching Kernel Density Estimation).\n",
    "sigma_y = 0.05 # I do not know the size of the animal. So, assume it to be 1% of the track.\n",
    "sigma_yidx = sigma_y/dy  # Convert the position unit to unit of array index.\n",
    "yedges = np.arange(0-dy/2, 1+dy, dy)  # edges for histogram\n",
    "y_ax = pf.MidAx(yedges)  # position axis, mainly for plotting. Since edges are just for histogram.\n",
    "allfolders2=['478','481','483','485']"
   ]
  },
  {
   "cell_type": "code",
   "execution_count": 3,
   "metadata": {},
   "outputs": [],
   "source": [
    "# import configparser\n",
    "# import os\n",
    "\n",
    "# # Initialize the configuration parser\n",
    "# config = configparser.ConfigParser()\n",
    "\n",
    "# # Read the configuration file\n",
    "# config.read('config.ini')\n",
    "\n",
    "# # Get the data folder path from the config file\n",
    "# savefolder= config['paths']['savefolder']\n"
   ]
  },
  {
   "cell_type": "code",
   "execution_count": 4,
   "metadata": {},
   "outputs": [
    {
     "name": "stdout",
     "output_type": "stream",
     "text": [
      "Base Directory: c:\\Users\\hamed\\Desktop\\Hamed\\Github\\TP7\n",
      "Skeletons Folder: C:\\Users\\hamed\\Desktop\\Hamed\\Github\\TP7\\data\\GCaMP6f_478-485\\skeleton\\\n",
      "Save Folder: C:\\Users\\hamed\\Desktop\\Hamed\\Github\\TP7\\results_new\\\n",
      "Data Folder: C:\\Users\\hamed\\Desktop\\Hamed\\Github\\TP7\\data\\GCaMP6f_478-485\\\n"
     ]
    }
   ],
   "source": [
    "import configparser\n",
    "import os\n",
    "from pathlib import Path\n",
    "onfig = configparser.ConfigParser()\n",
    "# Detect base directory\n",
    "try:\n",
    "    BASE_DIR = Path(__file__).resolve().parent  # For scripts\n",
    "except NameError:\n",
    "    BASE_DIR = Path.cwd()  # For Jupyter Notebooks\n",
    "\n",
    "# Move one level up\n",
    "BASE_DIR = BASE_DIR.parent\n",
    "\n",
    "# Load config.ini\n",
    "config = configparser.ConfigParser()\n",
    "config.read(os.path.join(os.getcwd(), \"config.ini\"))\n",
    "\n",
    "# Construct full paths using pathlib and ensure they end with a separator\n",
    "skeletonsfolder = str((BASE_DIR / config[\"paths\"][\"skeletonsfolder\"]).resolve()) + os.sep\n",
    "savefolder = str((BASE_DIR / config[\"paths\"][\"savefolder\"]).resolve()) + os.sep\n",
    "datafolder = str((BASE_DIR / config[\"paths\"][\"datafolder\"]).resolve()) + os.sep\n",
    "\n",
    "# Print paths to verify\n",
    "print(\"Base Directory:\", BASE_DIR)\n",
    "print(\"Skeletons Folder:\", skeletonsfolder)\n",
    "print(\"Save Folder:\", savefolder)\n",
    "print(\"Data Folder:\", datafolder)"
   ]
  },
  {
   "cell_type": "code",
   "execution_count": 5,
   "metadata": {},
   "outputs": [],
   "source": [
    "# In this code i load the data from outward runs and find the cells which are place cells.\n",
    "#burst_len='200ms'\n",
    "fol='478'\n",
    "dir_of_run='L'\n",
    "#celltype='PC'\n",
    "celltype='Alltest_neworder'\n",
    "fs = 20# sampling freq\n",
    "burst_length=0.5\n",
    "burst_len=str(burst_length)+'s'\n",
    "burstsize=burst_length*fs# sample numbers of a burst"
   ]
  },
  {
   "cell_type": "code",
   "execution_count": 6,
   "metadata": {},
   "outputs": [],
   "source": [
    "phase='learning'"
   ]
  },
  {
   "cell_type": "code",
   "execution_count": 7,
   "metadata": {},
   "outputs": [],
   "source": [
    "\n",
    "def compute_allinfo(all_rates,P_x,r0,num_neurons):\n",
    "    all_I_f = np.zeros(num_neurons)  # Forward I\n",
    "\n",
    "    for nid in range(num_neurons):\n",
    "  \n",
    "        all_I_f[nid] = pf.computeSpatialInfo(all_rates[nid, :], P_x, r0[nid])\n",
    "    return(all_I_f)"
   ]
  },
  {
   "cell_type": "code",
   "execution_count": null,
   "metadata": {},
   "outputs": [],
   "source": [
    "chosen_cell_type='all'\n",
    "## Load Place cell data\n",
    "allfolders2=['478','481','483','485']# list of data folders\n",
    "direction=['L','R']\n",
    "rate_L_R={}\n",
    "PC_ratio={}\n",
    "\n",
    "for fol1 in allfolders2:\n",
    "    PC_frac_dir={}\n",
    "\n",
    "    for dir in direction:\n",
    "        cluster_pc_fractions=np.load(savefolder+fol1+'outward_'+dir+'_'+phase+'_correct_Cell',allow_pickle=True)\n",
    "       \n",
    "        #cluster_pc_fractions=np.load(savefolder+fol1+'outward_'+dir+'_'+phase+'_correct_No_chunk_0.5s_transients_Alltest_neworder_with_templates_place_cell_data',allow_pickle=True)\n",
    "\n",
    "        rate_L_R[fol1+'_'+dir]=cluster_pc_fractions#['rate_all']\n",
    "        \n",
    "        PC_ratio[fol1+'_'+dir]=np.sum(rate_L_R[fol1+'_'+dir]['significant'])/len(rate_L_R[fol1+'_'+dir]['significant']) # ratio of SI cells in Left and Right runs\n",
    "        #Pcluster_pc_fractions['significant_ratio']"
   ]
  },
  {
   "cell_type": "code",
   "execution_count": 7,
   "metadata": {},
   "outputs": [
    {
     "data": {
      "image/png": "[encoded data removed]",
      "text/plain": [
       "<Figure size 252x180 with 1 Axes>"
      ]
     },
     "metadata": {
      "needs_background": "light"
     },
     "output_type": "display_data"
    }
   ],
   "source": [
    "\n",
    "animals = allfolders2\n",
    "L_values = [PC_ratio[f'{animal}_L'] for animal in animals]\n",
    "R_values = [PC_ratio[f'{animal}_R'] for animal in animals]\n",
    "colors = ['#4D4D4D', '#C0392B']\n",
    "\n",
    "# X axis positions for L and R\n",
    "x = np.arange(len(animals))  # positions for the animals\n",
    "width = 0.3  # width of the bars\n",
    "\n",
    "# Publication-ready plot size and resolution\n",
    "plt.figure(figsize=(3.5, 2.5))\n",
    "\n",
    "# Plotting using grayscale colors for publication\n",
    "plt.bar(x - width/2, L_values, width, label='Left', color=colors[0], edgecolor='black')\n",
    "plt.bar(x + width/2, R_values, width, label='Rright', color=colors[1], edgecolor='black')\n",
    "\n",
    "# Adding labels, title, and legend with larger fonts for publication\n",
    "plt.xlabel('Animals', fontsize=16)\n",
    "plt.ylabel('Ratio', fontsize=16)\n",
    "plt.title('Ratio of SI Cells ('+ phase+')', fontsize=18)\n",
    "plt.xticks(x, animals, fontsize=10)\n",
    "plt.yticks(fontsize=10)\n",
    "plt.legend(fontsize=10)\n",
    "# Hide the top spine using plt.gca() to get the current axes\n",
    "plt.gca().spines['top'].set_visible(False)\n",
    "\n",
    "# Optionally hide the right spine as well\n",
    "plt.gca().spines['right'].set_visible(False)\n",
    "#plt.spines['right'].set_visible(False)\n",
    "# Tight layout for better spacing\n",
    "plt.tight_layout()\n",
    "plt.ylim([0,1])\n",
    "\n",
    "plt.savefig(savefolder+'SI_cell_ratio_'+phase+'.svg', format='svg')\n",
    "# Save the figure in high resolution (publication-ready)\n",
    "#plt.savefig('LR_Pairs_Publication_Figure.png', format='png', dpi=300)\n",
    "\n",
    "# Show plot\n",
    "plt.show()"
   ]
  },
  {
   "cell_type": "code",
   "execution_count": 8,
   "metadata": {},
   "outputs": [
    {
     "data": {
      "text/plain": [
       "'C:\\\\Users\\\\hamed\\\\Desktop\\\\Hamed\\\\Github\\\\TP7\\\\results_new\\\\'"
      ]
     },
     "execution_count": 8,
     "metadata": {},
     "output_type": "execute_result"
    }
   ],
   "source": [
    "savefolder"
   ]
  },
  {
   "cell_type": "code",
   "execution_count": 9,
   "metadata": {},
   "outputs": [
    {
     "name": "stderr",
     "output_type": "stream",
     "text": [
      "c:\\Users\\hamed\\anaconda3\\lib\\site-packages\\numpy\\lib\\function_base.py:2897: RuntimeWarning: invalid value encountered in divide\n",
      "  c /= stddev[:, None]\n",
      "c:\\Users\\hamed\\anaconda3\\lib\\site-packages\\numpy\\lib\\function_base.py:2898: RuntimeWarning: invalid value encountered in divide\n",
      "  c /= stddev[None, :]\n"
     ]
    },
    {
     "ename": "KeyboardInterrupt",
     "evalue": "",
     "output_type": "error",
     "traceback": [
      "\u001b[1;31m---------------------------------------------------------------------------\u001b[0m",
      "\u001b[1;31mKeyboardInterrupt\u001b[0m                         Traceback (most recent call last)",
      "Input \u001b[1;32mIn [9]\u001b[0m, in \u001b[0;36m<cell line: 4>\u001b[1;34m()\u001b[0m\n\u001b[0;32m     27\u001b[0m sig_sort_idx_l\u001b[38;5;241m=\u001b[39mnp\u001b[38;5;241m.\u001b[39margsort(np\u001b[38;5;241m.\u001b[39margmax(left_runs,axis\u001b[38;5;241m=\u001b[39m\u001b[38;5;241m1\u001b[39m))\n\u001b[0;32m     28\u001b[0m sig_sort_idx_r\u001b[38;5;241m=\u001b[39mnp\u001b[38;5;241m.\u001b[39margsort(np\u001b[38;5;241m.\u001b[39margmax(right_runs,axis\u001b[38;5;241m=\u001b[39m\u001b[38;5;241m1\u001b[39m))\n\u001b[1;32m---> 31\u001b[0m correlation_l_r,correlation_l_r_stem,similarity_between_l_and_r_all,mask_cut_l\u001b[38;5;241m=\u001b[39m \u001b[43mpf\u001b[49m\u001b[38;5;241;43m.\u001b[39;49m\u001b[43mcompute_corrleation\u001b[49m\u001b[43m(\u001b[49m\u001b[43mleft_runs\u001b[49m\u001b[43m[\u001b[49m\u001b[43msig_sort_idx_l\u001b[49m\u001b[43m]\u001b[49m\u001b[43m,\u001b[49m\u001b[43mright_runs\u001b[49m\u001b[43m[\u001b[49m\u001b[43msig_sort_idx_l\u001b[49m\u001b[43m]\u001b[49m\u001b[43m)\u001b[49m\n\u001b[0;32m     32\u001b[0m p_val_cells_l,mask_cut_l \u001b[38;5;241m=\u001b[39m pf\u001b[38;5;241m.\u001b[39mshuffling_rates2(cluster_pc_fractions_L,cluster_pc_fractions_R,sig_sort_idx_l)\n\u001b[0;32m     35\u001b[0m \u001b[38;5;66;03m#sorted_r,sorted_l,significant_cell_idx_sorted_r = sort_clusters_cells(cluster_pc_fractions_R,cluster_pc_fractions_L)\u001b[39;00m\n",
      "File \u001b[1;32mc:\\Users\\hamed\\Desktop\\Hamed\\Github\\TP7\\PFC_sequence_analysis\\pftools.py:647\u001b[0m, in \u001b[0;36mcompute_corrleation\u001b[1;34m(sorted_l, sorted_r)\u001b[0m\n\u001b[0;32m    645\u001b[0m similarity_between_l_and_r_all \u001b[38;5;241m=\u001b[39m []\n\u001b[0;32m    646\u001b[0m \u001b[38;5;28;01mfor\u001b[39;00m l_cell, r_cell \u001b[38;5;129;01min\u001b[39;00m \u001b[38;5;28mzip\u001b[39m(sorted_l, sorted_r):\n\u001b[1;32m--> 647\u001b[0m     similarity_between_l_and_r_all\u001b[38;5;241m.\u001b[39mappend(\u001b[43mnp\u001b[49m\u001b[38;5;241;43m.\u001b[39;49m\u001b[43mcorrcoef\u001b[49m\u001b[43m(\u001b[49m\u001b[43ml_cell\u001b[49m\u001b[43m,\u001b[49m\u001b[43m \u001b[49m\u001b[43mr_cell\u001b[49m\u001b[43m)\u001b[49m[\u001b[38;5;241m0\u001b[39m, \u001b[38;5;241m1\u001b[39m])\n\u001b[0;32m    649\u001b[0m \u001b[38;5;28;01mreturn\u001b[39;00m similarity_between_l_and_r_arms, similarity_between_l_and_r_stem, similarity_between_l_and_r_all, mask_cut\n",
      "File \u001b[1;32mc:\\Users\\hamed\\anaconda3\\lib\\site-packages\\numpy\\lib\\function_base.py:2889\u001b[0m, in \u001b[0;36mcorrcoef\u001b[1;34m(x, y, rowvar, bias, ddof, dtype)\u001b[0m\n\u001b[0;32m   2885\u001b[0m \u001b[38;5;28;01mif\u001b[39;00m bias \u001b[38;5;129;01mis\u001b[39;00m \u001b[38;5;129;01mnot\u001b[39;00m np\u001b[38;5;241m.\u001b[39m_NoValue \u001b[38;5;129;01mor\u001b[39;00m ddof \u001b[38;5;129;01mis\u001b[39;00m \u001b[38;5;129;01mnot\u001b[39;00m np\u001b[38;5;241m.\u001b[39m_NoValue:\n\u001b[0;32m   2886\u001b[0m     \u001b[38;5;66;03m# 2015-03-15, 1.10\u001b[39;00m\n\u001b[0;32m   2887\u001b[0m     warnings\u001b[38;5;241m.\u001b[39mwarn(\u001b[38;5;124m'\u001b[39m\u001b[38;5;124mbias and ddof have no effect and are deprecated\u001b[39m\u001b[38;5;124m'\u001b[39m,\n\u001b[0;32m   2888\u001b[0m                   \u001b[38;5;167;01mDeprecationWarning\u001b[39;00m, stacklevel\u001b[38;5;241m=\u001b[39m\u001b[38;5;241m2\u001b[39m)\n\u001b[1;32m-> 2889\u001b[0m c \u001b[38;5;241m=\u001b[39m \u001b[43mcov\u001b[49m\u001b[43m(\u001b[49m\u001b[43mx\u001b[49m\u001b[43m,\u001b[49m\u001b[43m \u001b[49m\u001b[43my\u001b[49m\u001b[43m,\u001b[49m\u001b[43m \u001b[49m\u001b[43mrowvar\u001b[49m\u001b[43m,\u001b[49m\u001b[43m \u001b[49m\u001b[43mdtype\u001b[49m\u001b[38;5;241;43m=\u001b[39;49m\u001b[43mdtype\u001b[49m\u001b[43m)\u001b[49m\n\u001b[0;32m   2890\u001b[0m \u001b[38;5;28;01mtry\u001b[39;00m:\n\u001b[0;32m   2891\u001b[0m     d \u001b[38;5;241m=\u001b[39m diag(c)\n",
      "File \u001b[1;32mc:\\Users\\hamed\\anaconda3\\lib\\site-packages\\numpy\\lib\\function_base.py:2747\u001b[0m, in \u001b[0;36mcov\u001b[1;34m(m, y, rowvar, bias, ddof, fweights, aweights, dtype)\u001b[0m\n\u001b[0;32m   2745\u001b[0m \u001b[38;5;28;01melse\u001b[39;00m:\n\u001b[0;32m   2746\u001b[0m     X_T \u001b[38;5;241m=\u001b[39m (X\u001b[38;5;241m*\u001b[39mw)\u001b[38;5;241m.\u001b[39mT\n\u001b[1;32m-> 2747\u001b[0m c \u001b[38;5;241m=\u001b[39m \u001b[43mdot\u001b[49m\u001b[43m(\u001b[49m\u001b[43mX\u001b[49m\u001b[43m,\u001b[49m\u001b[43m \u001b[49m\u001b[43mX_T\u001b[49m\u001b[38;5;241;43m.\u001b[39;49m\u001b[43mconj\u001b[49m\u001b[43m(\u001b[49m\u001b[43m)\u001b[49m\u001b[43m)\u001b[49m\n\u001b[0;32m   2748\u001b[0m c \u001b[38;5;241m*\u001b[39m\u001b[38;5;241m=\u001b[39m np\u001b[38;5;241m.\u001b[39mtrue_divide(\u001b[38;5;241m1\u001b[39m, fact)\n\u001b[0;32m   2749\u001b[0m \u001b[38;5;28;01mreturn\u001b[39;00m c\u001b[38;5;241m.\u001b[39msqueeze()\n",
      "\u001b[1;31mKeyboardInterrupt\u001b[0m: "
     ]
    }
   ],
   "source": [
    "## Devide Cells into PC and TC\n",
    "rate_L_R_all_phases={}\n",
    "cell_types_all_phases={}\n",
    "for ph in ['learning','learned']:\n",
    "    rate_L_R={}\n",
    "\n",
    "    l_length={}\n",
    "    r_length={}\n",
    "    cell_types_all={}\n",
    "    for animal_name in allfolders2:\n",
    "        # cluster_pc_fractions_L=np.load(savefolder+animal_name+'outward_'+'L'+'_'+ph+'_correct_No_chunk_0.5s_transients_Alltest_neworder_with_templates_place_cell_data'+chosen_cell_type,allow_pickle=True)\n",
    "        # cluster_pc_fractions_R=np.load(savefolder+animal_name+'outward_'+'R'+'_'+ph+'_correct_No_chunk_0.5s_transients_Alltest_neworder_with_templates_place_cell_data'+chosen_cell_type,allow_pickle=True)\n",
    "        data = np.load(savefolder+animal_name+'Sesseion_info'+'_with_PC',allow_pickle=True)\n",
    "\n",
    "\n",
    "        cluster_pc_fractions_L=data['place_cells_data'][ph]['L']\n",
    "        cluster_pc_fractions_R=data['place_cells_data'][ph]['R']\n",
    "\n",
    "        rate_L_R[animal_name+'_'+'L']=cluster_pc_fractions_L\n",
    "        rate_L_R[animal_name+'_'+'R']=cluster_pc_fractions_R\n",
    "\n",
    "        #sorted_l,sorted_r,significant_cell_idx_sorted_l = sort_clusters_cells(cluster_pc_fractions_L,cluster_pc_fractions_R)\n",
    "\n",
    "        left_runs=cluster_pc_fractions_L['rate_all']#[cluster_pc_fractions_L['significant']]\n",
    "        right_runs=cluster_pc_fractions_R['rate_all']#[cluster_pc_fractions_L['significant']]\n",
    "\n",
    "        sig_sort_idx_l=np.argsort(np.argmax(left_runs,axis=1))\n",
    "        sig_sort_idx_r=np.argsort(np.argmax(right_runs,axis=1))\n",
    "\n",
    "\n",
    "        correlation_l_r,correlation_l_r_stem,similarity_between_l_and_r_all,mask_cut_l= pf.compute_corrleation(left_runs[sig_sort_idx_l],right_runs[sig_sort_idx_l])\n",
    "        p_val_cells_l,mask_cut_l = pf.shuffling_rates2(cluster_pc_fractions_L,cluster_pc_fractions_R,sig_sort_idx_l)\n",
    "\n",
    "\n",
    "        #sorted_r,sorted_l,significant_cell_idx_sorted_r = sort_clusters_cells(cluster_pc_fractions_R,cluster_pc_fractions_L)\n",
    "        correlation_r_l,correlation_r_l_stem,similarity_between_r_and_l_all,mask_cut_r= pf.compute_corrleation(right_runs[sig_sort_idx_r],left_runs[sig_sort_idx_r])\n",
    "        p_val_cells_r,mask_cut_r= pf.shuffling_rates2(cluster_pc_fractions_R,cluster_pc_fractions_L,sig_sort_idx_r)\n",
    "\n",
    "        sig_idx_l=np.where(cluster_pc_fractions_L['significant'])[0]\n",
    "        sig_idx_l_sorted = np.isin(sig_sort_idx_l, sig_idx_l)# SI and sorted l\n",
    "\n",
    "        sig_idx_r=np.where(cluster_pc_fractions_R['significant'])[0]\n",
    "        sig_idx_r_sorted = np.isin(sig_sort_idx_r, sig_idx_r)# SI and sorted r\n",
    "\n",
    "        mask_corr_l=p_val_cells_l<0.05\n",
    "        mask_corr_r=p_val_cells_r<0.05\n",
    "\n",
    "\n",
    "        tc_arm_cell_l= sig_idx_l_sorted & mask_cut_l & mask_corr_l\n",
    "        tc_arm_cell_r= sig_idx_r_sorted & mask_cut_r & mask_corr_r\n",
    "\n",
    "        pc_arm_cell_l= sig_idx_l_sorted & mask_cut_l & ~mask_corr_l\n",
    "        pc_arm_cell_r= sig_idx_r_sorted & mask_cut_r & ~mask_corr_r\n",
    "\n",
    "        tc_stem_cell_l= sig_idx_l_sorted & ~mask_cut_l & mask_corr_l\n",
    "        tc_stem_cell_r= sig_idx_r_sorted & ~mask_cut_r & mask_corr_r\n",
    "\n",
    "        pc_stem_cell_l= sig_idx_l_sorted & ~mask_cut_l & ~mask_corr_l\n",
    "        pc_stem_cell_r= sig_idx_r_sorted & ~mask_cut_r & ~mask_corr_r\n",
    "\n",
    "\n",
    "        place_cell_vs_target_cell={}\n",
    "        Cell_types_rate={}\n",
    "\n",
    "        Cell_types_rate['TC_arm']=np.union1d(sig_sort_idx_l[tc_arm_cell_l],sig_sort_idx_r[tc_arm_cell_r])\n",
    "        Cell_types_rate['PC_arm']=np.union1d(sig_sort_idx_l[pc_arm_cell_l],sig_sort_idx_r[pc_arm_cell_r])\n",
    "        Cell_types_rate['TC_stem']=np.union1d(sig_sort_idx_l[tc_stem_cell_l],sig_sort_idx_r[tc_stem_cell_r])\n",
    "        Cell_types_rate['PC_stem']=np.union1d(sig_sort_idx_l[pc_stem_cell_l],sig_sort_idx_r[pc_stem_cell_r])\n",
    "\n",
    "\n",
    "        cell_types_all[animal_name]=Cell_types_rate\n",
    "    cell_types_all_phases[ph]=cell_types_all # indices of cells that are a cell type\n",
    "    rate_L_R_all_phases[ph]=rate_L_R\n",
    "    \n",
    "import pickle\n",
    "cell_types= savefolder+'_Cell_types'\n",
    "\n",
    "with open(cell_types, 'wb') as file:\n",
    "    pickle.dump(cell_types_all_phases, file)\n"
   ]
  },
  {
   "cell_type": "code",
   "execution_count": 24,
   "metadata": {},
   "outputs": [
    {
     "name": "stdout",
     "output_type": "stream",
     "text": [
      "learning478 []\n",
      "learning481 []\n",
      "learning483 []\n",
      "learning485 []\n",
      "learned478 []\n",
      "learned481 []\n",
      "learned483 []\n",
      "learned485 []\n",
      "learning478 []\n",
      "learning481 []\n",
      "learning483 []\n",
      "learning485 []\n",
      "learned478 [30]\n",
      "learned481 []\n",
      "learned483 []\n",
      "learned485 []\n"
     ]
    }
   ],
   "source": [
    "import copy\n",
    "\n",
    "cell_types_all_phases_modified=copy.deepcopy(cell_types_all_phases)\n",
    "for ph,phadata in cell_types_all_phases.items():\n",
    "    for anm,anmdata in phadata.items():\n",
    "            \n",
    "            #cmncells=np.intersect1d(anmdata['PC_stem'],anmdata['PC_arm'])\n",
    "\n",
    "            pc_tc_stem=np.intersect1d(anmdata['PC_stem'],anmdata['TC_stem'])\n",
    "            pc_removed=cell_types_all_phases[ph][anm]['PC_stem'][~np.isin(cell_types_all_phases[ph][anm]['PC_stem'], pc_tc_stem)]\n",
    "            cell_types_all_phases_modified[ph][anm]['PC_stem']=pc_removed\n",
    "\n",
    "\n",
    "            pc_tc_arm=np.intersect1d(anmdata['PC_arm'],anmdata['TC_arm'])\n",
    "            pc_removed=cell_types_all_phases[ph][anm]['PC_arm'][~np.isin(cell_types_all_phases[ph][anm]['PC_arm'], pc_tc_arm)]\n",
    "            cell_types_all_phases_modified[ph][anm]['PC_arm']=pc_removed\n",
    "\n",
    "            pc_tc_stem=np.intersect1d(cell_types_all_phases_modified[ph][anm]['PC_arm'],anmdata['TC_arm'])\n",
    "\n",
    "            \n",
    "            #cmncells=np.intersect1d(anmdata['TC_stem'],anmdata['TC_arm'])\n",
    "            #cmncells=np.intersect1d(anmdata['TC_arm'],anmdata['PC_arm'])\n",
    "\n",
    "            print(ph+anm,pc_tc_stem)\n",
    "\n",
    "\n",
    "cell_types_all_phases=copy.deepcopy(cell_types_all_phases_modified)\n",
    "\n",
    "\n",
    "\n",
    "for ph,phadata in cell_types_all_phases.items():\n",
    "    for anm,anmdata in phadata.items():\n",
    "            \n",
    "            #cmncells=np.intersect1d(anmdata['PC_stem'],anmdata['PC_arm'])\n",
    "            cmncells=np.intersect1d(anmdata['PC_stem'],anmdata['PC_arm'])\n",
    "            cmncells=np.intersect1d(anmdata['TC_stem'],anmdata['TC_arm'])\n",
    "            #cmncells=np.intersect1d(anmdata['TC_arm'],anmdata['PC_arm'])\n",
    "\n",
    "            print(ph+anm,cmncells)\n",
    "    \n"
   ]
  },
  {
   "cell_type": "code",
   "execution_count": 25,
   "metadata": {},
   "outputs": [
    {
     "data": {
      "text/plain": [
       "Text(0.5, 0.98, 'TC_stem')"
      ]
     },
     "execution_count": 25,
     "metadata": {},
     "output_type": "execute_result"
    },
    {
     "data": {
      "image/png": "[encoded data removed]",
      "text/plain": [
       "<Figure size 576x360 with 2 Axes>"
      ]
     },
     "metadata": {
      "needs_background": "light"
     },
     "output_type": "display_data"
    }
   ],
   "source": [
    "## Example plot cell type rate maps \n",
    "\n",
    "fig, (ax,ax2) = plt.subplots(1, 2,figsize=(8, 5))\n",
    "typeofcelss='TC_stem'\n",
    "# im = ax.pcolormesh(y_ax, np.arange(np.shape(left_runs[~mask_cut & ~mask_corr])[0]), left_runs[sig_sort_idx][~mask_cut & ~mask_corr]/np.max(np.asarray(left_runs)[sig_sort_idx][~mask_cut & ~mask_corr],axis=1)[:, np.newaxis],\n",
    "#                    rasterized=True)\n",
    "# Replace NaN with zero before normalization\n",
    "cleaned_data = rate_L_R_all_phases['learning']['485_L']['rate_all'][cell_types_all_phases['learning']['485'][typeofcelss]]\n",
    "\n",
    "# Normalize the data row-wise, handling cases where the max value is zero\n",
    "max_values = np.max(cleaned_data, axis=1, keepdims=True)\n",
    "normalized_data = np.divide(\n",
    "    cleaned_data,\n",
    "    max_values,\n",
    "    out=np.zeros_like(cleaned_data),  # Fill with zeros where division is invalid\n",
    "    where=max_values > 0  # Only divide where max_values > 0\n",
    ")\n",
    "\n",
    "# Plot the cleaned and normalized data\n",
    "im = ax.pcolormesh(\n",
    "    y_ax,\n",
    "    np.arange(np.shape(normalized_data)[0]),\n",
    "    normalized_data,\n",
    "    rasterized=True,\n",
    "    cmap='viridis'\n",
    ")\n",
    "ax.set_ylabel('Cell #')\n",
    "ax.set_xlabel('Position [norm]')\n",
    "#plt.colorbar(im, ax=ax)\n",
    "plt.subplot(122)\n",
    "ax.set_title('Left Runs')\n",
    "\n",
    "\n",
    "\n",
    "cleaned_data =rate_L_R_all_phases['learning']['485_R']['rate_all'][cell_types_all_phases['learning']['485'][typeofcelss]]\n",
    "max_values = np.max(cleaned_data, axis=1, keepdims=True)\n",
    "\n",
    "normalized_data = np.divide(\n",
    "    cleaned_data,\n",
    "    max_values,\n",
    "    out=np.zeros_like(cleaned_data),  # Fill with zeros where division is invalid\n",
    "    where=max_values > 0  # Only divide where max_values > 0)\n",
    ")\n",
    "im = ax2.pcolormesh(\n",
    "    y_ax,\n",
    "    np.arange(np.shape(normalized_data)[0]),\n",
    "    normalized_data,\n",
    "    rasterized=True,\n",
    "    cmap='viridis'\n",
    ")\n",
    "\n",
    "plt.suptitle(typeofcelss)"
   ]
  },
  {
   "cell_type": "code",
   "execution_count": 26,
   "metadata": {},
   "outputs": [],
   "source": [
    "# get the data of all animals and compare the significant place cells of learning with learned. to see the effect of learning on pc statistics.\n",
    "\n",
    "Compare_learning_learned_PC={'learning':{},'learned':{},'all':{}}\n",
    "allfolders2=['478','481','483','485']\n",
    "Rates={'learning':{},'learned':{},'all':{}}\n",
    "Rates_sh={'learning':{},'learned':{},'all':{}}\n",
    "\n",
    "#allfolders2=['485']\n",
    "\n",
    "direction=['L','R']\n",
    "\n",
    "phases=['learning','learned']\n",
    "\n",
    "for phase in phases:\n",
    "    rates_animal={}\n",
    "    rates_sh_animal={}\n",
    "\n",
    "    PC_fol_stats={}\n",
    "    for fol1 in allfolders2:\n",
    "        PC_dir_stats={}\n",
    "        rate_dir={}\n",
    "        rate_sh_dir={}\n",
    "\n",
    "        for dir in direction:\n",
    "            #cluster_pc_fractions=np.load(savefolder+fol1+'outward_'+dir+'_'+phase+'_correct_No_chunk_0.5s_transients_Alltest_neworder_with_templates_place_cell_data'+chosen_cell_type,allow_pickle=True)\n",
    "        \n",
    "            data = np.load(savefolder+fol1+'Sesseion_info'+'_with_PC',allow_pickle=True)\n",
    "\n",
    "\n",
    "            #cluster_pc_fractions=np.load(savefolder+fol1+'outward_'+dir+'_'+phase+'_correct_No_chunk_0.5s_transients_Alltest_neworder_with_templates_place_cell_data',allow_pickle=True)\n",
    "           # PC_dir_stats[dir]= np.sum(cluster_pc_fractions['significant'])/len(cluster_pc_fractions['significant'])\n",
    "            PC_dir_stats[dir]= data['place_cells_data'][phase][dir]['significant']\n",
    "            rate_dir[dir]=data['place_cells_data'][phase][dir]['rate_all']\n",
    "            rate_sh_dir[dir]=data['place_cells_data'][phase][dir]['rate_all_shuffled']\n",
    "\n",
    "            \n",
    "        rates_animal[fol1]=rate_dir\n",
    "        rates_sh_animal[fol1]=rate_sh_dir\n",
    "\n",
    "        PC_fol_stats[fol1]=PC_dir_stats\n",
    "    Rates[phase]=rates_animal\n",
    "    Rates_sh[phase]=rates_sh_animal\n",
    "\n",
    "    Compare_learning_learned_PC[phase]=PC_fol_stats# Masks of SI cells"
   ]
  },
  {
   "cell_type": "code",
   "execution_count": 27,
   "metadata": {},
   "outputs": [],
   "source": [
    "\n",
    "\n",
    "# Get index of cell types (TC/PC)\n",
    "cell_type_mask_phases={}\n",
    "for ph in cell_types_all_phases.keys():\n",
    "\n",
    "    cell_type_mask={}\n",
    "    for fol in cell_types_all_phases[ph].keys():\n",
    "        cell_type_mask_fol={}\n",
    "\n",
    "        for type_indx in cell_types_all_phases[ph][fol].keys():\n",
    "            mask = np.zeros_like(Compare_learning_learned_PC[ph][fol]['R'])\n",
    "\n",
    "            mask[cell_types_all_phases[ph][fol][type_indx]]=True\n",
    "            cell_type_mask_fol[type_indx]=mask\n",
    "            #cell_type_mask[fol]={type_indx:mask}\n",
    "        cell_type_mask[fol] = cell_type_mask_fol\n",
    "    cell_type_mask_phases[ph]=cell_type_mask # make Mask of cell types"
   ]
  },
  {
   "cell_type": "code",
   "execution_count": 28,
   "metadata": {},
   "outputs": [],
   "source": [
    "\n",
    "\n",
    "# Example for the 'learning' condition\n",
    "learning_ratios = pf.compute_significant_ratios(cell_type_mask_phases, 'learning')\n",
    "learned_ratios = pf.compute_significant_ratios(cell_type_mask_phases, 'learned')\n",
    "\n",
    "\n",
    "\n",
    "\n",
    "# Compute average for learning and learned ratios\n",
    "avg_learning_ratios,std_learning_ratios = pf.compute_average_ratios(learning_ratios)\n",
    "avg_learned_ratios,std_learned_ratios = pf.compute_average_ratios(learned_ratios)\n"
   ]
  },
  {
   "cell_type": "code",
   "execution_count": 29,
   "metadata": {},
   "outputs": [],
   "source": [
    "\n",
    "\n",
    "# Compute the transitions between learning and learned conditions\n",
    "transitions_ratios = pf.compute_significant_transitions_new(cell_type_mask_phases)\n",
    "\n",
    "avg_transitions_with_remained = pf.compute_average_transitions_with_remained_new(transitions_ratios)\n",
    "\n"
   ]
  },
  {
   "cell_type": "code",
   "execution_count": 30,
   "metadata": {},
   "outputs": [
    {
     "name": "stdout",
     "output_type": "stream",
     "text": [
      "0.22988505747126436\n"
     ]
    },
    {
     "data": {
      "image/png": "[encoded data removed]",
      "text/plain": [
       "<Figure size 432x432 with 8 Axes>"
      ]
     },
     "metadata": {
      "needs_background": "light"
     },
     "output_type": "display_data"
    },
    {
     "name": "stdout",
     "output_type": "stream",
     "text": [
      "0.1111111111111111\n"
     ]
    },
    {
     "data": {
      "image/png": "[encoded data removed]",
      "text/plain": [
       "<Figure size 432x432 with 8 Axes>"
      ]
     },
     "metadata": {
      "needs_background": "light"
     },
     "output_type": "display_data"
    },
    {
     "name": "stdout",
     "output_type": "stream",
     "text": [
      "0.24731182795698925\n"
     ]
    },
    {
     "name": "stderr",
     "output_type": "stream",
     "text": [
      "C:\\Users\\hamed\\AppData\\Local\\Temp\\ipykernel_13544\\955205564.py:79: RuntimeWarning: invalid value encountered in long_scalars\n",
      "  PC_ratios[animal]['tc_became_non_tc']=np.sum(TC_to_Non_TC)/np.sum(TC_learning)## cells that were  TC before learning and became Non_TC after learning\n",
      "C:\\Users\\hamed\\AppData\\Local\\Temp\\ipykernel_13544\\955205564.py:84: RuntimeWarning: invalid value encountered in long_scalars\n",
      "  PC_ratios[animal]['tc_became_pc']=np.sum(TC_to_PC)/np.sum(TC_learning)## cells that were  TC before learning and became Non_TC after learning\n",
      "C:\\Users\\hamed\\AppData\\Local\\Temp\\ipykernel_13544\\955205564.py:85: RuntimeWarning: invalid value encountered in long_scalars\n",
      "  PC_ratios[animal]['tc_became_Non_SI']=np.sum(TC_to_Non_SI)/np.sum(TC_learning)## cells that were  TC before learning and became Non_TC after learning\n",
      "C:\\Users\\hamed\\AppData\\Local\\Temp\\ipykernel_13544\\955205564.py:86: RuntimeWarning: invalid value encountered in long_scalars\n",
      "  PC_ratios[animal]['tc_became_tc_learning']=np.sum(TC_to_TC)/np.sum(TC_learning)## cells that were  TC before learning and became Non_TC after learning\n"
     ]
    },
    {
     "data": {
      "image/png": "[encoded data removed]",
      "text/plain": [
       "<Figure size 432x432 with 8 Axes>"
      ]
     },
     "metadata": {
      "needs_background": "light"
     },
     "output_type": "display_data"
    },
    {
     "name": "stdout",
     "output_type": "stream",
     "text": [
      "0.14678899082568808\n"
     ]
    },
    {
     "data": {
      "image/png": "[encoded data removed]",
      "text/plain": [
       "<Figure size 432x432 with 8 Axes>"
      ]
     },
     "metadata": {
      "needs_background": "light"
     },
     "output_type": "display_data"
    }
   ],
   "source": [
    "# Evaluate the identity of PCs that became non_PC after learning\n",
    "PC_Transitions={animal:{} for animal in allfolders2}\n",
    "\n",
    "PC_Transitions2={animal:{} for animal in allfolders2}\n",
    "PC_ratios={animal:{} for animal in allfolders2}\n",
    "PC_to_TC_ratios={animal:{} for animal in allfolders2}\n",
    "PC_Stability={animal:{} for animal in allfolders2}\n",
    "for animal in allfolders2:\n",
    "\n",
    "    PC_learning=(cell_type_mask_phases['learning'][animal]['PC_arm'] | cell_type_mask_phases['learning'][animal]['PC_stem'])\n",
    "    PC_learned=(cell_type_mask_phases['learned'][animal]['PC_arm'] | cell_type_mask_phases['learned'][animal]['PC_stem'])\n",
    "    PC_to_Non_PC= PC_learning & ~PC_learned# PCs that became non_PC\n",
    "    Rates['learning'][animal]\n",
    "\n",
    "    print(np.sum(PC_to_Non_PC)/len(PC_to_Non_PC))\n",
    "\n",
    "    TC_learning=(cell_type_mask_phases['learning'][animal]['TC_arm'] | cell_type_mask_phases['learning'][animal]['TC_stem'])\n",
    "    TC_learned=(cell_type_mask_phases['learned'][animal]['TC_arm'] | cell_type_mask_phases['learned'][animal]['TC_stem'])\n",
    "    TC_to_Non_TC= TC_learning & ~TC_learned\n",
    "    Non_TC_to_TC= ~TC_learning & TC_learned\n",
    "    TC_to_TC=TC_learning & TC_learned\n",
    "    TC_to_PC= TC_learning & PC_learned\n",
    "\n",
    "     # plt.plot(~(Compare_learning_learned_PC['learning'][animal]['R']| Compare_learning_learned_PC['learning'][animal]['L']),alpha=.5)\n",
    "     # plt.plot(~(cell_type_mask_phases['learning'][animal]['PC_arm'] | cell_type_mask_phases['learning'][animal]['PC_stem'] | cell_type_mask_phases['learning'][animal]['TC_arm'] | cell_type_mask_phases['learning'][animal]['TC_stem']),alpha=.5)\n",
    "\n",
    "    non_si_learning=~(cell_type_mask_phases['learning'][animal]['PC_arm'] | cell_type_mask_phases['learning'][animal]['PC_stem'] | cell_type_mask_phases['learning'][animal]['TC_arm'] | cell_type_mask_phases['learning'][animal]['TC_stem'])\n",
    "    non_si_learned=~(cell_type_mask_phases['learned'][animal]['PC_arm'] | cell_type_mask_phases['learned'][animal]['PC_stem'] | cell_type_mask_phases['learned'][animal]['TC_arm'] | cell_type_mask_phases['learned'][animal]['TC_stem'])\n",
    "    TC_to_Non_SI= TC_learning & non_si_learned\n",
    "\n",
    "    Non_SI_learning=~PC_learning & ~TC_learning\n",
    "\n",
    "    Non_si_became_TC=non_si_learning & TC_learned\n",
    "    SI_learned = TC_learned | PC_learned\n",
    "\n",
    "\n",
    "    PC_to_TC = PC_learning & TC_learned\n",
    "    #PC_Transitions[animal]['PC_became_TC']= np.sum(PC_to_Non_PC & TC_learned)/len(TC_learned)# How many percent of PC turned to TC after learning.\n",
    "    #PC_Transitions[animal]['PC_became_TC']= np.sum(PC_to_Non_PC & TC_learned)/np.sum(SI_learned)# How many percent of PC turned to TC after learning.\n",
    "\n",
    "\n",
    "    PC_to_Non_PC_arm=(cell_type_mask_phases['learning'][animal]['PC_arm'] & ~cell_type_mask_phases['learned'][animal]['PC_arm'])\n",
    "    PC_to_Non_PC_stem=(cell_type_mask_phases['learning'][animal]['PC_stem'] & ~cell_type_mask_phases['learned'][animal]['PC_stem'])\n",
    "\n",
    "#     PC_Transitions[animal]['PC_arm_became_TC_arm']=np.sum((cell_type_mask_phases['learned'][animal]['TC_arm'] & PC_to_Non_PC_arm))/len(PC_to_Non_PC_arm)\n",
    "#     PC_Transitions[animal]['PC_arm_became_TC_stem']=np.sum((cell_type_mask_phases['learned'][animal]['TC_stem'] & PC_to_Non_PC_arm))/len(PC_to_Non_PC_arm)\n",
    "#     PC_Transitions[animal]['PC_stem_became_TC_arm']=np.sum((cell_type_mask_phases['learned'][animal]['TC_arm'] & PC_to_Non_PC_stem))/len(PC_to_Non_PC_stem)\n",
    "#     PC_Transitions[animal]['PC_stem_became_TC_stem']=np.sum((cell_type_mask_phases['learned'][animal]['TC_stem'] & PC_to_Non_PC_stem))/len(PC_to_Non_PC_stem)\n",
    "\n",
    "    # PC_Transitions[animal]['PC_arm_became_TC_arm']=np.sum((cell_type_mask_phases['learned'][animal]['TC_arm'] & PC_to_Non_PC_arm))/np.sum(SI_learned)\n",
    "    # PC_Transitions[animal]['PC_arm_became_TC_stem']=np.sum((cell_type_mask_phases['learned'][animal]['TC_stem'] & PC_to_Non_PC_arm))/np.sum(SI_learned)\n",
    "    # PC_Transitions[animal]['PC_stem_became_TC_stem']=np.sum((cell_type_mask_phases['learned'][animal]['TC_stem'] & PC_to_Non_PC_stem))/np.sum(SI_learned)\n",
    "    # PC_Transitions[animal]['PC_stem_became_TC_arm']=np.sum((cell_type_mask_phases['learned'][animal]['TC_arm'] & PC_to_Non_PC_stem))/np.sum(SI_learned)\n",
    "\n",
    "    PC_Transitions[animal]['PC_arm_became_TC_arm']=np.sum((cell_type_mask_phases['learned'][animal]['TC_arm'] & PC_to_Non_PC_arm))/np.sum(TC_learned)\n",
    "    PC_Transitions[animal]['PC_arm_became_TC_stem']=np.sum((cell_type_mask_phases['learned'][animal]['TC_stem'] & PC_to_Non_PC_arm))/np.sum(TC_learned)\n",
    "    PC_Transitions[animal]['PC_stem_became_TC_stem']=np.sum((cell_type_mask_phases['learned'][animal]['TC_stem'] & PC_to_Non_PC_stem))/np.sum(TC_learned)\n",
    "    PC_Transitions[animal]['PC_stem_became_TC_arm']=np.sum((cell_type_mask_phases['learned'][animal]['TC_arm'] & PC_to_Non_PC_stem))/np.sum(TC_learned)\n",
    "\n",
    "\n",
    "\n",
    "    PC_Transitions2[animal]['PC_arm_became_TC_arm']=np.sum(cell_type_mask_phases['learning'][animal]['PC_arm'] & cell_type_mask_phases['learned'][animal]['TC_arm'])/np.sum(TC_learned)\n",
    "    PC_Transitions2[animal]['PC_arm_became_TC_stem']=np.sum(cell_type_mask_phases['learning'][animal]['PC_arm'] & cell_type_mask_phases['learned'][animal]['TC_stem'])/np.sum(TC_learned)\n",
    "\n",
    "    PC_Transitions2[animal]['PC_stem_became_TC_stem']=np.sum(cell_type_mask_phases['learning'][animal]['PC_stem'] & cell_type_mask_phases['learned'][animal]['TC_stem'])/np.sum(TC_learned)\n",
    "    PC_Transitions2[animal]['PC_stem_became_TC_arm']=np.sum(cell_type_mask_phases['learning'][animal]['PC_stem'] & cell_type_mask_phases['learned'][animal]['TC_arm'])/np.sum(TC_learned)\n",
    "\n",
    "\n",
    "    PC_ratios[animal]['remained_pc']=np.sum((PC_learning) & (PC_learned))/np.sum(PC_learning)\n",
    "    #PC_ratios[animal]['became_tc']=np.sum((PC_learning) & (PC_to_Non_PC))/np.sum(PC_learning)\n",
    "    PC_ratios[animal]['became_tc']=np.sum((PC_learning) & (~PC_learned) & (TC_learned))/np.sum(PC_learning)\n",
    "    PC_ratios[animal]['pc_learning']=np.sum(PC_learning)/len(PC_learning)\n",
    "    # PC_ratios[animal]['non_si_became_tc']=np.sum(Non_si_became_TC)/len(PC_learning)# cells that were not SI before learning and became TC after learning\n",
    "    # PC_ratios[animal]['non_tc_became_tc']=np.sum(Non_TC_to_TC)/len(PC_learning)# # cells that were not TC before learning and became TC after learning\n",
    "    # PC_ratios[animal]['tc_became_non_tc']=np.sum(TC_to_Non_TC)/len(PC_learning)## cells that were  TC before learning and became Non_TC after learning\n",
    "\n",
    "    PC_ratios[animal]['non_si_became_tc']=np.sum(Non_si_became_TC)/np.sum(TC_learned)# cells that were not SI before learning and became TC after learning\n",
    "    PC_ratios[animal]['non_tc_became_tc']=np.sum(Non_TC_to_TC)/np.sum(TC_learned)# # cells that were not TC before learning and became TC after learning\n",
    "    PC_ratios[animal]['tc_became_non_tc']=np.sum(TC_to_Non_TC)/np.sum(TC_learning)## cells that were  TC before learning and became Non_TC after learning\n",
    "    PC_ratios[animal]['pc_became_tc']=np.sum(PC_to_TC)/np.sum(TC_learned)## cells that were  TC before learning and became Non_TC after learning\n",
    "    PC_ratios[animal]['tc_became_tc']=np.sum(TC_to_TC)/np.sum(TC_learned)## cells that were  TC before learning and became Non_TC after learning\n",
    "\n",
    "\n",
    "    PC_ratios[animal]['tc_became_pc']=np.sum(TC_to_PC)/np.sum(TC_learning)## cells that were  TC before learning and became Non_TC after learning\n",
    "    PC_ratios[animal]['tc_became_Non_SI']=np.sum(TC_to_Non_SI)/np.sum(TC_learning)## cells that were  TC before learning and became Non_TC after learning\n",
    "    PC_ratios[animal]['tc_became_tc_learning']=np.sum(TC_to_TC)/np.sum(TC_learning)## cells that were  TC before learning and became Non_TC after learning\n",
    "\n",
    "\n",
    "    sig_l,sig_r,rate_pc_to_nonpc_learned_L,rate_pc_to_nonpc_learned_R,rate_pc_learning_L,rate_pc_learning_R= pf.significant_pc_to_tc(Rates,Rates_sh,TC_learned,PC_to_Non_PC,animal)\n",
    "\n",
    "    PC_to_TC_ratios[animal]['PC_to_nonPC'] = len(sig_l)/len(PC_to_Non_PC)# ratio of cells that are PC and became NON-PC\n",
    "\n",
    "    PC_to_TC_ratios[animal]['Left']=np.sum(sig_l)/len(sig_l)# howmany precent of PC_to_nonPC (left) became TC \n",
    "    \n",
    "    PC_to_TC_ratios[animal]['right']=np.sum(sig_r)/len(sig_r)# howmany precent of PC_to_nonPC (right) became TC\n",
    "\n",
    "    # Your existing code variables\n",
    "    significant_cells = np.array(sig_l)\n",
    "    if np.sum(significant_cells)==0:\n",
    "         continue\n",
    "    \n",
    "\n",
    "    mpl.rcParams['axes.linewidth'] = 1.5\n",
    "    mpl.rcParams['xtick.major.width'] = 1.5\n",
    "    mpl.rcParams['ytick.major.width'] = 1.5\n",
    "    mpl.rcParams['xtick.labelsize'] = 26\n",
    "    mpl.rcParams['ytick.labelsize'] = 26\n",
    "    pf.plot_pc_turnedto_tc(rate_pc_learning_L,rate_pc_learning_R,rate_pc_to_nonpc_learned_R,rate_pc_to_nonpc_learned_L,sig_l,animal,savefolder,y_ax,label='Left')\n",
    "\n",
    "\n",
    "\n",
    "    TC_stable,PC_stable,TC_unstable,PC_unstable,Non_si=pf.significant_pc_to_tc_2(Rates,Rates_sh,TC_learned,PC_learning,PC_learned,animal,y_ax)\n",
    "\n",
    "    PC_Stability[animal]['To Stable PC']=np.sum(PC_stable)/np.sum(PC_learning)# Ratio of PCs that are stbale PC after learning\n",
    "    PC_Stability[animal]['To Stable TC']=np.sum(TC_stable)/np.sum(PC_learning)# Ratio of PCs that are stbale TC after learning\n",
    "\n",
    "    PC_Stability[animal]['To Unstable PC']=np.sum(PC_unstable)/np.sum(PC_learning)# ratio of PCs that are nonsig after learning\n",
    "\n",
    "    PC_Stability[animal]['To Unstable TC']=np.sum(TC_unstable)/np.sum(PC_learning)# ratio of PCs that are nonsig after learning\n",
    "    PC_Stability[animal]['To Non SI']=np.sum(Non_si)/np.sum(PC_learning)# ratio of PCs that are nonsig after learning\n",
    "\n",
    "\n",
    "\n",
    "    # Show the plot\n",
    "\n",
    "    #plot_pc_turnedto_tc(rate_pc_learning_R,rate_pc_learning_L,rate_pc_to_nonpc_learned_L,rate_pc_to_nonpc_learned_R,sig_r,animal,label='Right')\n",
    "    # sig_sort_idx_e = np.argsort(np.argmax(rate_pc_learning_L[significant_cells], axis=1))\n",
    "\n",
    "    # # Create figure and axes\n",
    "    # fig, (ax, ax2, ax3) = plt.subplots(1, 3, figsize=(12, 4), gridspec_kw={'width_ratios': [9, 9, 9]})\n",
    "    # # Get max for normalization\n",
    "    # max_o_e = np.max([np.max(rate_pc_learning_L[significant_cells][sig_sort_idx_e]), np.max(rate_pc_to_nonpc_learned_R[significant_cells][sig_sort_idx_e])])\n",
    "\n",
    "    # # Plot the rate maps for PC in Learning\n",
    "    # im1 = ax.pcolormesh(y_ax, np.arange(np.sum(significant_cells)), rate_pc_learning_L[significant_cells][sig_sort_idx_e] / max_o_e, rasterized=True)\n",
    "    # plt.colorbar(im1, ax=ax)\n",
    "    # ax.set_title('PC in Learning (Left)', fontsize=18)\n",
    "    # ax.set_xlabel('Position [norm]', fontsize=16)\n",
    "    # ax.set_ylabel('Cell #', fontsize=16)\n",
    "\n",
    "    # # Plot the rate maps for Non-PC in Learned\n",
    "    # im2 = ax2.pcolormesh(y_ax, np.arange(np.sum(significant_cells)), rate_pc_to_nonpc_learned_R[significant_cells][sig_sort_idx_e] / max_o_e,vmax=.1,rasterized=True)\n",
    "    # plt.colorbar(im2, ax=ax2)\n",
    "    # ax2.set_title('TC in Learned (Right)', fontsize=18)\n",
    "    # ax2.set_xlabel('Position [norm]', fontsize=16)\n",
    "\n",
    "\n",
    "    # # Plot the rate maps for Non-PC in Learned\n",
    "    # im3 = ax3.pcolormesh(y_ax, np.arange(np.sum(significant_cells)), rate_pc_to_nonpc_learned_L[significant_cells][sig_sort_idx_e] / max_o_e,vmax=.5,rasterized=True)\n",
    "    # plt.colorbar(im3, ax=ax3)\n",
    "    # ax3.set_title('TC in Learned (Left)', fontsize=18)\n",
    "    # ax3.set_xlabel('Position [norm]', fontsize=16)\n",
    "\n",
    "\n",
    "    # plt.suptitle('Only signficnats animal #:' +animal)\n",
    "    # plt.tight_layout()\n",
    "    # plt.show()\n"
   ]
  },
  {
   "cell_type": "code",
   "execution_count": null,
   "metadata": {},
   "outputs": [
    {
     "name": "stdout",
     "output_type": "stream",
     "text": [
      "Cell counts (per animal):\n",
      "  Animal  PC Learning Count  TC Learning Count  Non‑SI Learning Count\n",
      "0    478                 29                 24                     34\n",
      "1    481                 15                  3                     63\n",
      "2    483                 48                  0                     45\n",
      "3    485                 28                 12                     69\n",
      "478 23\n"
     ]
    },
    {
     "data": {
      "application/vnd.plotly.v1+json": {
       "config": {
        "plotlyServerURL": "https://plot.ly"
       },
       "data": [
        {
         "arrangement": "fixed",
         "link": {
          "color": [
           "rgba(164,118,182,0.5)",
           "rgba(164,118,182,0.5)",
           "rgba(164,118,182,0.5)",
           "rgba(76,166,76,0.5)",
           "rgba(76,166,76,0.5)",
           "rgba(76,166,76,0.5)",
           "rgba(166,166,166,0.5)",
           "rgba(166,166,166,0.5)",
           "rgba(166,166,166,0.5)"
          ],
          "source": [
           0,
           0,
           0,
           1,
           1,
           1,
           2,
           2,
           2
          ],
          "target": [
           3,
           4,
           5,
           3,
           4,
           5,
           3,
           4,
           5
          ],
          "value": [
           9,
           12,
           8,
           9,
           12,
           3,
           12,
           7,
           15
          ]
         },
         "node": {
          "color": [
           "#7D3C98",
           "#008000",
           "#808080",
           "#7D3C98",
           "#008000",
           "#808080"
          ],
          "label": [
           "PC \n(n=29)",
           "TC \n(n=24)",
           "Non‑SI \n(n=34)",
           "PC \n(n=30)",
           "TC \n(n=31)",
           "Non‑SI \n(n=26)"
          ],
          "line": {
           "color": "black",
           "width": 0.5
          },
          "pad": 15,
          "thickness": 20,
          "x": [
           0.1,
           0.1,
           0.1,
           0.9,
           0.9,
           0.9
          ],
          "y": [
           0.1,
           0.5,
           0.9,
           0.1,
           0.5,
           0.9
          ]
         },
         "type": "sankey"
        }
       ],
       "layout": {
        "font": {
         "size": 12
        },
        "height": 400,
        "template": {
         "data": {
          "bar": [
           {
            "error_x": {
             "color": "#2a3f5f"
            },
            "error_y": {
             "color": "#2a3f5f"
            },
            "marker": {
             "line": {
              "color": "#E5ECF6",
              "width": 0.5
             },
             "pattern": {
              "fillmode": "overlay",
              "size": 10,
              "solidity": 0.2
             }
            },
            "type": "bar"
           }
          ],
          "barpolar": [
           {
            "marker": {
             "line": {
              "color": "#E5ECF6",
              "width": 0.5
             },
             "pattern": {
              "fillmode": "overlay",
              "size": 10,
              "solidity": 0.2
             }
            },
            "type": "barpolar"
           }
          ],
          "carpet": [
           {
            "aaxis": {
             "endlinecolor": "#2a3f5f",
             "gridcolor": "white",
             "linecolor": "white",
             "minorgridcolor": "white",
             "startlinecolor": "#2a3f5f"
            },
            "baxis": {
             "endlinecolor": "#2a3f5f",
             "gridcolor": "white",
             "linecolor": "white",
             "minorgridcolor": "white",
             "startlinecolor": "#2a3f5f"
            },
            "type": "carpet"
           }
          ],
          "choropleth": [
           {
            "colorbar": {
             "outlinewidth": 0,
             "ticks": ""
            },
            "type": "choropleth"
           }
          ],
          "contour": [
           {
            "colorbar": {
             "outlinewidth": 0,
             "ticks": ""
            },
            "colorscale": [
             [
              0,
              "#0d0887"
             ],
             [
              0.1111111111111111,
              "#46039f"
             ],
             [
              0.2222222222222222,
              "#7201a8"
             ],
             [
              0.3333333333333333,
              "#9c179e"
             ],
             [
              0.4444444444444444,
              "#bd3786"
             ],
             [
              0.5555555555555556,
              "#d8576b"
             ],
             [
              0.6666666666666666,
              "#ed7953"
             ],
             [
              0.7777777777777778,
              "#fb9f3a"
             ],
             [
              0.8888888888888888,
              "#fdca26"
             ],
             [
              1,
              "#f0f921"
             ]
            ],
            "type": "contour"
           }
          ],
          "contourcarpet": [
           {
            "colorbar": {
             "outlinewidth": 0,
             "ticks": ""
            },
            "type": "contourcarpet"
           }
          ],
          "heatmap": [
           {
            "colorbar": {
             "outlinewidth": 0,
             "ticks": ""
            },
            "colorscale": [
             [
              0,
              "#0d0887"
             ],
             [
              0.1111111111111111,
              "#46039f"
             ],
             [
              0.2222222222222222,
              "#7201a8"
             ],
             [
              0.3333333333333333,
              "#9c179e"
             ],
             [
              0.4444444444444444,
              "#bd3786"
             ],
             [
              0.5555555555555556,
              "#d8576b"
             ],
             [
              0.6666666666666666,
              "#ed7953"
             ],
             [
              0.7777777777777778,
              "#fb9f3a"
             ],
             [
              0.8888888888888888,
              "#fdca26"
             ],
             [
              1,
              "#f0f921"
             ]
            ],
            "type": "heatmap"
           }
          ],
          "histogram": [
           {
            "marker": {
             "pattern": {
              "fillmode": "overlay",
              "size": 10,
              "solidity": 0.2
             }
            },
            "type": "histogram"
           }
          ],
          "histogram2d": [
           {
            "colorbar": {
             "outlinewidth": 0,
             "ticks": ""
            },
            "colorscale": [
             [
              0,
              "#0d0887"
             ],
             [
              0.1111111111111111,
              "#46039f"
             ],
             [
              0.2222222222222222,
              "#7201a8"
             ],
             [
              0.3333333333333333,
              "#9c179e"
             ],
             [
              0.4444444444444444,
              "#bd3786"
             ],
             [
              0.5555555555555556,
              "#d8576b"
             ],
             [
              0.6666666666666666,
              "#ed7953"
             ],
             [
              0.7777777777777778,
              "#fb9f3a"
             ],
             [
              0.8888888888888888,
              "#fdca26"
             ],
             [
              1,
              "#f0f921"
             ]
            ],
            "type": "histogram2d"
           }
          ],
          "histogram2dcontour": [
           {
            "colorbar": {
             "outlinewidth": 0,
             "ticks": ""
            },
            "colorscale": [
             [
              0,
              "#0d0887"
             ],
             [
              0.1111111111111111,
              "#46039f"
             ],
             [
              0.2222222222222222,
              "#7201a8"
             ],
             [
              0.3333333333333333,
              "#9c179e"
             ],
             [
              0.4444444444444444,
              "#bd3786"
             ],
             [
              0.5555555555555556,
              "#d8576b"
             ],
             [
              0.6666666666666666,
              "#ed7953"
             ],
             [
              0.7777777777777778,
              "#fb9f3a"
             ],
             [
              0.8888888888888888,
              "#fdca26"
             ],
             [
              1,
              "#f0f921"
             ]
            ],
            "type": "histogram2dcontour"
           }
          ],
          "mesh3d": [
           {
            "colorbar": {
             "outlinewidth": 0,
             "ticks": ""
            },
            "type": "mesh3d"
           }
          ],
          "parcoords": [
           {
            "line": {
             "colorbar": {
              "outlinewidth": 0,
              "ticks": ""
             }
            },
            "type": "parcoords"
           }
          ],
          "pie": [
           {
            "automargin": true,
            "type": "pie"
           }
          ],
          "scatter": [
           {
            "fillpattern": {
             "fillmode": "overlay",
             "size": 10,
             "solidity": 0.2
            },
            "type": "scatter"
           }
          ],
          "scatter3d": [
           {
            "line": {
             "colorbar": {
              "outlinewidth": 0,
              "ticks": ""
             }
            },
            "marker": {
             "colorbar": {
              "outlinewidth": 0,
              "ticks": ""
             }
            },
            "type": "scatter3d"
           }
          ],
          "scattercarpet": [
           {
            "marker": {
             "colorbar": {
              "outlinewidth": 0,
              "ticks": ""
             }
            },
            "type": "scattercarpet"
           }
          ],
          "scattergeo": [
           {
            "marker": {
             "colorbar": {
              "outlinewidth": 0,
              "ticks": ""
             }
            },
            "type": "scattergeo"
           }
          ],
          "scattergl": [
           {
            "marker": {
             "colorbar": {
              "outlinewidth": 0,
              "ticks": ""
             }
            },
            "type": "scattergl"
           }
          ],
          "scattermap": [
           {
            "marker": {
             "colorbar": {
              "outlinewidth": 0,
              "ticks": ""
             }
            },
            "type": "scattermap"
           }
          ],
          "scattermapbox": [
           {
            "marker": {
             "colorbar": {
              "outlinewidth": 0,
              "ticks": ""
             }
            },
            "type": "scattermapbox"
           }
          ],
          "scatterpolar": [
           {
            "marker": {
             "colorbar": {
              "outlinewidth": 0,
              "ticks": ""
             }
            },
            "type": "scatterpolar"
           }
          ],
          "scatterpolargl": [
           {
            "marker": {
             "colorbar": {
              "outlinewidth": 0,
              "ticks": ""
             }
            },
            "type": "scatterpolargl"
           }
          ],
          "scatterternary": [
           {
            "marker": {
             "colorbar": {
              "outlinewidth": 0,
              "ticks": ""
             }
            },
            "type": "scatterternary"
           }
          ],
          "surface": [
           {
            "colorbar": {
             "outlinewidth": 0,
             "ticks": ""
            },
            "colorscale": [
             [
              0,
              "#0d0887"
             ],
             [
              0.1111111111111111,
              "#46039f"
             ],
             [
              0.2222222222222222,
              "#7201a8"
             ],
             [
              0.3333333333333333,
              "#9c179e"
             ],
             [
              0.4444444444444444,
              "#bd3786"
             ],
             [
              0.5555555555555556,
              "#d8576b"
             ],
             [
              0.6666666666666666,
              "#ed7953"
             ],
             [
              0.7777777777777778,
              "#fb9f3a"
             ],
             [
              0.8888888888888888,
              "#fdca26"
             ],
             [
              1,
              "#f0f921"
             ]
            ],
            "type": "surface"
           }
          ],
          "table": [
           {
            "cells": {
             "fill": {
              "color": "#EBF0F8"
             },
             "line": {
              "color": "white"
             }
            },
            "header": {
             "fill": {
              "color": "#C8D4E3"
             },
             "line": {
              "color": "white"
             }
            },
            "type": "table"
           }
          ]
         },
         "layout": {
          "annotationdefaults": {
           "arrowcolor": "#2a3f5f",
           "arrowhead": 0,
           "arrowwidth": 1
          },
          "autotypenumbers": "strict",
          "coloraxis": {
           "colorbar": {
            "outlinewidth": 0,
            "ticks": ""
           }
          },
          "colorscale": {
           "diverging": [
            [
             0,
             "#8e0152"
            ],
            [
             0.1,
             "#c51b7d"
            ],
            [
             0.2,
             "#de77ae"
            ],
            [
             0.3,
             "#f1b6da"
            ],
            [
             0.4,
             "#fde0ef"
            ],
            [
             0.5,
             "#f7f7f7"
            ],
            [
             0.6,
             "#e6f5d0"
            ],
            [
             0.7,
             "#b8e186"
            ],
            [
             0.8,
             "#7fbc41"
            ],
            [
             0.9,
             "#4d9221"
            ],
            [
             1,
             "#276419"
            ]
           ],
           "sequential": [
            [
             0,
             "#0d0887"
            ],
            [
             0.1111111111111111,
             "#46039f"
            ],
            [
             0.2222222222222222,
             "#7201a8"
            ],
            [
             0.3333333333333333,
             "#9c179e"
            ],
            [
             0.4444444444444444,
             "#bd3786"
            ],
            [
             0.5555555555555556,
             "#d8576b"
            ],
            [
             0.6666666666666666,
             "#ed7953"
            ],
            [
             0.7777777777777778,
             "#fb9f3a"
            ],
            [
             0.8888888888888888,
             "#fdca26"
            ],
            [
             1,
             "#f0f921"
            ]
           ],
           "sequentialminus": [
            [
             0,
             "#0d0887"
            ],
            [
             0.1111111111111111,
             "#46039f"
            ],
            [
             0.2222222222222222,
             "#7201a8"
            ],
            [
             0.3333333333333333,
             "#9c179e"
            ],
            [
             0.4444444444444444,
             "#bd3786"
            ],
            [
             0.5555555555555556,
             "#d8576b"
            ],
            [
             0.6666666666666666,
             "#ed7953"
            ],
            [
             0.7777777777777778,
             "#fb9f3a"
            ],
            [
             0.8888888888888888,
             "#fdca26"
            ],
            [
             1,
             "#f0f921"
            ]
           ]
          },
          "colorway": [
           "#636efa",
           "#EF553B",
           "#00cc96",
           "#ab63fa",
           "#FFA15A",
           "#19d3f3",
           "#FF6692",
           "#B6E880",
           "#FF97FF",
           "#FECB52"
          ],
          "font": {
           "color": "#2a3f5f"
          },
          "geo": {
           "bgcolor": "white",
           "lakecolor": "white",
           "landcolor": "#E5ECF6",
           "showlakes": true,
           "showland": true,
           "subunitcolor": "white"
          },
          "hoverlabel": {
           "align": "left"
          },
          "hovermode": "closest",
          "mapbox": {
           "style": "light"
          },
          "paper_bgcolor": "white",
          "plot_bgcolor": "#E5ECF6",
          "polar": {
           "angularaxis": {
            "gridcolor": "white",
            "linecolor": "white",
            "ticks": ""
           },
           "bgcolor": "#E5ECF6",
           "radialaxis": {
            "gridcolor": "white",
            "linecolor": "white",
            "ticks": ""
           }
          },
          "scene": {
           "xaxis": {
            "backgroundcolor": "#E5ECF6",
            "gridcolor": "white",
            "gridwidth": 2,
            "linecolor": "white",
            "showbackground": true,
            "ticks": "",
            "zerolinecolor": "white"
           },
           "yaxis": {
            "backgroundcolor": "#E5ECF6",
            "gridcolor": "white",
            "gridwidth": 2,
            "linecolor": "white",
            "showbackground": true,
            "ticks": "",
            "zerolinecolor": "white"
           },
           "zaxis": {
            "backgroundcolor": "#E5ECF6",
            "gridcolor": "white",
            "gridwidth": 2,
            "linecolor": "white",
            "showbackground": true,
            "ticks": "",
            "zerolinecolor": "white"
           }
          },
          "shapedefaults": {
           "line": {
            "color": "#2a3f5f"
           }
          },
          "ternary": {
           "aaxis": {
            "gridcolor": "white",
            "linecolor": "white",
            "ticks": ""
           },
           "baxis": {
            "gridcolor": "white",
            "linecolor": "white",
            "ticks": ""
           },
           "bgcolor": "#E5ECF6",
           "caxis": {
            "gridcolor": "white",
            "linecolor": "white",
            "ticks": ""
           }
          },
          "title": {
           "x": 0.05
          },
          "xaxis": {
           "automargin": true,
           "gridcolor": "white",
           "linecolor": "white",
           "ticks": "",
           "title": {
            "standoff": 15
           },
           "zerolinecolor": "white",
           "zerolinewidth": 2
          },
          "yaxis": {
           "automargin": true,
           "gridcolor": "white",
           "linecolor": "white",
           "ticks": "",
           "title": {
            "standoff": 15
           },
           "zerolinecolor": "white",
           "zerolinewidth": 2
          }
         }
        },
        "title": {
         "text": "Cell Identity Transitions for Animal 478"
        },
        "width": 500
       }
      }
     },
     "metadata": {},
     "output_type": "display_data"
    },
    {
     "name": "stdout",
     "output_type": "stream",
     "text": [
      "481 43\n"
     ]
    },
    {
     "data": {
      "application/vnd.plotly.v1+json": {
       "config": {
        "plotlyServerURL": "https://plot.ly"
       },
       "data": [
        {
         "arrangement": "fixed",
         "link": {
          "color": [
           "rgba(164,118,182,0.5)",
           "rgba(164,118,182,0.5)",
           "rgba(164,118,182,0.5)",
           "rgba(76,166,76,0.5)",
           "rgba(76,166,76,0.5)",
           "rgba(76,166,76,0.5)",
           "rgba(166,166,166,0.5)",
           "rgba(166,166,166,0.5)",
           "rgba(166,166,166,0.5)"
          ],
          "source": [
           0,
           0,
           0,
           1,
           1,
           1,
           2,
           2,
           2
          ],
          "target": [
           3,
           4,
           5,
           3,
           4,
           5,
           3,
           4,
           5
          ],
          "value": [
           6,
           5,
           4,
           1,
           1,
           1,
           15,
           9,
           39
          ]
         },
         "node": {
          "color": [
           "#7D3C98",
           "#008000",
           "#808080",
           "#7D3C98",
           "#008000",
           "#808080"
          ],
          "label": [
           "PC \n(n=15)",
           "TC \n(n=3)",
           "Non‑SI \n(n=63)",
           "PC \n(n=22)",
           "TC \n(n=15)",
           "Non‑SI \n(n=44)"
          ],
          "line": {
           "color": "black",
           "width": 0.5
          },
          "pad": 15,
          "thickness": 20,
          "x": [
           0.1,
           0.1,
           0.1,
           0.9,
           0.9,
           0.9
          ],
          "y": [
           0.1,
           0.5,
           0.9,
           0.1,
           0.5,
           0.9
          ]
         },
         "type": "sankey"
        }
       ],
       "layout": {
        "font": {
         "size": 12
        },
        "height": 400,
        "template": {
         "data": {
          "bar": [
           {
            "error_x": {
             "color": "#2a3f5f"
            },
            "error_y": {
             "color": "#2a3f5f"
            },
            "marker": {
             "line": {
              "color": "#E5ECF6",
              "width": 0.5
             },
             "pattern": {
              "fillmode": "overlay",
              "size": 10,
              "solidity": 0.2
             }
            },
            "type": "bar"
           }
          ],
          "barpolar": [
           {
            "marker": {
             "line": {
              "color": "#E5ECF6",
              "width": 0.5
             },
             "pattern": {
              "fillmode": "overlay",
              "size": 10,
              "solidity": 0.2
             }
            },
            "type": "barpolar"
           }
          ],
          "carpet": [
           {
            "aaxis": {
             "endlinecolor": "#2a3f5f",
             "gridcolor": "white",
             "linecolor": "white",
             "minorgridcolor": "white",
             "startlinecolor": "#2a3f5f"
            },
            "baxis": {
             "endlinecolor": "#2a3f5f",
             "gridcolor": "white",
             "linecolor": "white",
             "minorgridcolor": "white",
             "startlinecolor": "#2a3f5f"
            },
            "type": "carpet"
           }
          ],
          "choropleth": [
           {
            "colorbar": {
             "outlinewidth": 0,
             "ticks": ""
            },
            "type": "choropleth"
           }
          ],
          "contour": [
           {
            "colorbar": {
             "outlinewidth": 0,
             "ticks": ""
            },
            "colorscale": [
             [
              0,
              "#0d0887"
             ],
             [
              0.1111111111111111,
              "#46039f"
             ],
             [
              0.2222222222222222,
              "#7201a8"
             ],
             [
              0.3333333333333333,
              "#9c179e"
             ],
             [
              0.4444444444444444,
              "#bd3786"
             ],
             [
              0.5555555555555556,
              "#d8576b"
             ],
             [
              0.6666666666666666,
              "#ed7953"
             ],
             [
              0.7777777777777778,
              "#fb9f3a"
             ],
             [
              0.8888888888888888,
              "#fdca26"
             ],
             [
              1,
              "#f0f921"
             ]
            ],
            "type": "contour"
           }
          ],
          "contourcarpet": [
           {
            "colorbar": {
             "outlinewidth": 0,
             "ticks": ""
            },
            "type": "contourcarpet"
           }
          ],
          "heatmap": [
           {
            "colorbar": {
             "outlinewidth": 0,
             "ticks": ""
            },
            "colorscale": [
             [
              0,
              "#0d0887"
             ],
             [
              0.1111111111111111,
              "#46039f"
             ],
             [
              0.2222222222222222,
              "#7201a8"
             ],
             [
              0.3333333333333333,
              "#9c179e"
             ],
             [
              0.4444444444444444,
              "#bd3786"
             ],
             [
              0.5555555555555556,
              "#d8576b"
             ],
             [
              0.6666666666666666,
              "#ed7953"
             ],
             [
              0.7777777777777778,
              "#fb9f3a"
             ],
             [
              0.8888888888888888,
              "#fdca26"
             ],
             [
              1,
              "#f0f921"
             ]
            ],
            "type": "heatmap"
           }
          ],
          "histogram": [
           {
            "marker": {
             "pattern": {
              "fillmode": "overlay",
              "size": 10,
              "solidity": 0.2
             }
            },
            "type": "histogram"
           }
          ],
          "histogram2d": [
           {
            "colorbar": {
             "outlinewidth": 0,
             "ticks": ""
            },
            "colorscale": [
             [
              0,
              "#0d0887"
             ],
             [
              0.1111111111111111,
              "#46039f"
             ],
             [
              0.2222222222222222,
              "#7201a8"
             ],
             [
              0.3333333333333333,
              "#9c179e"
             ],
             [
              0.4444444444444444,
              "#bd3786"
             ],
             [
              0.5555555555555556,
              "#d8576b"
             ],
             [
              0.6666666666666666,
              "#ed7953"
             ],
             [
              0.7777777777777778,
              "#fb9f3a"
             ],
             [
              0.8888888888888888,
              "#fdca26"
             ],
             [
              1,
              "#f0f921"
             ]
            ],
            "type": "histogram2d"
           }
          ],
          "histogram2dcontour": [
           {
            "colorbar": {
             "outlinewidth": 0,
             "ticks": ""
            },
            "colorscale": [
             [
              0,
              "#0d0887"
             ],
             [
              0.1111111111111111,
              "#46039f"
             ],
             [
              0.2222222222222222,
              "#7201a8"
             ],
             [
              0.3333333333333333,
              "#9c179e"
             ],
             [
              0.4444444444444444,
              "#bd3786"
             ],
             [
              0.5555555555555556,
              "#d8576b"
             ],
             [
              0.6666666666666666,
              "#ed7953"
             ],
             [
              0.7777777777777778,
              "#fb9f3a"
             ],
             [
              0.8888888888888888,
              "#fdca26"
             ],
             [
              1,
              "#f0f921"
             ]
            ],
            "type": "histogram2dcontour"
           }
          ],
          "mesh3d": [
           {
            "colorbar": {
             "outlinewidth": 0,
             "ticks": ""
            },
            "type": "mesh3d"
           }
          ],
          "parcoords": [
           {
            "line": {
             "colorbar": {
              "outlinewidth": 0,
              "ticks": ""
             }
            },
            "type": "parcoords"
           }
          ],
          "pie": [
           {
            "automargin": true,
            "type": "pie"
           }
          ],
          "scatter": [
           {
            "fillpattern": {
             "fillmode": "overlay",
             "size": 10,
             "solidity": 0.2
            },
            "type": "scatter"
           }
          ],
          "scatter3d": [
           {
            "line": {
             "colorbar": {
              "outlinewidth": 0,
              "ticks": ""
             }
            },
            "marker": {
             "colorbar": {
              "outlinewidth": 0,
              "ticks": ""
             }
            },
            "type": "scatter3d"
           }
          ],
          "scattercarpet": [
           {
            "marker": {
             "colorbar": {
              "outlinewidth": 0,
              "ticks": ""
             }
            },
            "type": "scattercarpet"
           }
          ],
          "scattergeo": [
           {
            "marker": {
             "colorbar": {
              "outlinewidth": 0,
              "ticks": ""
             }
            },
            "type": "scattergeo"
           }
          ],
          "scattergl": [
           {
            "marker": {
             "colorbar": {
              "outlinewidth": 0,
              "ticks": ""
             }
            },
            "type": "scattergl"
           }
          ],
          "scattermap": [
           {
            "marker": {
             "colorbar": {
              "outlinewidth": 0,
              "ticks": ""
             }
            },
            "type": "scattermap"
           }
          ],
          "scattermapbox": [
           {
            "marker": {
             "colorbar": {
              "outlinewidth": 0,
              "ticks": ""
             }
            },
            "type": "scattermapbox"
           }
          ],
          "scatterpolar": [
           {
            "marker": {
             "colorbar": {
              "outlinewidth": 0,
              "ticks": ""
             }
            },
            "type": "scatterpolar"
           }
          ],
          "scatterpolargl": [
           {
            "marker": {
             "colorbar": {
              "outlinewidth": 0,
              "ticks": ""
             }
            },
            "type": "scatterpolargl"
           }
          ],
          "scatterternary": [
           {
            "marker": {
             "colorbar": {
              "outlinewidth": 0,
              "ticks": ""
             }
            },
            "type": "scatterternary"
           }
          ],
          "surface": [
           {
            "colorbar": {
             "outlinewidth": 0,
             "ticks": ""
            },
            "colorscale": [
             [
              0,
              "#0d0887"
             ],
             [
              0.1111111111111111,
              "#46039f"
             ],
             [
              0.2222222222222222,
              "#7201a8"
             ],
             [
              0.3333333333333333,
              "#9c179e"
             ],
             [
              0.4444444444444444,
              "#bd3786"
             ],
             [
              0.5555555555555556,
              "#d8576b"
             ],
             [
              0.6666666666666666,
              "#ed7953"
             ],
             [
              0.7777777777777778,
              "#fb9f3a"
             ],
             [
              0.8888888888888888,
              "#fdca26"
             ],
             [
              1,
              "#f0f921"
             ]
            ],
            "type": "surface"
           }
          ],
          "table": [
           {
            "cells": {
             "fill": {
              "color": "#EBF0F8"
             },
             "line": {
              "color": "white"
             }
            },
            "header": {
             "fill": {
              "color": "#C8D4E3"
             },
             "line": {
              "color": "white"
             }
            },
            "type": "table"
           }
          ]
         },
         "layout": {
          "annotationdefaults": {
           "arrowcolor": "#2a3f5f",
           "arrowhead": 0,
           "arrowwidth": 1
          },
          "autotypenumbers": "strict",
          "coloraxis": {
           "colorbar": {
            "outlinewidth": 0,
            "ticks": ""
           }
          },
          "colorscale": {
           "diverging": [
            [
             0,
             "#8e0152"
            ],
            [
             0.1,
             "#c51b7d"
            ],
            [
             0.2,
             "#de77ae"
            ],
            [
             0.3,
             "#f1b6da"
            ],
            [
             0.4,
             "#fde0ef"
            ],
            [
             0.5,
             "#f7f7f7"
            ],
            [
             0.6,
             "#e6f5d0"
            ],
            [
             0.7,
             "#b8e186"
            ],
            [
             0.8,
             "#7fbc41"
            ],
            [
             0.9,
             "#4d9221"
            ],
            [
             1,
             "#276419"
            ]
           ],
           "sequential": [
            [
             0,
             "#0d0887"
            ],
            [
             0.1111111111111111,
             "#46039f"
            ],
            [
             0.2222222222222222,
             "#7201a8"
            ],
            [
             0.3333333333333333,
             "#9c179e"
            ],
            [
             0.4444444444444444,
             "#bd3786"
            ],
            [
             0.5555555555555556,
             "#d8576b"
            ],
            [
             0.6666666666666666,
             "#ed7953"
            ],
            [
             0.7777777777777778,
             "#fb9f3a"
            ],
            [
             0.8888888888888888,
             "#fdca26"
            ],
            [
             1,
             "#f0f921"
            ]
           ],
           "sequentialminus": [
            [
             0,
             "#0d0887"
            ],
            [
             0.1111111111111111,
             "#46039f"
            ],
            [
             0.2222222222222222,
             "#7201a8"
            ],
            [
             0.3333333333333333,
             "#9c179e"
            ],
            [
             0.4444444444444444,
             "#bd3786"
            ],
            [
             0.5555555555555556,
             "#d8576b"
            ],
            [
             0.6666666666666666,
             "#ed7953"
            ],
            [
             0.7777777777777778,
             "#fb9f3a"
            ],
            [
             0.8888888888888888,
             "#fdca26"
            ],
            [
             1,
             "#f0f921"
            ]
           ]
          },
          "colorway": [
           "#636efa",
           "#EF553B",
           "#00cc96",
           "#ab63fa",
           "#FFA15A",
           "#19d3f3",
           "#FF6692",
           "#B6E880",
           "#FF97FF",
           "#FECB52"
          ],
          "font": {
           "color": "#2a3f5f"
          },
          "geo": {
           "bgcolor": "white",
           "lakecolor": "white",
           "landcolor": "#E5ECF6",
           "showlakes": true,
           "showland": true,
           "subunitcolor": "white"
          },
          "hoverlabel": {
           "align": "left"
          },
          "hovermode": "closest",
          "mapbox": {
           "style": "light"
          },
          "paper_bgcolor": "white",
          "plot_bgcolor": "#E5ECF6",
          "polar": {
           "angularaxis": {
            "gridcolor": "white",
            "linecolor": "white",
            "ticks": ""
           },
           "bgcolor": "#E5ECF6",
           "radialaxis": {
            "gridcolor": "white",
            "linecolor": "white",
            "ticks": ""
           }
          },
          "scene": {
           "xaxis": {
            "backgroundcolor": "#E5ECF6",
            "gridcolor": "white",
            "gridwidth": 2,
            "linecolor": "white",
            "showbackground": true,
            "ticks": "",
            "zerolinecolor": "white"
           },
           "yaxis": {
            "backgroundcolor": "#E5ECF6",
            "gridcolor": "white",
            "gridwidth": 2,
            "linecolor": "white",
            "showbackground": true,
            "ticks": "",
            "zerolinecolor": "white"
           },
           "zaxis": {
            "backgroundcolor": "#E5ECF6",
            "gridcolor": "white",
            "gridwidth": 2,
            "linecolor": "white",
            "showbackground": true,
            "ticks": "",
            "zerolinecolor": "white"
           }
          },
          "shapedefaults": {
           "line": {
            "color": "#2a3f5f"
           }
          },
          "ternary": {
           "aaxis": {
            "gridcolor": "white",
            "linecolor": "white",
            "ticks": ""
           },
           "baxis": {
            "gridcolor": "white",
            "linecolor": "white",
            "ticks": ""
           },
           "bgcolor": "#E5ECF6",
           "caxis": {
            "gridcolor": "white",
            "linecolor": "white",
            "ticks": ""
           }
          },
          "title": {
           "x": 0.05
          },
          "xaxis": {
           "automargin": true,
           "gridcolor": "white",
           "linecolor": "white",
           "ticks": "",
           "title": {
            "standoff": 15
           },
           "zerolinecolor": "white",
           "zerolinewidth": 2
          },
          "yaxis": {
           "automargin": true,
           "gridcolor": "white",
           "linecolor": "white",
           "ticks": "",
           "title": {
            "standoff": 15
           },
           "zerolinecolor": "white",
           "zerolinewidth": 2
          }
         }
        },
        "title": {
         "text": "Cell Identity Transitions for Animal 481"
        },
        "width": 500
       }
      }
     },
     "metadata": {},
     "output_type": "display_data"
    },
    {
     "name": "stdout",
     "output_type": "stream",
     "text": [
      "483 20\n"
     ]
    },
    {
     "data": {
      "application/vnd.plotly.v1+json": {
       "config": {
        "plotlyServerURL": "https://plot.ly"
       },
       "data": [
        {
         "arrangement": "fixed",
         "link": {
          "color": [
           "rgba(164,118,182,0.5)",
           "rgba(164,118,182,0.5)",
           "rgba(164,118,182,0.5)",
           "rgba(76,166,76,0.5)",
           "rgba(76,166,76,0.5)",
           "rgba(76,166,76,0.5)",
           "rgba(166,166,166,0.5)",
           "rgba(166,166,166,0.5)",
           "rgba(166,166,166,0.5)",
           "rgba(76,166,76,0.5)"
          ],
          "source": [
           0,
           0,
           0,
           1,
           1,
           1,
           2,
           2,
           2,
           1
          ],
          "target": [
           3,
           4,
           5,
           3,
           4,
           5,
           3,
           4,
           5,
           4
          ],
          "value": [
           25,
           15,
           8,
           0,
           0,
           0,
           23,
           10,
           12,
           0.000001
          ]
         },
         "node": {
          "color": [
           "#7D3C98",
           "#008000",
           "#808080",
           "#7D3C98",
           "#008000",
           "#808080"
          ],
          "label": [
           "PC \n(n=48)",
           "TC \n(n=0)",
           "Non‑SI \n(n=45)",
           "PC \n(n=48)",
           "TC \n(n=25)",
           "Non‑SI \n(n=20)"
          ],
          "line": {
           "color": "black",
           "width": 0.5
          },
          "pad": 15,
          "thickness": 20,
          "x": [
           0.1,
           0.1,
           0.1,
           0.9,
           0.9,
           0.9
          ],
          "y": [
           0.1,
           0.5,
           0.9,
           0.1,
           0.5,
           0.9
          ]
         },
         "type": "sankey"
        }
       ],
       "layout": {
        "font": {
         "size": 12
        },
        "height": 400,
        "template": {
         "data": {
          "bar": [
           {
            "error_x": {
             "color": "#2a3f5f"
            },
            "error_y": {
             "color": "#2a3f5f"
            },
            "marker": {
             "line": {
              "color": "#E5ECF6",
              "width": 0.5
             },
             "pattern": {
              "fillmode": "overlay",
              "size": 10,
              "solidity": 0.2
             }
            },
            "type": "bar"
           }
          ],
          "barpolar": [
           {
            "marker": {
             "line": {
              "color": "#E5ECF6",
              "width": 0.5
             },
             "pattern": {
              "fillmode": "overlay",
              "size": 10,
              "solidity": 0.2
             }
            },
            "type": "barpolar"
           }
          ],
          "carpet": [
           {
            "aaxis": {
             "endlinecolor": "#2a3f5f",
             "gridcolor": "white",
             "linecolor": "white",
             "minorgridcolor": "white",
             "startlinecolor": "#2a3f5f"
            },
            "baxis": {
             "endlinecolor": "#2a3f5f",
             "gridcolor": "white",
             "linecolor": "white",
             "minorgridcolor": "white",
             "startlinecolor": "#2a3f5f"
            },
            "type": "carpet"
           }
          ],
          "choropleth": [
           {
            "colorbar": {
             "outlinewidth": 0,
             "ticks": ""
            },
            "type": "choropleth"
           }
          ],
          "contour": [
           {
            "colorbar": {
             "outlinewidth": 0,
             "ticks": ""
            },
            "colorscale": [
             [
              0,
              "#0d0887"
             ],
             [
              0.1111111111111111,
              "#46039f"
             ],
             [
              0.2222222222222222,
              "#7201a8"
             ],
             [
              0.3333333333333333,
              "#9c179e"
             ],
             [
              0.4444444444444444,
              "#bd3786"
             ],
             [
              0.5555555555555556,
              "#d8576b"
             ],
             [
              0.6666666666666666,
              "#ed7953"
             ],
             [
              0.7777777777777778,
              "#fb9f3a"
             ],
             [
              0.8888888888888888,
              "#fdca26"
             ],
             [
              1,
              "#f0f921"
             ]
            ],
            "type": "contour"
           }
          ],
          "contourcarpet": [
           {
            "colorbar": {
             "outlinewidth": 0,
             "ticks": ""
            },
            "type": "contourcarpet"
           }
          ],
          "heatmap": [
           {
            "colorbar": {
             "outlinewidth": 0,
             "ticks": ""
            },
            "colorscale": [
             [
              0,
              "#0d0887"
             ],
             [
              0.1111111111111111,
              "#46039f"
             ],
             [
              0.2222222222222222,
              "#7201a8"
             ],
             [
              0.3333333333333333,
              "#9c179e"
             ],
             [
              0.4444444444444444,
              "#bd3786"
             ],
             [
              0.5555555555555556,
              "#d8576b"
             ],
             [
              0.6666666666666666,
              "#ed7953"
             ],
             [
              0.7777777777777778,
              "#fb9f3a"
             ],
             [
              0.8888888888888888,
              "#fdca26"
             ],
             [
              1,
              "#f0f921"
             ]
            ],
            "type": "heatmap"
           }
          ],
          "histogram": [
           {
            "marker": {
             "pattern": {
              "fillmode": "overlay",
              "size": 10,
              "solidity": 0.2
             }
            },
            "type": "histogram"
           }
          ],
          "histogram2d": [
           {
            "colorbar": {
             "outlinewidth": 0,
             "ticks": ""
            },
            "colorscale": [
             [
              0,
              "#0d0887"
             ],
             [
              0.1111111111111111,
              "#46039f"
             ],
             [
              0.2222222222222222,
              "#7201a8"
             ],
             [
              0.3333333333333333,
              "#9c179e"
             ],
             [
              0.4444444444444444,
              "#bd3786"
             ],
             [
              0.5555555555555556,
              "#d8576b"
             ],
             [
              0.6666666666666666,
              "#ed7953"
             ],
             [
              0.7777777777777778,
              "#fb9f3a"
             ],
             [
              0.8888888888888888,
              "#fdca26"
             ],
             [
              1,
              "#f0f921"
             ]
            ],
            "type": "histogram2d"
           }
          ],
          "histogram2dcontour": [
           {
            "colorbar": {
             "outlinewidth": 0,
             "ticks": ""
            },
            "colorscale": [
             [
              0,
              "#0d0887"
             ],
             [
              0.1111111111111111,
              "#46039f"
             ],
             [
              0.2222222222222222,
              "#7201a8"
             ],
             [
              0.3333333333333333,
              "#9c179e"
             ],
             [
              0.4444444444444444,
              "#bd3786"
             ],
             [
              0.5555555555555556,
              "#d8576b"
             ],
             [
              0.6666666666666666,
              "#ed7953"
             ],
             [
              0.7777777777777778,
              "#fb9f3a"
             ],
             [
              0.8888888888888888,
              "#fdca26"
             ],
             [
              1,
              "#f0f921"
             ]
            ],
            "type": "histogram2dcontour"
           }
          ],
          "mesh3d": [
           {
            "colorbar": {
             "outlinewidth": 0,
             "ticks": ""
            },
            "type": "mesh3d"
           }
          ],
          "parcoords": [
           {
            "line": {
             "colorbar": {
              "outlinewidth": 0,
              "ticks": ""
             }
            },
            "type": "parcoords"
           }
          ],
          "pie": [
           {
            "automargin": true,
            "type": "pie"
           }
          ],
          "scatter": [
           {
            "fillpattern": {
             "fillmode": "overlay",
             "size": 10,
             "solidity": 0.2
            },
            "type": "scatter"
           }
          ],
          "scatter3d": [
           {
            "line": {
             "colorbar": {
              "outlinewidth": 0,
              "ticks": ""
             }
            },
            "marker": {
             "colorbar": {
              "outlinewidth": 0,
              "ticks": ""
             }
            },
            "type": "scatter3d"
           }
          ],
          "scattercarpet": [
           {
            "marker": {
             "colorbar": {
              "outlinewidth": 0,
              "ticks": ""
             }
            },
            "type": "scattercarpet"
           }
          ],
          "scattergeo": [
           {
            "marker": {
             "colorbar": {
              "outlinewidth": 0,
              "ticks": ""
             }
            },
            "type": "scattergeo"
           }
          ],
          "scattergl": [
           {
            "marker": {
             "colorbar": {
              "outlinewidth": 0,
              "ticks": ""
             }
            },
            "type": "scattergl"
           }
          ],
          "scattermap": [
           {
            "marker": {
             "colorbar": {
              "outlinewidth": 0,
              "ticks": ""
             }
            },
            "type": "scattermap"
           }
          ],
          "scattermapbox": [
           {
            "marker": {
             "colorbar": {
              "outlinewidth": 0,
              "ticks": ""
             }
            },
            "type": "scattermapbox"
           }
          ],
          "scatterpolar": [
           {
            "marker": {
             "colorbar": {
              "outlinewidth": 0,
              "ticks": ""
             }
            },
            "type": "scatterpolar"
           }
          ],
          "scatterpolargl": [
           {
            "marker": {
             "colorbar": {
              "outlinewidth": 0,
              "ticks": ""
             }
            },
            "type": "scatterpolargl"
           }
          ],
          "scatterternary": [
           {
            "marker": {
             "colorbar": {
              "outlinewidth": 0,
              "ticks": ""
             }
            },
            "type": "scatterternary"
           }
          ],
          "surface": [
           {
            "colorbar": {
             "outlinewidth": 0,
             "ticks": ""
            },
            "colorscale": [
             [
              0,
              "#0d0887"
             ],
             [
              0.1111111111111111,
              "#46039f"
             ],
             [
              0.2222222222222222,
              "#7201a8"
             ],
             [
              0.3333333333333333,
              "#9c179e"
             ],
             [
              0.4444444444444444,
              "#bd3786"
             ],
             [
              0.5555555555555556,
              "#d8576b"
             ],
             [
              0.6666666666666666,
              "#ed7953"
             ],
             [
              0.7777777777777778,
              "#fb9f3a"
             ],
             [
              0.8888888888888888,
              "#fdca26"
             ],
             [
              1,
              "#f0f921"
             ]
            ],
            "type": "surface"
           }
          ],
          "table": [
           {
            "cells": {
             "fill": {
              "color": "#EBF0F8"
             },
             "line": {
              "color": "white"
             }
            },
            "header": {
             "fill": {
              "color": "#C8D4E3"
             },
             "line": {
              "color": "white"
             }
            },
            "type": "table"
           }
          ]
         },
         "layout": {
          "annotationdefaults": {
           "arrowcolor": "#2a3f5f",
           "arrowhead": 0,
           "arrowwidth": 1
          },
          "autotypenumbers": "strict",
          "coloraxis": {
           "colorbar": {
            "outlinewidth": 0,
            "ticks": ""
           }
          },
          "colorscale": {
           "diverging": [
            [
             0,
             "#8e0152"
            ],
            [
             0.1,
             "#c51b7d"
            ],
            [
             0.2,
             "#de77ae"
            ],
            [
             0.3,
             "#f1b6da"
            ],
            [
             0.4,
             "#fde0ef"
            ],
            [
             0.5,
             "#f7f7f7"
            ],
            [
             0.6,
             "#e6f5d0"
            ],
            [
             0.7,
             "#b8e186"
            ],
            [
             0.8,
             "#7fbc41"
            ],
            [
             0.9,
             "#4d9221"
            ],
            [
             1,
             "#276419"
            ]
           ],
           "sequential": [
            [
             0,
             "#0d0887"
            ],
            [
             0.1111111111111111,
             "#46039f"
            ],
            [
             0.2222222222222222,
             "#7201a8"
            ],
            [
             0.3333333333333333,
             "#9c179e"
            ],
            [
             0.4444444444444444,
             "#bd3786"
            ],
            [
             0.5555555555555556,
             "#d8576b"
            ],
            [
             0.6666666666666666,
             "#ed7953"
            ],
            [
             0.7777777777777778,
             "#fb9f3a"
            ],
            [
             0.8888888888888888,
             "#fdca26"
            ],
            [
             1,
             "#f0f921"
            ]
           ],
           "sequentialminus": [
            [
             0,
             "#0d0887"
            ],
            [
             0.1111111111111111,
             "#46039f"
            ],
            [
             0.2222222222222222,
             "#7201a8"
            ],
            [
             0.3333333333333333,
             "#9c179e"
            ],
            [
             0.4444444444444444,
             "#bd3786"
            ],
            [
             0.5555555555555556,
             "#d8576b"
            ],
            [
             0.6666666666666666,
             "#ed7953"
            ],
            [
             0.7777777777777778,
             "#fb9f3a"
            ],
            [
             0.8888888888888888,
             "#fdca26"
            ],
            [
             1,
             "#f0f921"
            ]
           ]
          },
          "colorway": [
           "#636efa",
           "#EF553B",
           "#00cc96",
           "#ab63fa",
           "#FFA15A",
           "#19d3f3",
           "#FF6692",
           "#B6E880",
           "#FF97FF",
           "#FECB52"
          ],
          "font": {
           "color": "#2a3f5f"
          },
          "geo": {
           "bgcolor": "white",
           "lakecolor": "white",
           "landcolor": "#E5ECF6",
           "showlakes": true,
           "showland": true,
           "subunitcolor": "white"
          },
          "hoverlabel": {
           "align": "left"
          },
          "hovermode": "closest",
          "mapbox": {
           "style": "light"
          },
          "paper_bgcolor": "white",
          "plot_bgcolor": "#E5ECF6",
          "polar": {
           "angularaxis": {
            "gridcolor": "white",
            "linecolor": "white",
            "ticks": ""
           },
           "bgcolor": "#E5ECF6",
           "radialaxis": {
            "gridcolor": "white",
            "linecolor": "white",
            "ticks": ""
           }
          },
          "scene": {
           "xaxis": {
            "backgroundcolor": "#E5ECF6",
            "gridcolor": "white",
            "gridwidth": 2,
            "linecolor": "white",
            "showbackground": true,
            "ticks": "",
            "zerolinecolor": "white"
           },
           "yaxis": {
            "backgroundcolor": "#E5ECF6",
            "gridcolor": "white",
            "gridwidth": 2,
            "linecolor": "white",
            "showbackground": true,
            "ticks": "",
            "zerolinecolor": "white"
           },
           "zaxis": {
            "backgroundcolor": "#E5ECF6",
            "gridcolor": "white",
            "gridwidth": 2,
            "linecolor": "white",
            "showbackground": true,
            "ticks": "",
            "zerolinecolor": "white"
           }
          },
          "shapedefaults": {
           "line": {
            "color": "#2a3f5f"
           }
          },
          "ternary": {
           "aaxis": {
            "gridcolor": "white",
            "linecolor": "white",
            "ticks": ""
           },
           "baxis": {
            "gridcolor": "white",
            "linecolor": "white",
            "ticks": ""
           },
           "bgcolor": "#E5ECF6",
           "caxis": {
            "gridcolor": "white",
            "linecolor": "white",
            "ticks": ""
           }
          },
          "title": {
           "x": 0.05
          },
          "xaxis": {
           "automargin": true,
           "gridcolor": "white",
           "linecolor": "white",
           "ticks": "",
           "title": {
            "standoff": 15
           },
           "zerolinecolor": "white",
           "zerolinewidth": 2
          },
          "yaxis": {
           "automargin": true,
           "gridcolor": "white",
           "linecolor": "white",
           "ticks": "",
           "title": {
            "standoff": 15
           },
           "zerolinecolor": "white",
           "zerolinewidth": 2
          }
         }
        },
        "title": {
         "text": "Cell Identity Transitions for Animal 483"
        },
        "width": 500
       }
      }
     },
     "metadata": {},
     "output_type": "display_data"
    },
    {
     "name": "stdout",
     "output_type": "stream",
     "text": [
      "485 39\n"
     ]
    },
    {
     "data": {
      "application/vnd.plotly.v1+json": {
       "config": {
        "plotlyServerURL": "https://plot.ly"
       },
       "data": [
        {
         "arrangement": "fixed",
         "link": {
          "color": [
           "rgba(164,118,182,0.5)",
           "rgba(164,118,182,0.5)",
           "rgba(164,118,182,0.5)",
           "rgba(76,166,76,0.5)",
           "rgba(76,166,76,0.5)",
           "rgba(76,166,76,0.5)",
           "rgba(166,166,166,0.5)",
           "rgba(166,166,166,0.5)",
           "rgba(166,166,166,0.5)"
          ],
          "source": [
           0,
           0,
           0,
           1,
           1,
           1,
           2,
           2,
           2
          ],
          "target": [
           3,
           4,
           5,
           3,
           4,
           5,
           3,
           4,
           5
          ],
          "value": [
           12,
           11,
           5,
           3,
           9,
           0,
           24,
           11,
           34
          ]
         },
         "node": {
          "color": [
           "#7D3C98",
           "#008000",
           "#808080",
           "#7D3C98",
           "#008000",
           "#808080"
          ],
          "label": [
           "PC \n(n=28)",
           "TC \n(n=12)",
           "Non‑SI \n(n=69)",
           "PC \n(n=39)",
           "TC \n(n=31)",
           "Non‑SI \n(n=39)"
          ],
          "line": {
           "color": "black",
           "width": 0.5
          },
          "pad": 15,
          "thickness": 20,
          "x": [
           0.1,
           0.1,
           0.1,
           0.9,
           0.9,
           0.9
          ],
          "y": [
           0.1,
           0.5,
           0.9,
           0.1,
           0.5,
           0.9
          ]
         },
         "type": "sankey"
        }
       ],
       "layout": {
        "font": {
         "size": 12
        },
        "height": 400,
        "template": {
         "data": {
          "bar": [
           {
            "error_x": {
             "color": "#2a3f5f"
            },
            "error_y": {
             "color": "#2a3f5f"
            },
            "marker": {
             "line": {
              "color": "#E5ECF6",
              "width": 0.5
             },
             "pattern": {
              "fillmode": "overlay",
              "size": 10,
              "solidity": 0.2
             }
            },
            "type": "bar"
           }
          ],
          "barpolar": [
           {
            "marker": {
             "line": {
              "color": "#E5ECF6",
              "width": 0.5
             },
             "pattern": {
              "fillmode": "overlay",
              "size": 10,
              "solidity": 0.2
             }
            },
            "type": "barpolar"
           }
          ],
          "carpet": [
           {
            "aaxis": {
             "endlinecolor": "#2a3f5f",
             "gridcolor": "white",
             "linecolor": "white",
             "minorgridcolor": "white",
             "startlinecolor": "#2a3f5f"
            },
            "baxis": {
             "endlinecolor": "#2a3f5f",
             "gridcolor": "white",
             "linecolor": "white",
             "minorgridcolor": "white",
             "startlinecolor": "#2a3f5f"
            },
            "type": "carpet"
           }
          ],
          "choropleth": [
           {
            "colorbar": {
             "outlinewidth": 0,
             "ticks": ""
            },
            "type": "choropleth"
           }
          ],
          "contour": [
           {
            "colorbar": {
             "outlinewidth": 0,
             "ticks": ""
            },
            "colorscale": [
             [
              0,
              "#0d0887"
             ],
             [
              0.1111111111111111,
              "#46039f"
             ],
             [
              0.2222222222222222,
              "#7201a8"
             ],
             [
              0.3333333333333333,
              "#9c179e"
             ],
             [
              0.4444444444444444,
              "#bd3786"
             ],
             [
              0.5555555555555556,
              "#d8576b"
             ],
             [
              0.6666666666666666,
              "#ed7953"
             ],
             [
              0.7777777777777778,
              "#fb9f3a"
             ],
             [
              0.8888888888888888,
              "#fdca26"
             ],
             [
              1,
              "#f0f921"
             ]
            ],
            "type": "contour"
           }
          ],
          "contourcarpet": [
           {
            "colorbar": {
             "outlinewidth": 0,
             "ticks": ""
            },
            "type": "contourcarpet"
           }
          ],
          "heatmap": [
           {
            "colorbar": {
             "outlinewidth": 0,
             "ticks": ""
            },
            "colorscale": [
             [
              0,
              "#0d0887"
             ],
             [
              0.1111111111111111,
              "#46039f"
             ],
             [
              0.2222222222222222,
              "#7201a8"
             ],
             [
              0.3333333333333333,
              "#9c179e"
             ],
             [
              0.4444444444444444,
              "#bd3786"
             ],
             [
              0.5555555555555556,
              "#d8576b"
             ],
             [
              0.6666666666666666,
              "#ed7953"
             ],
             [
              0.7777777777777778,
              "#fb9f3a"
             ],
             [
              0.8888888888888888,
              "#fdca26"
             ],
             [
              1,
              "#f0f921"
             ]
            ],
            "type": "heatmap"
           }
          ],
          "histogram": [
           {
            "marker": {
             "pattern": {
              "fillmode": "overlay",
              "size": 10,
              "solidity": 0.2
             }
            },
            "type": "histogram"
           }
          ],
          "histogram2d": [
           {
            "colorbar": {
             "outlinewidth": 0,
             "ticks": ""
            },
            "colorscale": [
             [
              0,
              "#0d0887"
             ],
             [
              0.1111111111111111,
              "#46039f"
             ],
             [
              0.2222222222222222,
              "#7201a8"
             ],
             [
              0.3333333333333333,
              "#9c179e"
             ],
             [
              0.4444444444444444,
              "#bd3786"
             ],
             [
              0.5555555555555556,
              "#d8576b"
             ],
             [
              0.6666666666666666,
              "#ed7953"
             ],
             [
              0.7777777777777778,
              "#fb9f3a"
             ],
             [
              0.8888888888888888,
              "#fdca26"
             ],
             [
              1,
              "#f0f921"
             ]
            ],
            "type": "histogram2d"
           }
          ],
          "histogram2dcontour": [
           {
            "colorbar": {
             "outlinewidth": 0,
             "ticks": ""
            },
            "colorscale": [
             [
              0,
              "#0d0887"
             ],
             [
              0.1111111111111111,
              "#46039f"
             ],
             [
              0.2222222222222222,
              "#7201a8"
             ],
             [
              0.3333333333333333,
              "#9c179e"
             ],
             [
              0.4444444444444444,
              "#bd3786"
             ],
             [
              0.5555555555555556,
              "#d8576b"
             ],
             [
              0.6666666666666666,
              "#ed7953"
             ],
             [
              0.7777777777777778,
              "#fb9f3a"
             ],
             [
              0.8888888888888888,
              "#fdca26"
             ],
             [
              1,
              "#f0f921"
             ]
            ],
            "type": "histogram2dcontour"
           }
          ],
          "mesh3d": [
           {
            "colorbar": {
             "outlinewidth": 0,
             "ticks": ""
            },
            "type": "mesh3d"
           }
          ],
          "parcoords": [
           {
            "line": {
             "colorbar": {
              "outlinewidth": 0,
              "ticks": ""
             }
            },
            "type": "parcoords"
           }
          ],
          "pie": [
           {
            "automargin": true,
            "type": "pie"
           }
          ],
          "scatter": [
           {
            "fillpattern": {
             "fillmode": "overlay",
             "size": 10,
             "solidity": 0.2
            },
            "type": "scatter"
           }
          ],
          "scatter3d": [
           {
            "line": {
             "colorbar": {
              "outlinewidth": 0,
              "ticks": ""
             }
            },
            "marker": {
             "colorbar": {
              "outlinewidth": 0,
              "ticks": ""
             }
            },
            "type": "scatter3d"
           }
          ],
          "scattercarpet": [
           {
            "marker": {
             "colorbar": {
              "outlinewidth": 0,
              "ticks": ""
             }
            },
            "type": "scattercarpet"
           }
          ],
          "scattergeo": [
           {
            "marker": {
             "colorbar": {
              "outlinewidth": 0,
              "ticks": ""
             }
            },
            "type": "scattergeo"
           }
          ],
          "scattergl": [
           {
            "marker": {
             "colorbar": {
              "outlinewidth": 0,
              "ticks": ""
             }
            },
            "type": "scattergl"
           }
          ],
          "scattermap": [
           {
            "marker": {
             "colorbar": {
              "outlinewidth": 0,
              "ticks": ""
             }
            },
            "type": "scattermap"
           }
          ],
          "scattermapbox": [
           {
            "marker": {
             "colorbar": {
              "outlinewidth": 0,
              "ticks": ""
             }
            },
            "type": "scattermapbox"
           }
          ],
          "scatterpolar": [
           {
            "marker": {
             "colorbar": {
              "outlinewidth": 0,
              "ticks": ""
             }
            },
            "type": "scatterpolar"
           }
          ],
          "scatterpolargl": [
           {
            "marker": {
             "colorbar": {
              "outlinewidth": 0,
              "ticks": ""
             }
            },
            "type": "scatterpolargl"
           }
          ],
          "scatterternary": [
           {
            "marker": {
             "colorbar": {
              "outlinewidth": 0,
              "ticks": ""
             }
            },
            "type": "scatterternary"
           }
          ],
          "surface": [
           {
            "colorbar": {
             "outlinewidth": 0,
             "ticks": ""
            },
            "colorscale": [
             [
              0,
              "#0d0887"
             ],
             [
              0.1111111111111111,
              "#46039f"
             ],
             [
              0.2222222222222222,
              "#7201a8"
             ],
             [
              0.3333333333333333,
              "#9c179e"
             ],
             [
              0.4444444444444444,
              "#bd3786"
             ],
             [
              0.5555555555555556,
              "#d8576b"
             ],
             [
              0.6666666666666666,
              "#ed7953"
             ],
             [
              0.7777777777777778,
              "#fb9f3a"
             ],
             [
              0.8888888888888888,
              "#fdca26"
             ],
             [
              1,
              "#f0f921"
             ]
            ],
            "type": "surface"
           }
          ],
          "table": [
           {
            "cells": {
             "fill": {
              "color": "#EBF0F8"
             },
             "line": {
              "color": "white"
             }
            },
            "header": {
             "fill": {
              "color": "#C8D4E3"
             },
             "line": {
              "color": "white"
             }
            },
            "type": "table"
           }
          ]
         },
         "layout": {
          "annotationdefaults": {
           "arrowcolor": "#2a3f5f",
           "arrowhead": 0,
           "arrowwidth": 1
          },
          "autotypenumbers": "strict",
          "coloraxis": {
           "colorbar": {
            "outlinewidth": 0,
            "ticks": ""
           }
          },
          "colorscale": {
           "diverging": [
            [
             0,
             "#8e0152"
            ],
            [
             0.1,
             "#c51b7d"
            ],
            [
             0.2,
             "#de77ae"
            ],
            [
             0.3,
             "#f1b6da"
            ],
            [
             0.4,
             "#fde0ef"
            ],
            [
             0.5,
             "#f7f7f7"
            ],
            [
             0.6,
             "#e6f5d0"
            ],
            [
             0.7,
             "#b8e186"
            ],
            [
             0.8,
             "#7fbc41"
            ],
            [
             0.9,
             "#4d9221"
            ],
            [
             1,
             "#276419"
            ]
           ],
           "sequential": [
            [
             0,
             "#0d0887"
            ],
            [
             0.1111111111111111,
             "#46039f"
            ],
            [
             0.2222222222222222,
             "#7201a8"
            ],
            [
             0.3333333333333333,
             "#9c179e"
            ],
            [
             0.4444444444444444,
             "#bd3786"
            ],
            [
             0.5555555555555556,
             "#d8576b"
            ],
            [
             0.6666666666666666,
             "#ed7953"
            ],
            [
             0.7777777777777778,
             "#fb9f3a"
            ],
            [
             0.8888888888888888,
             "#fdca26"
            ],
            [
             1,
             "#f0f921"
            ]
           ],
           "sequentialminus": [
            [
             0,
             "#0d0887"
            ],
            [
             0.1111111111111111,
             "#46039f"
            ],
            [
             0.2222222222222222,
             "#7201a8"
            ],
            [
             0.3333333333333333,
             "#9c179e"
            ],
            [
             0.4444444444444444,
             "#bd3786"
            ],
            [
             0.5555555555555556,
             "#d8576b"
            ],
            [
             0.6666666666666666,
             "#ed7953"
            ],
            [
             0.7777777777777778,
             "#fb9f3a"
            ],
            [
             0.8888888888888888,
             "#fdca26"
            ],
            [
             1,
             "#f0f921"
            ]
           ]
          },
          "colorway": [
           "#636efa",
           "#EF553B",
           "#00cc96",
           "#ab63fa",
           "#FFA15A",
           "#19d3f3",
           "#FF6692",
           "#B6E880",
           "#FF97FF",
           "#FECB52"
          ],
          "font": {
           "color": "#2a3f5f"
          },
          "geo": {
           "bgcolor": "white",
           "lakecolor": "white",
           "landcolor": "#E5ECF6",
           "showlakes": true,
           "showland": true,
           "subunitcolor": "white"
          },
          "hoverlabel": {
           "align": "left"
          },
          "hovermode": "closest",
          "mapbox": {
           "style": "light"
          },
          "paper_bgcolor": "white",
          "plot_bgcolor": "#E5ECF6",
          "polar": {
           "angularaxis": {
            "gridcolor": "white",
            "linecolor": "white",
            "ticks": ""
           },
           "bgcolor": "#E5ECF6",
           "radialaxis": {
            "gridcolor": "white",
            "linecolor": "white",
            "ticks": ""
           }
          },
          "scene": {
           "xaxis": {
            "backgroundcolor": "#E5ECF6",
            "gridcolor": "white",
            "gridwidth": 2,
            "linecolor": "white",
            "showbackground": true,
            "ticks": "",
            "zerolinecolor": "white"
           },
           "yaxis": {
            "backgroundcolor": "#E5ECF6",
            "gridcolor": "white",
            "gridwidth": 2,
            "linecolor": "white",
            "showbackground": true,
            "ticks": "",
            "zerolinecolor": "white"
           },
           "zaxis": {
            "backgroundcolor": "#E5ECF6",
            "gridcolor": "white",
            "gridwidth": 2,
            "linecolor": "white",
            "showbackground": true,
            "ticks": "",
            "zerolinecolor": "white"
           }
          },
          "shapedefaults": {
           "line": {
            "color": "#2a3f5f"
           }
          },
          "ternary": {
           "aaxis": {
            "gridcolor": "white",
            "linecolor": "white",
            "ticks": ""
           },
           "baxis": {
            "gridcolor": "white",
            "linecolor": "white",
            "ticks": ""
           },
           "bgcolor": "#E5ECF6",
           "caxis": {
            "gridcolor": "white",
            "linecolor": "white",
            "ticks": ""
           }
          },
          "title": {
           "x": 0.05
          },
          "xaxis": {
           "automargin": true,
           "gridcolor": "white",
           "linecolor": "white",
           "ticks": "",
           "title": {
            "standoff": 15
           },
           "zerolinecolor": "white",
           "zerolinewidth": 2
          },
          "yaxis": {
           "automargin": true,
           "gridcolor": "white",
           "linecolor": "white",
           "ticks": "",
           "title": {
            "standoff": 15
           },
           "zerolinecolor": "white",
           "zerolinewidth": 2
          }
         }
        },
        "title": {
         "text": "Cell Identity Transitions for Animal 485"
        },
        "width": 500
       }
      }
     },
     "metadata": {},
     "output_type": "display_data"
    },
    {
     "data": {
      "application/vnd.plotly.v1+json": {
       "config": {
        "plotlyServerURL": "https://plot.ly"
       },
       "data": [
        {
         "arrangement": "fixed",
         "link": {
          "color": [
           "rgba(164,118,182,0.5)",
           "rgba(164,118,182,0.5)",
           "rgba(164,118,182,0.5)",
           "rgba(76,166,76,0.5)",
           "rgba(76,166,76,0.5)",
           "rgba(76,166,76,0.5)",
           "rgba(166,166,166,0.5)",
           "rgba(166,166,166,0.5)",
           "rgba(166,166,166,0.5)"
          ],
          "source": [
           0,
           0,
           0,
           1,
           1,
           1,
           2,
           2,
           2
          ],
          "target": [
           3,
           4,
           5,
           3,
           4,
           5,
           3,
           4,
           5
          ],
          "value": [
           52,
           43,
           25,
           13,
           22,
           4,
           74,
           37,
           100
          ]
         },
         "node": {
          "color": [
           "#7D3C98",
           "#008000",
           "#808080",
           "#7D3C98",
           "#008000",
           "#808080"
          ],
          "label": [
           "PC \n(n=120)",
           "TC \n(n=39)",
           "Non‑SI \n(n=211)",
           "PC \n(n=139)",
           "TC \n(n=102)",
           "Non‑SI \n(n=129)"
          ],
          "line": {
           "color": "black",
           "width": 0.5
          },
          "pad": 15,
          "thickness": 20,
          "x": [
           0.1,
           0.1,
           0.1,
           0.9,
           0.9,
           0.9
          ],
          "y": [
           0.1,
           0.5,
           0.9,
           0.1,
           0.5,
           0.9
          ]
         },
         "type": "sankey"
        }
       ],
       "layout": {
        "font": {
         "size": 12
        },
        "height": 400,
        "template": {
         "data": {
          "bar": [
           {
            "error_x": {
             "color": "#2a3f5f"
            },
            "error_y": {
             "color": "#2a3f5f"
            },
            "marker": {
             "line": {
              "color": "#E5ECF6",
              "width": 0.5
             },
             "pattern": {
              "fillmode": "overlay",
              "size": 10,
              "solidity": 0.2
             }
            },
            "type": "bar"
           }
          ],
          "barpolar": [
           {
            "marker": {
             "line": {
              "color": "#E5ECF6",
              "width": 0.5
             },
             "pattern": {
              "fillmode": "overlay",
              "size": 10,
              "solidity": 0.2
             }
            },
            "type": "barpolar"
           }
          ],
          "carpet": [
           {
            "aaxis": {
             "endlinecolor": "#2a3f5f",
             "gridcolor": "white",
             "linecolor": "white",
             "minorgridcolor": "white",
             "startlinecolor": "#2a3f5f"
            },
            "baxis": {
             "endlinecolor": "#2a3f5f",
             "gridcolor": "white",
             "linecolor": "white",
             "minorgridcolor": "white",
             "startlinecolor": "#2a3f5f"
            },
            "type": "carpet"
           }
          ],
          "choropleth": [
           {
            "colorbar": {
             "outlinewidth": 0,
             "ticks": ""
            },
            "type": "choropleth"
           }
          ],
          "contour": [
           {
            "colorbar": {
             "outlinewidth": 0,
             "ticks": ""
            },
            "colorscale": [
             [
              0,
              "#0d0887"
             ],
             [
              0.1111111111111111,
              "#46039f"
             ],
             [
              0.2222222222222222,
              "#7201a8"
             ],
             [
              0.3333333333333333,
              "#9c179e"
             ],
             [
              0.4444444444444444,
              "#bd3786"
             ],
             [
              0.5555555555555556,
              "#d8576b"
             ],
             [
              0.6666666666666666,
              "#ed7953"
             ],
             [
              0.7777777777777778,
              "#fb9f3a"
             ],
             [
              0.8888888888888888,
              "#fdca26"
             ],
             [
              1,
              "#f0f921"
             ]
            ],
            "type": "contour"
           }
          ],
          "contourcarpet": [
           {
            "colorbar": {
             "outlinewidth": 0,
             "ticks": ""
            },
            "type": "contourcarpet"
           }
          ],
          "heatmap": [
           {
            "colorbar": {
             "outlinewidth": 0,
             "ticks": ""
            },
            "colorscale": [
             [
              0,
              "#0d0887"
             ],
             [
              0.1111111111111111,
              "#46039f"
             ],
             [
              0.2222222222222222,
              "#7201a8"
             ],
             [
              0.3333333333333333,
              "#9c179e"
             ],
             [
              0.4444444444444444,
              "#bd3786"
             ],
             [
              0.5555555555555556,
              "#d8576b"
             ],
             [
              0.6666666666666666,
              "#ed7953"
             ],
             [
              0.7777777777777778,
              "#fb9f3a"
             ],
             [
              0.8888888888888888,
              "#fdca26"
             ],
             [
              1,
              "#f0f921"
             ]
            ],
            "type": "heatmap"
           }
          ],
          "histogram": [
           {
            "marker": {
             "pattern": {
              "fillmode": "overlay",
              "size": 10,
              "solidity": 0.2
             }
            },
            "type": "histogram"
           }
          ],
          "histogram2d": [
           {
            "colorbar": {
             "outlinewidth": 0,
             "ticks": ""
            },
            "colorscale": [
             [
              0,
              "#0d0887"
             ],
             [
              0.1111111111111111,
              "#46039f"
             ],
             [
              0.2222222222222222,
              "#7201a8"
             ],
             [
              0.3333333333333333,
              "#9c179e"
             ],
             [
              0.4444444444444444,
              "#bd3786"
             ],
             [
              0.5555555555555556,
              "#d8576b"
             ],
             [
              0.6666666666666666,
              "#ed7953"
             ],
             [
              0.7777777777777778,
              "#fb9f3a"
             ],
             [
              0.8888888888888888,
              "#fdca26"
             ],
             [
              1,
              "#f0f921"
             ]
            ],
            "type": "histogram2d"
           }
          ],
          "histogram2dcontour": [
           {
            "colorbar": {
             "outlinewidth": 0,
             "ticks": ""
            },
            "colorscale": [
             [
              0,
              "#0d0887"
             ],
             [
              0.1111111111111111,
              "#46039f"
             ],
             [
              0.2222222222222222,
              "#7201a8"
             ],
             [
              0.3333333333333333,
              "#9c179e"
             ],
             [
              0.4444444444444444,
              "#bd3786"
             ],
             [
              0.5555555555555556,
              "#d8576b"
             ],
             [
              0.6666666666666666,
              "#ed7953"
             ],
             [
              0.7777777777777778,
              "#fb9f3a"
             ],
             [
              0.8888888888888888,
              "#fdca26"
             ],
             [
              1,
              "#f0f921"
             ]
            ],
            "type": "histogram2dcontour"
           }
          ],
          "mesh3d": [
           {
            "colorbar": {
             "outlinewidth": 0,
             "ticks": ""
            },
            "type": "mesh3d"
           }
          ],
          "parcoords": [
           {
            "line": {
             "colorbar": {
              "outlinewidth": 0,
              "ticks": ""
             }
            },
            "type": "parcoords"
           }
          ],
          "pie": [
           {
            "automargin": true,
            "type": "pie"
           }
          ],
          "scatter": [
           {
            "fillpattern": {
             "fillmode": "overlay",
             "size": 10,
             "solidity": 0.2
            },
            "type": "scatter"
           }
          ],
          "scatter3d": [
           {
            "line": {
             "colorbar": {
              "outlinewidth": 0,
              "ticks": ""
             }
            },
            "marker": {
             "colorbar": {
              "outlinewidth": 0,
              "ticks": ""
             }
            },
            "type": "scatter3d"
           }
          ],
          "scattercarpet": [
           {
            "marker": {
             "colorbar": {
              "outlinewidth": 0,
              "ticks": ""
             }
            },
            "type": "scattercarpet"
           }
          ],
          "scattergeo": [
           {
            "marker": {
             "colorbar": {
              "outlinewidth": 0,
              "ticks": ""
             }
            },
            "type": "scattergeo"
           }
          ],
          "scattergl": [
           {
            "marker": {
             "colorbar": {
              "outlinewidth": 0,
              "ticks": ""
             }
            },
            "type": "scattergl"
           }
          ],
          "scattermap": [
           {
            "marker": {
             "colorbar": {
              "outlinewidth": 0,
              "ticks": ""
             }
            },
            "type": "scattermap"
           }
          ],
          "scattermapbox": [
           {
            "marker": {
             "colorbar": {
              "outlinewidth": 0,
              "ticks": ""
             }
            },
            "type": "scattermapbox"
           }
          ],
          "scatterpolar": [
           {
            "marker": {
             "colorbar": {
              "outlinewidth": 0,
              "ticks": ""
             }
            },
            "type": "scatterpolar"
           }
          ],
          "scatterpolargl": [
           {
            "marker": {
             "colorbar": {
              "outlinewidth": 0,
              "ticks": ""
             }
            },
            "type": "scatterpolargl"
           }
          ],
          "scatterternary": [
           {
            "marker": {
             "colorbar": {
              "outlinewidth": 0,
              "ticks": ""
             }
            },
            "type": "scatterternary"
           }
          ],
          "surface": [
           {
            "colorbar": {
             "outlinewidth": 0,
             "ticks": ""
            },
            "colorscale": [
             [
              0,
              "#0d0887"
             ],
             [
              0.1111111111111111,
              "#46039f"
             ],
             [
              0.2222222222222222,
              "#7201a8"
             ],
             [
              0.3333333333333333,
              "#9c179e"
             ],
             [
              0.4444444444444444,
              "#bd3786"
             ],
             [
              0.5555555555555556,
              "#d8576b"
             ],
             [
              0.6666666666666666,
              "#ed7953"
             ],
             [
              0.7777777777777778,
              "#fb9f3a"
             ],
             [
              0.8888888888888888,
              "#fdca26"
             ],
             [
              1,
              "#f0f921"
             ]
            ],
            "type": "surface"
           }
          ],
          "table": [
           {
            "cells": {
             "fill": {
              "color": "#EBF0F8"
             },
             "line": {
              "color": "white"
             }
            },
            "header": {
             "fill": {
              "color": "#C8D4E3"
             },
             "line": {
              "color": "white"
             }
            },
            "type": "table"
           }
          ]
         },
         "layout": {
          "annotationdefaults": {
           "arrowcolor": "#2a3f5f",
           "arrowhead": 0,
           "arrowwidth": 1
          },
          "autotypenumbers": "strict",
          "coloraxis": {
           "colorbar": {
            "outlinewidth": 0,
            "ticks": ""
           }
          },
          "colorscale": {
           "diverging": [
            [
             0,
             "#8e0152"
            ],
            [
             0.1,
             "#c51b7d"
            ],
            [
             0.2,
             "#de77ae"
            ],
            [
             0.3,
             "#f1b6da"
            ],
            [
             0.4,
             "#fde0ef"
            ],
            [
             0.5,
             "#f7f7f7"
            ],
            [
             0.6,
             "#e6f5d0"
            ],
            [
             0.7,
             "#b8e186"
            ],
            [
             0.8,
             "#7fbc41"
            ],
            [
             0.9,
             "#4d9221"
            ],
            [
             1,
             "#276419"
            ]
           ],
           "sequential": [
            [
             0,
             "#0d0887"
            ],
            [
             0.1111111111111111,
             "#46039f"
            ],
            [
             0.2222222222222222,
             "#7201a8"
            ],
            [
             0.3333333333333333,
             "#9c179e"
            ],
            [
             0.4444444444444444,
             "#bd3786"
            ],
            [
             0.5555555555555556,
             "#d8576b"
            ],
            [
             0.6666666666666666,
             "#ed7953"
            ],
            [
             0.7777777777777778,
             "#fb9f3a"
            ],
            [
             0.8888888888888888,
             "#fdca26"
            ],
            [
             1,
             "#f0f921"
            ]
           ],
           "sequentialminus": [
            [
             0,
             "#0d0887"
            ],
            [
             0.1111111111111111,
             "#46039f"
            ],
            [
             0.2222222222222222,
             "#7201a8"
            ],
            [
             0.3333333333333333,
             "#9c179e"
            ],
            [
             0.4444444444444444,
             "#bd3786"
            ],
            [
             0.5555555555555556,
             "#d8576b"
            ],
            [
             0.6666666666666666,
             "#ed7953"
            ],
            [
             0.7777777777777778,
             "#fb9f3a"
            ],
            [
             0.8888888888888888,
             "#fdca26"
            ],
            [
             1,
             "#f0f921"
            ]
           ]
          },
          "colorway": [
           "#636efa",
           "#EF553B",
           "#00cc96",
           "#ab63fa",
           "#FFA15A",
           "#19d3f3",
           "#FF6692",
           "#B6E880",
           "#FF97FF",
           "#FECB52"
          ],
          "font": {
           "color": "#2a3f5f"
          },
          "geo": {
           "bgcolor": "white",
           "lakecolor": "white",
           "landcolor": "#E5ECF6",
           "showlakes": true,
           "showland": true,
           "subunitcolor": "white"
          },
          "hoverlabel": {
           "align": "left"
          },
          "hovermode": "closest",
          "mapbox": {
           "style": "light"
          },
          "paper_bgcolor": "white",
          "plot_bgcolor": "#E5ECF6",
          "polar": {
           "angularaxis": {
            "gridcolor": "white",
            "linecolor": "white",
            "ticks": ""
           },
           "bgcolor": "#E5ECF6",
           "radialaxis": {
            "gridcolor": "white",
            "linecolor": "white",
            "ticks": ""
           }
          },
          "scene": {
           "xaxis": {
            "backgroundcolor": "#E5ECF6",
            "gridcolor": "white",
            "gridwidth": 2,
            "linecolor": "white",
            "showbackground": true,
            "ticks": "",
            "zerolinecolor": "white"
           },
           "yaxis": {
            "backgroundcolor": "#E5ECF6",
            "gridcolor": "white",
            "gridwidth": 2,
            "linecolor": "white",
            "showbackground": true,
            "ticks": "",
            "zerolinecolor": "white"
           },
           "zaxis": {
            "backgroundcolor": "#E5ECF6",
            "gridcolor": "white",
            "gridwidth": 2,
            "linecolor": "white",
            "showbackground": true,
            "ticks": "",
            "zerolinecolor": "white"
           }
          },
          "shapedefaults": {
           "line": {
            "color": "#2a3f5f"
           }
          },
          "ternary": {
           "aaxis": {
            "gridcolor": "white",
            "linecolor": "white",
            "ticks": ""
           },
           "baxis": {
            "gridcolor": "white",
            "linecolor": "white",
            "ticks": ""
           },
           "bgcolor": "#E5ECF6",
           "caxis": {
            "gridcolor": "white",
            "linecolor": "white",
            "ticks": ""
           }
          },
          "title": {
           "x": 0.05
          },
          "xaxis": {
           "automargin": true,
           "gridcolor": "white",
           "linecolor": "white",
           "ticks": "",
           "title": {
            "standoff": 15
           },
           "zerolinecolor": "white",
           "zerolinewidth": 2
          },
          "yaxis": {
           "automargin": true,
           "gridcolor": "white",
           "linecolor": "white",
           "ticks": "",
           "title": {
            "standoff": 15
           },
           "zerolinecolor": "white",
           "zerolinewidth": 2
          }
         }
        },
        "title": {
         "text": "Merged Cell Identity Transitions (All Animals)"
        },
        "width": 500
       }
      }
     },
     "metadata": {},
     "output_type": "display_data"
    }
   ],
   "source": [
    "# sanky plots\n",
    "import pandas as pd\n",
    "import plotly.graph_objects as go\n",
    "\n",
    "# -------------------------------\n",
    "# Helper function to produce a lightened RGBA color.\n",
    "# -------------------------------\n",
    "def lighten_color_rgba(hex_color, amount=0.3, alpha=0.5):\n",
    "    \"\"\"\n",
    "    Lightens the given hex_color by blending it with white and returns an rgba string.\n",
    "    \n",
    "    Parameters:\n",
    "      hex_color (str): Color as a hex string, e.g. \"#7D3C98\".\n",
    "      amount (float): Fraction of white to blend in (0 to 1).\n",
    "      alpha (float): The alpha value for transparency (0 to 1).\n",
    "    \n",
    "    Returns:\n",
    "      str: The lightened color as an rgba string, e.g. \"rgba(200,180,210,0.5)\".\n",
    "    \"\"\"\n",
    "    hex_color = hex_color.lstrip('#')\n",
    "    r = int(hex_color[0:2], 16)\n",
    "    g = int(hex_color[2:4], 16)\n",
    "    b = int(hex_color[4:6], 16)\n",
    "    r = int(r + (255 - r) * amount)\n",
    "    g = int(g + (255 - g) * amount)\n",
    "    b = int(b + (255 - b) * amount)\n",
    "    return f\"rgba({r},{g},{b},{alpha})\"\n",
    "\n",
    "# =============================================================================\n",
    "# 1. Data Setup\n",
    "# =============================================================================\n",
    "\n",
    "cell_data = cell_type_mask_phases  \n",
    "animals = [\"478\", \"481\", \"483\", \"485\"]\n",
    "\n",
    "# =============================================================================\n",
    "# 2. Compute Transitions (and node counts)\n",
    "# =============================================================================\n",
    "# For each stage, define:\n",
    "#   PC = (PC_arm OR PC_stem)\n",
    "#   TC = (TC_arm OR TC_stem)\n",
    "#   Non‑SI = NOT (PC OR TC)\n",
    "# Then compute the flows between the learning and learned stages.\n",
    "transitions_list = []  # for individual animals\n",
    "agg = {  # accumulator for merged diagram\n",
    "    \"pc_to_pc\": 0, \"pc_to_tc\": 0, \"pc_to_nonsi\": 0,\n",
    "    \"tc_to_pc\": 0, \"tc_to_tc\": 0, \"tc_to_nonsi\": 0,\n",
    "    \"nonsi_to_pc\": 0, \"nonsi_to_tc\": 0, \"nonsi_to_nonsi\": 0\n",
    "}\n",
    "\n",
    "for animal in animals:\n",
    "    # Learning stage:\n",
    "    learn = cell_data[\"learning\"][animal]\n",
    "    PC_learning = learn[\"PC_arm\"] | learn[\"PC_stem\"]  # (cells in PC)\n",
    "    TC_learning = learn[\"TC_arm\"] | learn[\"TC_stem\"]      # (cells in TC)\n",
    "    non_si_learning = ~(PC_learning | TC_learning)         # (cells not in PC or TC)\n",
    "    total_pc_learning = np.sum(PC_learning)\n",
    "    total_tc_learning = np.sum(TC_learning)\n",
    "    total_nonsi_learning = np.sum(non_si_learning)\n",
    "    \n",
    "    # Learned stage:\n",
    "    learned = cell_data[\"learned\"][animal]\n",
    "    PC_learned = learned[\"PC_arm\"] | learned[\"PC_stem\"]\n",
    "    TC_learned = learned[\"TC_arm\"] | learned[\"TC_stem\"]\n",
    "    non_si_learned = ~(PC_learned | TC_learned)\n",
    "    \n",
    "    # Flows:\n",
    "    pc_to_pc    = np.sum(PC_learning & PC_learned)\n",
    "    pc_to_tc    = np.sum(PC_learning & TC_learned)\n",
    "    pc_to_nonsi = np.sum(PC_learning & non_si_learned)\n",
    "    \n",
    "    tc_to_pc    = np.sum(TC_learning & PC_learned)\n",
    "    tc_to_tc    = np.sum(TC_learning & TC_learned)\n",
    "    tc_to_nonsi = np.sum(TC_learning & non_si_learned)\n",
    "    \n",
    "    nonsi_to_pc    = np.sum(non_si_learning & PC_learned)\n",
    "    nonsi_to_tc    = np.sum(non_si_learning & TC_learned)\n",
    "    nonsi_to_nonsi = np.sum(non_si_learning & non_si_learned)\n",
    "    \n",
    "    # Accumulate for merged diagram:\n",
    "    agg[\"pc_to_pc\"]    += pc_to_pc\n",
    "    agg[\"pc_to_tc\"]    += pc_to_tc\n",
    "    agg[\"pc_to_nonsi\"] += pc_to_nonsi\n",
    "    agg[\"tc_to_pc\"]    += tc_to_pc\n",
    "    agg[\"tc_to_tc\"]    += tc_to_tc\n",
    "    agg[\"tc_to_nonsi\"] += tc_to_nonsi\n",
    "    agg[\"nonsi_to_pc\"]    += nonsi_to_pc\n",
    "    agg[\"nonsi_to_tc\"]    += nonsi_to_tc\n",
    "    agg[\"nonsi_to_nonsi\"] += nonsi_to_nonsi\n",
    "    \n",
    "    transitions_list.append({\n",
    "        'Animal': animal,\n",
    "        'PC Learning Count': total_pc_learning,\n",
    "        'TC Learning Count': total_tc_learning,\n",
    "        'Non‑SI Learning Count': total_nonsi_learning\n",
    "    })\n",
    "\n",
    "df_transitions = pd.DataFrame(transitions_list)\n",
    "print(\"Cell counts (per animal):\")\n",
    "print(df_transitions)\n",
    "\n",
    "# =============================================================================\n",
    "# 3. Create Fixed-Order Sankey Diagrams\n",
    "# =============================================================================\n",
    "# We want the nodes always in the order (from top to bottom):\n",
    "#   Learning side: PC, then TC, then Non‑SI\n",
    "#   Learned side:  PC, then TC, then Non‑SI\n",
    "#\n",
    "# We force this by setting:\n",
    "#   arrangement = \"fixed\"\n",
    "#   fixed x positions (e.g., learning nodes at x=0.1, learned nodes at x=0.9)\n",
    "#   fixed y positions (normalized so that PC is at y=0.1, TC at y=0.5, Non‑SI at y=0.9)\n",
    "fixed_x = [0.1, 0.1, 0.1, 0.9, 0.9, 0.9]\n",
    "fixed_y = [0.1, 0.5, 0.9, 0.1, 0.5, 0.9]\n",
    "\n",
    "# Base node colors (your specified colors):\n",
    "#   PC: '#7D3C98'\n",
    "#   TC: '#008000'\n",
    "#   Non‑SI: '#808080'\n",
    "base_node_colors = ['#7D3C98', '#008000', '#808080']\n",
    "node_colors = base_node_colors + base_node_colors  # same for learning and learned\n",
    "\n",
    "# ---- Create Per-Animal Diagrams ----\n",
    "for animal in animals:\n",
    "    # Recompute for this animal:\n",
    "    learn = cell_data[\"learning\"][animal]\n",
    "    PC_learning = learn[\"PC_arm\"] | learn[\"PC_stem\"]\n",
    "    TC_learning = learn[\"TC_arm\"] | learn[\"TC_stem\"]\n",
    "    non_si_learning = ~(PC_learning | TC_learning)\n",
    "    \n",
    "    learned = cell_data[\"learned\"][animal]\n",
    "    PC_learned = learned[\"PC_arm\"] | learned[\"PC_stem\"]\n",
    "    TC_learned = learned[\"TC_arm\"] | learned[\"TC_stem\"]\n",
    "    non_si_learned = ~(PC_learned | TC_learned)\n",
    "    \n",
    "    # Node totals:\n",
    "    pc_learning_count = np.sum(PC_learning)\n",
    "    tc_learning_count = np.sum(TC_learning)\n",
    "    nonsi_learning_count = np.sum(non_si_learning)\n",
    "    pc_learned_count = np.sum(PC_learned)\n",
    "    tc_learned_count = np.sum(TC_learned)\n",
    "    nonsi_learned_count = np.sum(non_si_learned)\n",
    "    \n",
    "    # Flows (in fixed order):\n",
    "    pc_to_pc    = np.sum(PC_learning & PC_learned)\n",
    "    pc_to_tc    = np.sum(PC_learning & TC_learned)\n",
    "    pc_to_nonsi = np.sum(PC_learning & non_si_learned)\n",
    "    \n",
    "    tc_to_pc    = np.sum(TC_learning & PC_learned)\n",
    "    tc_to_tc    = np.sum(TC_learning & TC_learned)\n",
    "    tc_to_nonsi = np.sum(TC_learning & non_si_learned)\n",
    "    \n",
    "    nonsi_to_pc    = np.sum(non_si_learning & PC_learned)\n",
    "    nonsi_to_tc    = np.sum(non_si_learning & TC_learned)\n",
    "    nonsi_to_nonsi = np.sum(non_si_learning & non_si_learned)\n",
    "    \n",
    "    # Build sources, targets, values arrays (for the 9 flows):\n",
    "    sources = [0, 0, 0, 1, 1, 1, 2, 2, 2]\n",
    "    targets = [3, 4, 5, 3, 4, 5, 3, 4, 5]\n",
    "    values = [pc_to_pc, pc_to_tc, pc_to_nonsi,\n",
    "              tc_to_pc, tc_to_tc, tc_to_nonsi,\n",
    "              nonsi_to_pc, nonsi_to_tc, nonsi_to_nonsi]\n",
    "    print(animal,str(pc_to_nonsi+nonsi_to_nonsi))\n",
    "    # --- FIX for Missing TC Learning ---\n",
    "    # If there is no TC learning (i.e. tc_learning_count == 0), then all flows from node 1 are 0.\n",
    "    # To force the TC node to appear, add a dummy self-loop on node 1 (learning) to node 4 (learned)\n",
    "    # with a very small value.\n",
    "    if tc_learning_count == 0:\n",
    "        sources.append(1)\n",
    "        targets.append(4)\n",
    "        values.append(1e-6)\n",
    "    \n",
    "    # Compute link colors based on the source node.\n",
    "    link_colors = [lighten_color_rgba(base_node_colors[src], amount=0.3, alpha=0.5) for src in sources]\n",
    "    \n",
    "    # Update node labels with counts (fixed order: PC, TC, Non‑SI)\n",
    "    labels = [\n",
    "        f\"PC \\n(n={pc_learning_count})\",\n",
    "        f\"TC \\n(n={tc_learning_count})\",\n",
    "        f\"Non‑SI \\n(n={nonsi_learning_count})\",\n",
    "        f\"PC \\n(n={pc_learned_count})\",\n",
    "        f\"TC \\n(n={tc_learned_count})\",\n",
    "        f\"Non‑SI \\n(n={nonsi_learned_count})\"\n",
    "    ]\n",
    "    \n",
    "    fig = go.Figure(data=[go.Sankey(\n",
    "        arrangement=\"fixed\",\n",
    "        node=dict(\n",
    "            pad=15,\n",
    "            thickness=20,\n",
    "            line=dict(color=\"black\", width=0.5),\n",
    "            label=labels,\n",
    "            color=node_colors,\n",
    "            x=fixed_x,\n",
    "            y=fixed_y\n",
    "        ),\n",
    "        link=dict(\n",
    "            source=sources,\n",
    "            target=targets,\n",
    "            value=values,\n",
    "            color=link_colors\n",
    "        )\n",
    "    )])\n",
    "    \n",
    "    fig.update_layout(\n",
    "        title_text=f\"Cell Identity Transitions for Animal {animal}\",\n",
    "        font_size=12,\n",
    "        width=500,\n",
    "        height=400\n",
    "    )\n",
    "    # Save the figure (here using write_image; if you prefer HTML, use write_html)\n",
    "    fig.write_image(savefolder + f\"Sankey_Animal_{animal}_transitions.svg\")\n",
    "    fig.show()\n",
    "\n",
    "# ---- Create Merged Diagram ----\n",
    "agg_pc_learning = 0\n",
    "agg_tc_learning = 0\n",
    "agg_nonsi_learning = 0\n",
    "agg_pc_learned = 0\n",
    "agg_tc_learned = 0\n",
    "agg_nonsi_learned = 0\n",
    "\n",
    "for animal in animals:\n",
    "    learn = cell_data[\"learning\"][animal]\n",
    "    PC_learning = learn[\"PC_arm\"] | learn[\"PC_stem\"]\n",
    "    TC_learning = learn[\"TC_arm\"] | learn[\"TC_stem\"]\n",
    "    non_si_learning = ~(PC_learning | TC_learning)\n",
    "    learned = cell_data[\"learned\"][animal]\n",
    "    PC_learned = learned[\"PC_arm\"] | learned[\"PC_stem\"]\n",
    "    TC_learned = learned[\"TC_arm\"] | learned[\"TC_stem\"]\n",
    "    non_si_learned = ~(PC_learned | TC_learned)\n",
    "    \n",
    "    agg_pc_learning    += np.sum(PC_learning)\n",
    "    agg_tc_learning    += np.sum(TC_learning)\n",
    "    agg_nonsi_learning += np.sum(non_si_learning)\n",
    "    agg_pc_learned    += np.sum(PC_learned)\n",
    "    agg_tc_learned    += np.sum(TC_learned)\n",
    "    agg_nonsi_learned += np.sum(non_si_learned)\n",
    "\n",
    "labels_merged = [\n",
    "    f\"PC \\n(n={agg_pc_learning})\",\n",
    "    f\"TC \\n(n={agg_tc_learning})\",\n",
    "    f\"Non‑SI \\n(n={agg_nonsi_learning})\",\n",
    "    f\"PC \\n(n={agg_pc_learned})\",\n",
    "    f\"TC \\n(n={agg_tc_learned})\",\n",
    "    f\"Non‑SI \\n(n={agg_nonsi_learned})\"\n",
    "]\n",
    "sources_merged = [0, 0, 0, 1, 1, 1, 2, 2, 2]\n",
    "targets_merged = [3, 4, 5, 3, 4, 5, 3, 4, 5]\n",
    "values_merged = [agg[\"pc_to_pc\"], agg[\"pc_to_tc\"], agg[\"pc_to_nonsi\"],\n",
    "                 agg[\"tc_to_pc\"], agg[\"tc_to_tc\"], agg[\"tc_to_nonsi\"],\n",
    "                 agg[\"nonsi_to_pc\"], agg[\"nonsi_to_tc\"], agg[\"nonsi_to_nonsi\"]]\n",
    "# For merged diagram, if the aggregated TC learning count is zero, add a dummy link.\n",
    "if agg_tc_learning == 0:\n",
    "    sources_merged.append(1)\n",
    "    targets_merged.append(4)\n",
    "    values_merged.append(1e-6)\n",
    "\n",
    "link_colors_merged = [lighten_color_rgba(base_node_colors[src], amount=0.3, alpha=0.5)\n",
    "                      for src in sources_merged]\n",
    "\n",
    "fig_merged = go.Figure(data=[go.Sankey(\n",
    "    arrangement=\"fixed\",\n",
    "    node=dict(\n",
    "        pad=15,\n",
    "        thickness=20,\n",
    "        line=dict(color=\"black\", width=0.5),\n",
    "        label=labels_merged,\n",
    "        color=node_colors,\n",
    "        x=fixed_x,\n",
    "        y=fixed_y\n",
    "    ),\n",
    "    link=dict(\n",
    "        source=sources_merged,\n",
    "        target=targets_merged,\n",
    "        value=values_merged,\n",
    "        color=link_colors_merged\n",
    "    )\n",
    ")])\n",
    "fig_merged.update_layout(\n",
    "    title_text=\"Merged Cell Identity Transitions (All Animals)\",\n",
    "    font_size=12,\n",
    "    width=500,\n",
    "    height=400\n",
    ")\n",
    "fig_merged.write_image(savefolder + \"sankey_Cell_transitions_all.svg\")\n",
    "fig_merged.show()\n"
   ]
  },
  {
   "cell_type": "code",
   "execution_count": null,
   "metadata": {},
   "outputs": [],
   "source": [
    "def circular_shuffle(rate_map):\n",
    "    shift = np.random.randint(0, rate_map.shape[0])  # Random shift value\n",
    "    return np.roll(rate_map, shift)  # Circular shift\n",
    "\n"
   ]
  },
  {
   "cell_type": "code",
   "execution_count": null,
   "metadata": {},
   "outputs": [
    {
     "data": {
      "image/png": "[encoded data removed]",
      "text/plain": [
       "<Figure size 288x216 with 1 Axes>"
      ]
     },
     "metadata": {
      "needs_background": "light"
     },
     "output_type": "display_data"
    }
   ],
   "source": [
    " # visualize ratios\n",
    "\n",
    "\n",
    "# Convert data to DataFrame\n",
    "df = pd.DataFrame(PC_ratios).T\n",
    "colors=['green','#7D3C98','grey']\n",
    "\n",
    "# Calculate mean and standard deviation for 'tc_became_tc', 'pc_became_tc', and 'non_si_became_tc' across all animals\n",
    "mean_values = df[['tc_became_tc_learning', 'tc_became_pc', 'tc_became_Non_SI']].mean()\n",
    "std_devs = df[['tc_became_tc_learning', 'tc_became_pc', 'tc_became_Non_SI']].std()\n",
    "\n",
    "# Plotting\n",
    "fig, ax = plt.subplots(figsize=(4, 3))\n",
    "\n",
    "# Bar chart for the averages with standard deviation error bars\n",
    "ax.bar(mean_values.index, mean_values, yerr=std_devs, color=colors, edgecolor='k', capsize=5, label='Mean ± SD')\n",
    "\n",
    "# Overlay individual data points for each animal around the mean\n",
    "for i, column in enumerate(['tc_became_tc_learning', 'tc_became_pc', 'tc_became_Non_SI']):\n",
    "    x_positions = np.random.normal(i, 0.05, size=len(df))  # Slight jitter for clear visualization\n",
    "    ax.scatter(x_positions, df[column], color='black', s=20, alpha=0.7)\n",
    "\n",
    "# Update x-axis labels\n",
    "ax.set_xticks(range(len(mean_values.index)))  # Set the number of ticks\n",
    "ax.set_xticklabels(['To TC', 'To PC', 'To Non-SI'])  # New labels\n",
    "\n",
    "# Labels and title\n",
    "ax.set_ylabel('Ratio (normalized by TC learning)')\n",
    "ax.set_title('Transition from TC (learning)')\n",
    "\n",
    "# Customize spines\n",
    "ax.spines['top'].set_visible(False)\n",
    "ax.spines['right'].set_visible(False)\n",
    "\n",
    "# Set y-axis limits and tick parameters\n",
    "plt.ylim([0, 1.1])\n",
    "ax.tick_params(axis='both', which='major', labelsize=12, width=1.5)\n",
    "for spine in ['top', 'bottom', 'left', 'right']:\n",
    "    ax.spines[spine].set_linewidth(1.5)\n",
    "\n",
    "# Add legend\n",
    "#ax.legend()\n",
    "\n",
    "# Tight layout and show plot\n",
    "for ax in [ax]:\n",
    "    ax.tick_params(axis='both', which='major', labelsize=12, width=1.5)\n",
    "    ax.spines['top'].set_linewidth(1.5)\n",
    "    ax.spines['bottom'].set_linewidth(1.5)\n",
    "    ax.spines['left'].set_linewidth(1.5)\n",
    "    ax.spines['right'].set_linewidth(1.5)\n",
    "plt.tight_layout()\n",
    "plt.savefig(savefolder+'TC to Non_TC over TC learning new.svg', format='svg',dpi=300)\n",
    "plt.show()"
   ]
  },
  {
   "cell_type": "code",
   "execution_count": null,
   "metadata": {},
   "outputs": [
    {
     "data": {
      "image/png": "[encoded data removed]",
      "text/plain": [
       "<Figure size 288x216 with 1 Axes>"
      ]
     },
     "metadata": {
      "needs_background": "light"
     },
     "output_type": "display_data"
    }
   ],
   "source": [
    " # visualize ratios\n",
    "\n",
    "# Convert data to DataFrame\n",
    "df = pd.DataFrame(PC_ratios).T\n",
    "\n",
    "# Calculate mean and standard deviation for 'tc_became_tc', 'pc_became_tc', and 'non_si_became_tc' across all animals\n",
    "mean_values = df[['tc_became_tc', 'pc_became_tc', 'non_si_became_tc']].mean()\n",
    "std_devs = df[['tc_became_tc', 'pc_became_tc', 'non_si_became_tc']].std()\n",
    "\n",
    "# Plotting\n",
    "fig, ax = plt.subplots(figsize=(4, 3))\n",
    "\n",
    "# Bar chart for the averages with standard deviation error bars\n",
    "ax.bar(mean_values.index, mean_values, yerr=std_devs, color='green', edgecolor='k', capsize=5, label='Mean ± SD')\n",
    "\n",
    "# Overlay individual data points for each animal around the mean\n",
    "for i, column in enumerate(['tc_became_tc', 'pc_became_tc', 'non_si_became_tc']):\n",
    "    x_positions = np.random.normal(i, 0.05, size=len(df))  # Slight jitter for clear visualization\n",
    "    ax.scatter(x_positions, df[column], color='black', s=20, alpha=0.7)\n",
    "\n",
    "# Update x-axis labels\n",
    "ax.set_xticks(range(len(mean_values.index)))  # Set the number of ticks\n",
    "ax.set_xticklabels(['From TC', 'From PC', 'From Non-SI'])  # New labels\n",
    "\n",
    "# Labels and title\n",
    "ax.set_ylabel('Ratio (normalized by TC learned)')\n",
    "ax.set_title('Transition to TC')\n",
    "\n",
    "# Customize spines\n",
    "ax.spines['top'].set_visible(False)\n",
    "ax.spines['right'].set_visible(False)\n",
    "\n",
    "# Set y-axis limits and tick parameters\n",
    "plt.ylim([0, 1])\n",
    "ax.tick_params(axis='both', which='major', labelsize=12, width=1.5)\n",
    "for spine in ['top', 'bottom', 'left', 'right']:\n",
    "    ax.spines[spine].set_linewidth(1.5)\n",
    "\n",
    "# Add legend\n",
    "#ax.legend()\n",
    "\n",
    "# Tight layout and show plot\n",
    "for ax in [ax]:\n",
    "    ax.tick_params(axis='both', which='major', labelsize=12, width=1.5)\n",
    "    ax.spines['top'].set_linewidth(1.5)\n",
    "    ax.spines['bottom'].set_linewidth(1.5)\n",
    "    ax.spines['left'].set_linewidth(1.5)\n",
    "    ax.spines['right'].set_linewidth(1.5)\n",
    "plt.tight_layout()\n",
    "plt.savefig(savefolder+'Non_TC to TC over TC learned new.svg', format='svg',dpi=300)\n",
    "plt.show()"
   ]
  },
  {
   "cell_type": "code",
   "execution_count": null,
   "metadata": {},
   "outputs": [
    {
     "data": {
      "image/png": "[encoded data removed]",
      "text/plain": [
       "<Figure size 324x216 with 1 Axes>"
      ]
     },
     "metadata": {
      "needs_background": "light"
     },
     "output_type": "display_data"
    }
   ],
   "source": [
    " # visualize ratios\n",
    "\n",
    "\n",
    "# Create the plot for multiple animals\n",
    "fig, ax = plt.subplots(figsize=(4.5, 3))\n",
    "\n",
    "# Iterate over each animal\n",
    "for animal, data in PC_to_TC_ratios.items():\n",
    "    # Calculate the values based on 'pc_learning'\n",
    "    left_value = data['Left'] * data['PC_to_nonPC']\n",
    "    right_value = data['right'] * data['PC_to_nonPC']\n",
    "    \n",
    "    # Plot the stacked bar for each animal\n",
    "    ax.bar(animal, data['PC_to_nonPC'], color='grey',label='PC to Non-SI' if animal == '478' else \"\",edgecolor='k' )\n",
    "    ax.bar(animal, left_value, color='green', label='PC to TC (L)' if animal == '478' else \"\",edgecolor='k' )\n",
    "    ax.bar(animal, right_value,bottom=left_value, color='lightgreen', label='PC to TC (R)' if animal == '478' else \"\",edgecolor='k' )\n",
    "\n",
    "# Add labels and title\n",
    "ax.set_ylabel('PC to Non-PC/All')\n",
    "#ax.set_title('Proportion of Place Cells During Learning for Multiple Animals')\n",
    "plt.gca().spines['top'].set_visible(False)\n",
    "\n",
    "# Optionally hide the right spine as well\n",
    "plt.gca().spines['right'].set_visible(False)\n",
    "# Add a legend\n",
    "ax.legend()\n",
    "ax.spines['top'].set_visible(False)\n",
    "ax.spines['right'].set_visible(False)\n",
    "\n",
    "\n",
    "for ax in [ax]:\n",
    "    ax.tick_params(axis='both', which='major', labelsize=12, width=1.5)\n",
    "    ax.spines['top'].set_linewidth(1.5)\n",
    "    ax.spines['bottom'].set_linewidth(1.5)\n",
    "    ax.spines['left'].set_linewidth(1.5)\n",
    "    ax.spines['right'].set_linewidth(1.5)\n",
    "# Show the plot\n",
    "plt.tight_layout()\n",
    "#plt.savefig(savefolder+'PC to Non-PC same position average.svg', format='svg')#,dpi=300)\n",
    "plt.show()\n",
    "\n"
   ]
  },
  {
   "cell_type": "code",
   "execution_count": null,
   "metadata": {},
   "outputs": [
    {
     "data": {
      "image/png": "[encoded data removed]",
      "text/plain": [
       "<Figure size 288x216 with 1 Axes>"
      ]
     },
     "metadata": {
      "needs_background": "light"
     },
     "output_type": "display_data"
    }
   ],
   "source": [
    " # visualize ratios\n",
    "# Convert data to DataFrame and select last three columns\n",
    "df = pd.DataFrame(PC_ratios).T\n",
    "df_last_three = df[['non_si_became_tc', 'non_tc_became_tc', 'tc_became_non_tc']]\n",
    "\n",
    "# Calculate means and standard deviations\n",
    "means = df_last_three.mean()\n",
    "std_devs = df_last_three.std()\n",
    "\n",
    "# Plotting\n",
    "fig, ax = plt.subplots(figsize=(4, 3))\n",
    "\n",
    "# Bar chart with error bars\n",
    "ax.bar(means.index, means, yerr=std_devs, capsize=5, label='Mean ± SD',edgecolor='k')\n",
    "\n",
    "# Overlay individual data points\n",
    "for i, column in enumerate(df_last_three.columns):\n",
    "    x_positions = np.random.normal(i, 0.05, size=len(df_last_three))\n",
    "    ax.scatter(x_positions, df_last_three[column], color='black', s=20, alpha=0.7, label='Individual Data' if i == 0 else \"\")\n",
    "\n",
    "# Labels and title\n",
    "ax.set_ylabel('Ratio TC / All')\n",
    "ax.set_title('Non SI to TC')\n",
    "#ax.legend(loc='upper right')\n",
    "plt.gca().spines['top'].set_visible(False)\n",
    "# Optionally hide the right spine as well\n",
    "plt.gca().spines['right'].set_visible(False)\n",
    "# Add a legend\n",
    "# Show the plot\n",
    "plt.ylim([0,1])\n",
    "#ax.legend( fontsize=10)\n",
    "ax.spines['top'].set_visible(False)\n",
    "ax.spines['right'].set_visible(False)\n",
    "\n",
    "\n",
    "for ax in [ax]:\n",
    "    ax.tick_params(axis='both', which='major', labelsize=12, width=1.5)\n",
    "    ax.spines['top'].set_linewidth(1.5)\n",
    "    ax.spines['bottom'].set_linewidth(1.5)\n",
    "    ax.spines['left'].set_linewidth(1.5)\n",
    "    ax.spines['right'].set_linewidth(1.5)\n",
    "plt.tight_layout()\n",
    "#plt.savefig(savefolder+'Non_TC to TC over TC learned_middlebar and TC learning_rightbar.svg', format='svg',dpi=300)\n",
    "plt.show()"
   ]
  },
  {
   "cell_type": "code",
   "execution_count": null,
   "metadata": {},
   "outputs": [
    {
     "data": {
      "image/png": "[encoded data removed]",
      "text/plain": [
       "<Figure size 324x216 with 1 Axes>"
      ]
     },
     "metadata": {
      "needs_background": "light"
     },
     "output_type": "display_data"
    }
   ],
   "source": [
    "# # visualize ratios\n",
    "# \n",
    "# \n",
    "#  Convert data to DataFrame and select last three columns\n",
    "from scipy.stats import mannwhitneyu\n",
    "\n",
    "df = pd.DataFrame(PC_Stability).T\n",
    "import matplotlib.patches as mpatches\n",
    "# Calculate means and standard deviations\n",
    "means = df.mean()\n",
    "std_devs = df.std()\n",
    "\n",
    "\n",
    "\n",
    "\n",
    "# # Performing a non-parametric Mann-Whitney U test\n",
    "# u_stat, p_value_pc_tc= mannwhitneyu(df['To Stable PC'], df['To Unstable TC'], alternative='two-sided')\n",
    "# u_stat, p_value_tc_tc= mannwhitneyu(df['To Unstable PC'], df['To Unstable TC'], alternative='two-sided')\n",
    "\n",
    "# u_stat, p_value_tc_tc= mannwhitneyu(df['To Stable TC'], df['To Unstable TC'], alternative='two-sided')\n",
    "\n",
    "\n",
    "\n",
    "# Plotting\n",
    "fig, ax = plt.subplots(figsize=(4.5, 3))\n",
    "\n",
    "# Define colors and patterns for bars\n",
    "colors = ['#7D3C98', 'green', '#7D3C98', 'green', 'grey']\n",
    "patterns = ['//', '//',None, None,  None]  # Use patterns for unstable\n",
    "\n",
    "# Bar chart with error bars\n",
    "bars = ax.bar(means.index, means, yerr=std_devs, capsize=5, color=colors, edgecolor='k')\n",
    "\n",
    "# Apply patterns to bars\n",
    "for bar, pattern in zip(bars, patterns):\n",
    "    if pattern:\n",
    "        bar.set_hatch(pattern)\n",
    "\n",
    "# Overlay individual data points\n",
    "for i, column in enumerate(df.columns):\n",
    "    x_positions = np.random.normal(i, 0.05, size=len(df))\n",
    "    ax.scatter(x_positions, df[column], color='black', s=20, alpha=0.7)\n",
    "\n",
    "# Adjust x-axis labels\n",
    "ax.set_xticks(range(len(df.columns)))\n",
    "ax.set_xticklabels(['PC', 'TC', 'PC', 'TC', 'Non SI'])\n",
    "\n",
    "# Labels and legend\n",
    "ax.set_ylabel('Field Stability Ratio \\n (rel. PC Learning)')\n",
    "ax.set_title('Transition from PC and TC')\n",
    "\n",
    "# # Create legend with patterns\n",
    "# stable_patch = mpatches.Patch(color='#7D3C98', label='Stable',hatch='//',edgecolor='k' )\n",
    "# unstable_patch = mpatches.Patch(facecolor='#7D3C98', label='Unstable' )\n",
    "# legend = ax.legend(handles=[stable_patch, unstable_patch], loc='upper right', fontsize=10, frameon=False)\n",
    "\n",
    "import matplotlib.patches as mpatches\n",
    "\n",
    "# Define patches for the legend\n",
    "stable_patch = mpatches.Patch(facecolor='#7D3C98', edgecolor='k', hatch='//', label='Stable')\n",
    "unstable_patch = mpatches.Patch(facecolor='#7D3C98', edgecolor='k', label='Unstable')\n",
    "\n",
    "# Add the legend to the plot\n",
    "legend = ax.legend(handles=[stable_patch, unstable_patch], loc='upper right', fontsize=10, frameon=False)\n",
    "\n",
    "\n",
    "\n",
    "# Format plot appearance\n",
    "ax.spines['top'].set_visible(False)\n",
    "ax.spines['right'].set_visible(False)\n",
    "plt.ylim([0, 1])\n",
    "\n",
    "for spine in ['top', 'right', 'bottom', 'left']:\n",
    "    ax.spines[spine].set_linewidth(1.5)\n",
    "\n",
    "ax.tick_params(axis='both', which='major', labelsize=12, width=1.5)\n",
    "\n",
    "plt.tight_layout()\n",
    "\n",
    "#plt.savefig(savefolder+'PC stability transition new.svg', format='svg',dpi=300)\n",
    "plt.show()"
   ]
  },
  {
   "cell_type": "code",
   "execution_count": null,
   "metadata": {},
   "outputs": [
    {
     "data": {
      "image/png": "[encoded data removed]",
      "text/plain": [
       "<Figure size 324x216 with 1 Axes>"
      ]
     },
     "metadata": {
      "needs_background": "light"
     },
     "output_type": "display_data"
    }
   ],
   "source": [
    "# Adding horizontal and vertical edge lines under stars for significant comparisons\n",
    "\n",
    "# Calculate means and standard deviations\n",
    "means = df.mean()\n",
    "std_devs = df.std()\n",
    "Pvals_all={}\n",
    "# Compare \"To Unstable TC\" with all other groups\n",
    "p_values = {}\n",
    "for column in df.columns:\n",
    "    if column != \"To Unstable TC\":\n",
    "        stat, p = mannwhitneyu(df[\"To Unstable TC\"], df[column], alternative='two-sided')\n",
    "        p_values[column] = p\n",
    "\n",
    "\n",
    "\n",
    "        Pvals_all[column] = {\n",
    "            'stat': stat,\n",
    "            'p_value': p,\n",
    "            'n_group1': len(df[\"To Unstable TC\"]),\n",
    "            'n_group2': len(df[column]),\n",
    "             # New variable added\n",
    "        }\n",
    "# Plotting\n",
    "fig, ax = plt.subplots(figsize=(4.5, 3))\n",
    "\n",
    "# Define colors and patterns for bars\n",
    "colors = ['#7D3C98', 'green', '#7D3C98', 'green', 'grey']\n",
    "patterns = ['//', '//', None, None, None]  # Use patterns for unstable\n",
    "\n",
    "# Bar chart with error bars\n",
    "bars = ax.bar(means.index, means, yerr=std_devs, capsize=5, color=colors, edgecolor='k')\n",
    "\n",
    "# Apply patterns to bars\n",
    "for bar, pattern in zip(bars, patterns):\n",
    "    if pattern:\n",
    "        bar.set_hatch(pattern)\n",
    "\n",
    "# Overlay individual data points\n",
    "for i, column in enumerate(df.columns):\n",
    "    x_positions = np.random.normal(i, 0.05, size=len(df))\n",
    "    ax.scatter(x_positions, df[column], color='black', s=20, alpha=0.7)\n",
    "\n",
    "# Add significance stars, horizontal lines, and vertical line edges\n",
    "for i, column in enumerate(df.columns):\n",
    "    if column in p_values and p_values[column] < 0.05:\n",
    "        y = max(means[column] + std_devs[column], means[\"To Unstable TC\"] + std_devs[\"To Unstable TC\"]) + 0.05\n",
    "        ax.plot([i, 3], [y, y], color='black', linewidth=1.5)  # Horizontal line\n",
    "        ax.plot([i, i], [y - 0.02, y], color='black', linewidth=1.5)  # Left vertical line\n",
    "        ax.plot([3, 3], [y - 0.02, y], color='black', linewidth=1.5)  # Right vertical line\n",
    "        ax.text((i + 3) / 2, y + 0.02, '*', ha='center', fontsize=14, color='red')\n",
    "\n",
    "# Adjust x-axis labels\n",
    "ax.set_xticks(range(len(df.columns)))\n",
    "ax.set_xticklabels(['PC', 'TC', 'PC', 'TC', 'Non SI'])\n",
    "\n",
    "# Labels and legend\n",
    "ax.set_ylabel('Field Stability Ratio \\n (rel. PC Learning)')\n",
    "ax.set_title('Transition from PC and TC')\n",
    "\n",
    "# Define patches for the legend\n",
    "stable_patch = mpatches.Patch(facecolor='#7D3C98', edgecolor='k', hatch='//', label='Stable')\n",
    "unstable_patch = mpatches.Patch(facecolor='#7D3C98', edgecolor='k', label='Unstable')\n",
    "\n",
    "# Add the legend to the plot\n",
    "legend = ax.legend(handles=[stable_patch, unstable_patch], loc='upper right', fontsize=10, frameon=False)\n",
    "\n",
    "# Format plot appearance\n",
    "ax.spines['top'].set_visible(False)\n",
    "ax.spines['right'].set_visible(False)\n",
    "plt.ylim([0, 1.2])\n",
    "\n",
    "for spine in ['top', 'right', 'bottom', 'left']:\n",
    "    ax.spines[spine].set_linewidth(1.5)\n",
    "\n",
    "ax.tick_params(axis='both', which='major', labelsize=12, width=1.5)\n",
    "plt.ylim([0,.8])\n",
    "plt.tight_layout()\n",
    "plt.savefig(savefolder+'PC stability transition new.svg', format='svg',dpi=300)\n",
    "\n",
    "plt.show()\n"
   ]
  },
  {
   "cell_type": "code",
   "execution_count": null,
   "metadata": {},
   "outputs": [],
   "source": [
    "from scipy.stats import mannwhitneyu\n",
    "\n",
    "# Example vectors\n",
    "vector1 = df['To Unstable PC']\n",
    "vector2 = df['To Unstable TC']\n",
    "\n",
    "# Perform the test\n",
    "stat, p_value = mannwhitneyu(df['To Stable TC'], df['To Unstable TC'], alternative='two-sided')\n",
    "#stat, p_value = mannwhitneyu(df['To Unstable PC'], df['To Unstable TC'], alternative='two-sided')"
   ]
  },
  {
   "cell_type": "code",
   "execution_count": null,
   "metadata": {},
   "outputs": [
    {
     "data": {
      "image/png": "[encoded data removed]",
      "text/plain": [
       "<Figure size 288x216 with 1 Axes>"
      ]
     },
     "metadata": {
      "needs_background": "light"
     },
     "output_type": "display_data"
    }
   ],
   "source": [
    "import numpy as np\n",
    "import matplotlib.pyplot as plt\n",
    "\n",
    "normalize_by_TC=np.mean(df_last_three['non_tc_became_tc'])\n",
    "\n",
    "# Extract values for each transition type and pool them directly\n",
    "# pooled_position_change = [\n",
    "#     PC_Transitions[animal]['PC_arm_became_TC_stem'] for animal in PC_Transitions\n",
    "# ] + [\n",
    "#     PC_Transitions[animal]['PC_stem_became_TC_arm'] for animal in PC_Transitions\n",
    "# ]\n",
    "# pooled_no_position_change = [\n",
    "#     PC_Transitions[animal]['PC_arm_became_TC_arm'] for animal in PC_Transitions\n",
    "# ] + [\n",
    "#     PC_Transitions[animal]['PC_stem_became_TC_stem'] for animal in PC_Transitions\n",
    "# ]\n",
    "\n",
    "\n",
    "# averages = {\n",
    "#     'Position Change': np.mean(pooled_position_change),\n",
    "#     'No Position Change': np.mean(pooled_no_position_change)\n",
    "# }\n",
    "# std_devs = {\n",
    "#     'Position Change': np.std(pooled_position_change),\n",
    "#     'No Position Change': np.std(pooled_no_position_change)\n",
    "# }\n",
    "\n",
    "\n",
    "pooled_no_position_change=[PC_Transitions[animal]['PC_arm_became_TC_arm']+PC_Transitions[animal]['PC_stem_became_TC_stem'] for animal in PC_Transitions.keys()]\n",
    "pooled_position_change=[PC_Transitions[animal]['PC_arm_became_TC_stem']+PC_Transitions[animal]['PC_stem_became_TC_arm'] for animal in PC_Transitions.keys()]\n",
    "\n",
    "averages = {\n",
    "    'Position Change': np.mean(pooled_position_change),\n",
    "    'No Position Change': np.mean(pooled_no_position_change)\n",
    "}\n",
    "std_devs = {\n",
    "    'Position Change': np.std(pooled_position_change),\n",
    "    'No Position Change': np.std(pooled_no_position_change)\n",
    "}\n",
    "\n",
    "\n",
    "\n",
    "\n",
    "\n",
    "\n",
    "# Create a DataFrame to use with Seaborn\n",
    "import pandas as pd\n",
    "data = pd.DataFrame({\n",
    "    'Value': pooled_position_change + pooled_no_position_change,\n",
    "    'Category': ['Position Change'] * len(pooled_position_change) + ['No Position Change'] * len(pooled_no_position_change)\n",
    "})\n",
    "\n",
    "# Prepare data for plotting\n",
    "merged_keys = list(averages.keys())\n",
    "merged_avg_values = list(averages.values())\n",
    "merged_std_values = list(std_devs.values())\n",
    "merged_colors = ['blue', 'green']  # Colors for the two categories\n",
    "# Define a neutral color scheme (grey tones) for both categories\n",
    "colors = ['#CC5500', '#DAA881']  # Light grey and dark grey\n",
    "colors = ['#CC5500', '#DAA881']  # Light grey and dark grey\n",
    "\n",
    "# Plot with adjusted bar width\n",
    "plt.figure(figsize=(4, 3))\n",
    "plt.bar(merged_keys, merged_avg_values, yerr=merged_std_values, capsize=5, color=colors, edgecolor='black', width=0.5)\n",
    "\n",
    "# Overlay swarmplot\n",
    "sns.swarmplot(data=data, x='Category', y='Value', color='black', size=6, edgecolor='black')\n",
    "\n",
    "\n",
    "\n",
    "# Labels and Title\n",
    "plt.ylabel('Ratio (PC/TC learned)', fontsize=10)\n",
    "plt.title('PC to TC Transitions', fontsize=12)\n",
    "plt.xticks(rotation=0, fontsize=10)\n",
    "plt.gca().spines['top'].set_visible(False)\n",
    "\n",
    "# Optionally hide the right spine as well\n",
    "plt.gca().spines['right'].set_visible(False)\n",
    "ax=plt.gca()\n",
    "ax.spines['top'].set_visible(False)\n",
    "ax.spines['right'].set_visible(False)\n",
    "plt.ylim([0,1])\n",
    "\n",
    "for ax in [ax]:\n",
    "    ax.tick_params(axis='both', which='major', labelsize=12, width=1.5)\n",
    "    ax.spines['top'].set_linewidth(1.5)\n",
    "    ax.spines['bottom'].set_linewidth(1.5)\n",
    "    ax.spines['left'].set_linewidth(1.5)\n",
    "    ax.spines['right'].set_linewidth(1.5)\n",
    "plt.tight_layout()\n",
    "plt.savefig(savefolder+'PC to TC over TC learned new.svg', format='svg',dpi=300)\n",
    "plt.show()\n"
   ]
  },
  {
   "cell_type": "code",
   "execution_count": null,
   "metadata": {},
   "outputs": [],
   "source": [
    "\n",
    "# Find cells that were active eiter in stem and arm\n",
    "for ph,phadata in cell_types_all_phases.items():\n",
    "    for anm,anmdata in phadata.items():\n",
    "            \n",
    "            #cmncells=np.intersect1d(anmdata['PC_stem'],anmdata['PC_arm'])\n",
    "            pc_stem_arm=np.intersect1d(anmdata['PC_stem'],anmdata['PC_arm'])\n",
    "            tc_stem_arm=np.intersect1d(anmdata['TC_stem'],anmdata['TC_arm'])"
   ]
  },
  {
   "cell_type": "code",
   "execution_count": null,
   "metadata": {},
   "outputs": [
    {
     "ename": "NameError",
     "evalue": "name 'cell_types_all_phases' is not defined",
     "output_type": "error",
     "traceback": [
      "\u001b[1;31m---------------------------------------------------------------------------\u001b[0m",
      "\u001b[1;31mNameError\u001b[0m                                 Traceback (most recent call last)",
      "Input \u001b[1;32mIn [2]\u001b[0m, in \u001b[0;36m<cell line: 4>\u001b[1;34m()\u001b[0m\n\u001b[0;32m      1\u001b[0m \u001b[38;5;66;03m# Initialize an empty dictionary to store results\u001b[39;00m\n\u001b[0;32m      2\u001b[0m intersection_dict \u001b[38;5;241m=\u001b[39m {}\n\u001b[1;32m----> 4\u001b[0m \u001b[38;5;28;01mfor\u001b[39;00m ph, phadata \u001b[38;5;129;01min\u001b[39;00m \u001b[43mcell_types_all_phases\u001b[49m\u001b[38;5;241m.\u001b[39mitems():\n\u001b[0;32m      5\u001b[0m     \u001b[38;5;66;03m# Ensure there is a sub-dictionary for the phase\u001b[39;00m\n\u001b[0;32m      6\u001b[0m     intersection_dict[ph] \u001b[38;5;241m=\u001b[39m {}\n\u001b[0;32m      8\u001b[0m     \u001b[38;5;28;01mfor\u001b[39;00m anm, anmdata \u001b[38;5;129;01min\u001b[39;00m phadata\u001b[38;5;241m.\u001b[39mitems():\n\u001b[0;32m      9\u001b[0m         \u001b[38;5;66;03m# Compute the intersections\u001b[39;00m\n",
      "\u001b[1;31mNameError\u001b[0m: name 'cell_types_all_phases' is not defined"
     ]
    }
   ],
   "source": [
    "# Initialize an empty dictionary to store results\n",
    "intersection_dict = {}\n",
    "\n",
    "for ph, phadata in cell_types_all_phases.items():\n",
    "    # Ensure there is a sub-dictionary for the phase\n",
    "    intersection_dict[ph] = {}\n",
    "    \n",
    "    for anm, anmdata in phadata.items():\n",
    "        # Compute the intersections\n",
    "        pc_stem_arm = len(np.intersect1d(anmdata['PC_stem'], anmdata['PC_arm']))\n",
    "        tc_stem_arm = len(np.intersect1d(anmdata['TC_stem'], anmdata['TC_arm']))\n",
    "        \n",
    "        # Store the results in the dictionary\n",
    "        intersection_dict[ph][anm] = {\n",
    "            'pc_stem_arm': pc_stem_arm,\n",
    "            'tc_stem_arm': tc_stem_arm\n",
    "        }\n",
    "        print(anm+ph,(pc_stem_arm))\n",
    "# Now intersection_dict contains both pc_stem_arm and tc_stem_arm for all phases and animals\n"
   ]
  },
  {
   "cell_type": "code",
   "execution_count": null,
   "metadata": {},
   "outputs": [
    {
     "ename": "NameError",
     "evalue": "name 'cell_type_mask_phases' is not defined",
     "output_type": "error",
     "traceback": [
      "\u001b[1;31m---------------------------------------------------------------------------\u001b[0m",
      "\u001b[1;31mNameError\u001b[0m                                 Traceback (most recent call last)",
      "Input \u001b[1;32mIn [1]\u001b[0m, in \u001b[0;36m<cell line: 1>\u001b[1;34m()\u001b[0m\n\u001b[1;32m----> 1\u001b[0m \u001b[43mcell_type_mask_phases\u001b[49m\n\u001b[0;32m      3\u001b[0m \u001b[38;5;28;01mdef\u001b[39;00m \u001b[38;5;21mratio_double_counts\u001b[39m(data,intersection_dict,cond1):        \n\u001b[0;32m      4\u001b[0m         ratio_of_double_cells\u001b[38;5;241m=\u001b[39m{}\n",
      "\u001b[1;31mNameError\u001b[0m: name 'cell_type_mask_phases' is not defined"
     ]
    }
   ],
   "source": [
    "cell_type_mask_phases\n",
    "\n",
    "def ratio_double_counts(data,intersection_dict,cond1):        \n",
    "        ratio_of_double_cells={}\n",
    "        cond_mask=data[cond1][animal]['TC_arm'] | data[cond1][animal]['TC_stem'] | data[cond1][animal]['PC_arm'] | data[cond1][animal]['PC_stem']\n",
    "        total_si=np.sum(cond_mask)\n",
    "        for anm,anmdata in intersection_dict[cond1].items():\n",
    "                anmdata['pc_stem_arm']/total_si\n",
    "\n",
    "                ratio_of_double_cells[anm]['pc_stem_arm']= anmdata['pc_stem_arm']/total_si"
   ]
  },
  {
   "cell_type": "code",
   "execution_count": null,
   "metadata": {},
   "outputs": [],
   "source": [
    "def ratio_double_counts(data, intersection_dict, cond1):        \n",
    "    # Initialize the dictionary to store the ratios\n",
    "    ratio_of_double_cells = {}\n",
    "    \n",
    "    for animal, anmdata in intersection_dict[cond1].items():\n",
    "        # Calculate the mask and total SI for the current animal\n",
    "        cond_mask = (\n",
    "            data[cond1][animal]['TC_arm'] | \n",
    "            data[cond1][animal]['TC_stem'] | \n",
    "            data[cond1][animal]['PC_arm'] | \n",
    "            data[cond1][animal]['PC_stem']\n",
    "        )\n",
    "        total_si = np.sum(cond_mask)\n",
    "\n",
    "        # Ensure the dictionary is initialized for the current animal\n",
    "        ratio_of_double_cells.setdefault(animal, {})\n",
    "\n",
    "        # Compute and store the ratios for pc_stem_arm and tc_stem_arm\n",
    "        ratio_of_double_cells[animal]['pc_stem_arm'] = np.sum(anmdata['pc_stem_arm']) / total_si\n",
    "        ratio_of_double_cells[animal]['tc_stem_arm'] = np.sum(anmdata['tc_stem_arm']) / total_si\n",
    "    \n",
    "    return ratio_of_double_cells\n"
   ]
  },
  {
   "cell_type": "code",
   "execution_count": null,
   "metadata": {},
   "outputs": [],
   "source": [
    "# precentage of cells that contirutied in two fieleds\n",
    "\n",
    "learning_double_cell_ratio=ratio_double_counts(cell_type_mask_phases, intersection_dict, 'learning')\n",
    "learned_double_cell_ratio=ratio_double_counts(cell_type_mask_phases, intersection_dict, 'learned')"
   ]
  },
  {
   "cell_type": "code",
   "execution_count": null,
   "metadata": {},
   "outputs": [
    {
     "data": {
      "image/png": "[encoded data removed]",
      "text/plain": [
       "<Figure size 720x360 with 1 Axes>"
      ]
     },
     "metadata": {
      "needs_background": "light"
     },
     "output_type": "display_data"
    }
   ],
   "source": [
    "remained_sig_ratios_learning = {}\n",
    "remained_sig_ratios_learned = {}\n",
    "\n",
    "for animal_id, categories in transitions_ratios.items():\n",
    "    remained_sig_ratios_learning[animal_id] = {}\n",
    "    remained_sig_ratios_learned[animal_id] = {}\n",
    "    for category, values in categories.items():\n",
    "        # Grab the \"Remained Sig (Learning)\" and \"Remained Sig (Learned)\" values\n",
    "        remained_sig_ratios_learning[animal_id][category] = values.get('Remained Sig (Learning)', 0)\n",
    "        remained_sig_ratios_learned[animal_id][category] = values.get('Remained Sig (Learned)', 0)\n",
    "\n",
    "# Define regions and colors\n",
    "regions = ['PC_stem', 'PC_arm', 'TC_stem', 'TC_arm']\n",
    "colors = ['#D7BDE2', '#7D3C98', '#A9DFBF', '#229954']\n",
    "overlay_colors_learning = ['#6c5e71', '#3e1e4c', '#547060', '#114c2a']\n",
    "overlay_colors_learned = ['#c4b9cd', '#7e5e85', '#b6d3c7', '#347d56']\n",
    "labels = ['Learning', 'Learned']\n",
    "\n",
    "# Set up the figure\n",
    "fig, ax = plt.subplots(figsize=(10, 5))\n",
    "bar_width = 0.15  # Width of each individual bar\n",
    "tiny_gap = 0.01   # Smaller gap between each animal within the same region\n",
    "group_gap = 0.2   # Reduced gap between categories within the same stage\n",
    "stage_gap = 2.0   # Larger gap between the \"learning\" and \"learned\" stages\n",
    "\n",
    "# Calculate x positions for each region and animal within each stage\n",
    "x_learning = []\n",
    "x_learned = []\n",
    "for i, region in enumerate(regions):\n",
    "    # Learning stage x positions for each animal within the region\n",
    "    x_learning.extend(np.arange(len(learning_ratios)) * (bar_width + tiny_gap) + i * (len(learning_ratios) * (bar_width + tiny_gap) + group_gap))\n",
    "    # Learned stage x positions, offset by stage_gap\n",
    "    x_learned.extend(np.array(x_learning[-len(learning_ratios):]) + (len(regions) * len(learning_ratios) * (bar_width + tiny_gap) + stage_gap))\n",
    "\n",
    "# Plot each region within the \"learning\" stage with Remained Sig overlay\n",
    "for i, (region, color, overlay_color) in enumerate(zip(regions, colors, overlay_colors_learning)):\n",
    "    for idx, animal in enumerate(learning_ratios.keys()):\n",
    "        x = x_learning[idx + i * len(learning_ratios)]\n",
    "        main_value = learning_ratios[animal][region]\n",
    "        \n",
    "        # Main bar\n",
    "        ax.bar(x, main_value, width=bar_width, color=color, edgecolor='black', label=region if idx == 0 else \"\")\n",
    "        \n",
    "        # Remained Sig overlay (Learning)\n",
    "        overlay_value_learning = remained_sig_ratios_learning[animal][region]\n",
    "        ax.bar(x, overlay_value_learning, width=bar_width, color=overlay_color, edgecolor='black', alpha=0.9, hatch='//')\n",
    "\n",
    "# Plot each region within the \"learned\" stage with Remained Sig overlay\n",
    "for i, (region, color, overlay_color) in enumerate(zip(regions, colors, overlay_colors_learned)):\n",
    "    for idx, animal in enumerate(learned_ratios.keys()):\n",
    "        x = x_learned[idx + i * len(learned_ratios)]\n",
    "        main_value = learned_ratios[animal][region]\n",
    "        \n",
    "        # Main bar\n",
    "        ax.bar(x, main_value, width=bar_width, color=color, edgecolor='black')\n",
    "        \n",
    "        # Remained Sig overlay (Learned)\n",
    "        overlay_value_learned = remained_sig_ratios_learned[animal][region]\n",
    "        ax.bar(x, overlay_value_learned, width=bar_width, color=overlay_color, edgecolor='black', alpha=0.9, hatch='//')\n",
    "\n",
    "# Customize plot\n",
    "category_midpoints_learning = [np.mean(x_learning[i * len(learning_ratios):(i + 1) * len(learning_ratios)]) for i in range(len(regions))]\n",
    "category_midpoints_learned = [np.mean(x_learned[i * len(learned_ratios):(i + 1) * len(learned_ratios)]) for i in range(len(regions))]\n",
    "ax.set_xticks(category_midpoints_learning + category_midpoints_learned)\n",
    "ax.set_xticklabels(regions * 2, fontsize=12, rotation=45)\n",
    "ax.set_ylabel('Ratio of SIs (divided by SI cells)', fontsize=12)\n",
    "ax.set_title('Transition Ratios with Remained Significant Overlays', fontsize=14)\n",
    "\n",
    "# Update legend\n",
    "import matplotlib.patches as mpatches\n",
    "import matplotlib.lines as mlines\n",
    "\n",
    "# Define legends\n",
    "solid_line = mlines.Line2D([], [], color='black', lw=4, label='Changes')\n",
    "hatched_patch_learning = mpatches.Patch(facecolor='gray', edgecolor='black', hatch='//', label='Remained Sig (Learning)')\n",
    "hatched_patch_learned = mpatches.Patch(facecolor='gray', edgecolor='black', hatch='\\\\\\\\', label='Remained Sig (Learned)')\n",
    "\n",
    "# Combine into a single legend\n",
    "ax.legend(handles=[solid_line, hatched_patch_learning, hatched_patch_learned], loc='upper right', title='Legend')\n",
    "\n",
    "# Hide top and right spines for cleaner look\n",
    "ax.spines['top'].set_visible(False)\n",
    "ax.spines['right'].set_visible(False)\n",
    "for ax in [ax]:\n",
    "    ax.spines['top'].set_linewidth(1.5)\n",
    "    ax.spines['bottom'].set_linewidth(1.5)\n",
    "    ax.spines['left'].set_linewidth(1.5)\n",
    "    ax.spines['right'].set_linewidth(1.5)\n",
    "plt.tight_layout()\n",
    "\n",
    "plt.savefig(savefolder + 'Transition_Ratios_with_Remained_Significant new.svg', dpi=300)\n",
    "plt.show()\n"
   ]
  },
  {
   "cell_type": "code",
   "execution_count": null,
   "metadata": {},
   "outputs": [
    {
     "data": {
      "image/png": "[encoded data removed]",
      "text/plain": [
       "<Figure size 720x360 with 1 Axes>"
      ]
     },
     "metadata": {
      "needs_background": "light"
     },
     "output_type": "display_data"
    }
   ],
   "source": [
    "# Cleaned and refactored visualization code\n",
    "import matplotlib.pyplot as plt\n",
    "import numpy as np\n",
    "\n",
    "def plot_transition_ratios(learning_ratios, learned_ratios, remained_sig_ratios_learning, remained_sig_ratios_learned):\n",
    "    \"\"\"\n",
    "    Plots transition ratios for learning and learned stages with overlays for \"remained significant\" data.\n",
    "\n",
    "    Parameters:\n",
    "    - learning_ratios: dict, ratios for learning stage\n",
    "    - learned_ratios: dict, ratios for learned stage\n",
    "    - remained_sig_ratios_learning: dict, overlay data for remained significant in learning stage\n",
    "    - remained_sig_ratios_learned: dict, overlay data for remained significant in learned stage\n",
    "    \"\"\"\n",
    "    regions = ['PC_stem', 'PC_arm', 'TC_stem', 'TC_arm']\n",
    "    colors = ['#D7BDE2', '#7D3C98', '#A9DFBF', '#229954']\n",
    "    overlay_colors_learning = ['#6c5e71', '#3e1e4c', '#547060', '#114c2a']\n",
    "    overlay_colors_learned = ['#c4b9cd', '#7e5e85', '#b6d3c7', '#347d56']\n",
    "    \n",
    "    # Set up figure\n",
    "    fig, ax = plt.subplots(figsize=(10, 5))\n",
    "    bar_width = 0.15\n",
    "    tiny_gap = 0.01\n",
    "    group_gap = 0.2\n",
    "    stage_gap = 2.0\n",
    "\n",
    "    # Function to calculate x-positions\n",
    "    def calculate_positions(data, regions, start_offset=0):\n",
    "        x_positions = []\n",
    "        for i in range(len(regions)):\n",
    "            x_positions.extend(\n",
    "                np.arange(len(data)) * (bar_width + tiny_gap) + \n",
    "                i * (len(data) * (bar_width + tiny_gap) + group_gap) + start_offset\n",
    "            )\n",
    "        return x_positions\n",
    "\n",
    "    x_learning = calculate_positions(learning_ratios, regions)\n",
    "    x_learned = calculate_positions(learned_ratios, regions, start_offset=(len(regions) * len(learning_ratios) * (bar_width + tiny_gap) + stage_gap))\n",
    "    \n",
    "    # Function to plot bars\n",
    "    def plot_bars(ax, data, x_positions, overlay_data, colors, overlay_colors, label_suffix=\"\"):\n",
    "        for i, (region, color, overlay_color) in enumerate(zip(regions, colors, overlay_colors)):\n",
    "            for idx, animal in enumerate(data.keys()):\n",
    "                x = x_positions[idx + i * len(data)]\n",
    "                main_value = data[animal][region]\n",
    "                overlay_value = overlay_data[animal][region]\n",
    "                \n",
    "                # Main bar\n",
    "                ax.bar(x, main_value, width=bar_width, color=color, edgecolor='black', label=f\"{region}{label_suffix}\" if idx == 0 else \"\")\n",
    "                # Overlay bar\n",
    "                ax.bar(x, overlay_value, width=bar_width, color=overlay_color, edgecolor='black', alpha=0.9, hatch='//')\n",
    "\n",
    "    # Plot learning and learned bars\n",
    "    plot_bars(ax, learning_ratios, x_learning, remained_sig_ratios_learning, colors, overlay_colors_learning, \" (Learning)\")\n",
    "    plot_bars(ax, learned_ratios, x_learned, remained_sig_ratios_learned, colors, overlay_colors_learned, \" (Learned)\")\n",
    "\n",
    "    # Customize plot\n",
    "    midpoints_learning = [np.mean(x_learning[i * len(learning_ratios):(i + 1) * len(learning_ratios)]) for i in range(len(regions))]\n",
    "    midpoints_learned = [np.mean(x_learned[i * len(learned_ratios):(i + 1) * len(learned_ratios)]) for i in range(len(regions))]\n",
    "    ax.set_xticks(midpoints_learning + midpoints_learned)\n",
    "    ax.set_xticklabels(regions * 2, fontsize=12, rotation=45)\n",
    "    ax.set_ylabel('Ratio of SIs (divided by SI cells)', fontsize=12)\n",
    "    ax.set_title('Transition Ratios with Remained Significant Overlays', fontsize=14)\n",
    "\n",
    "    # Add legend\n",
    "    import matplotlib.patches as mpatches\n",
    "    import matplotlib.lines as mlines\n",
    "    solid_line = mlines.Line2D([], [], color='black', lw=4, label='Changes')\n",
    "    hatched_patch_learning = mpatches.Patch(facecolor='gray', edgecolor='black', hatch='//', label='Remained Sig (Learning)')\n",
    "    hatched_patch_learned = mpatches.Patch(facecolor='gray', edgecolor='black', hatch='\\\\\\\\', label='Remained Sig (Learned)')\n",
    "    ax.legend(handles=[solid_line, hatched_patch_learning, hatched_patch_learned], loc='upper right', title='Legend')\n",
    "\n",
    "    # Style adjustments\n",
    "    ax.spines['top'].set_visible(False)\n",
    "    ax.spines['right'].set_visible(False)\n",
    "    for spine in ['top', 'bottom', 'left', 'right']:\n",
    "        ax.spines[spine].set_linewidth(1.5)\n",
    "    plt.tight_layout()\n",
    "    plt.show()\n",
    "\n",
    "# Replace the following variables with the actual data before running the function\n",
    "# learning_ratios, learned_ratios, remained_sig_ratios_learning, remained_sig_ratios_learned\n",
    "plot_transition_ratios(learning_ratios, learned_ratios, remained_sig_ratios_learning, remained_sig_ratios_learned)\n",
    "\n",
    "\n"
   ]
  },
  {
   "cell_type": "code",
   "execution_count": null,
   "metadata": {},
   "outputs": [
    {
     "data": {
      "image/png": "[encoded data removed]",
      "text/plain": [
       "<Figure size 720x432 with 1 Axes>"
      ]
     },
     "metadata": {
      "needs_background": "light"
     },
     "output_type": "display_data"
    }
   ],
   "source": [
    "# Ratio of Common Significant Cells \n",
    "comm_ratio_sig_clstr,ratios_sig_clstr,PC_to_nonPC=pf.calculate_common_ratio(Compare_learning_learned_PC)\n",
    "\n",
    "# PC transitions. Calculate averages over all animals\n",
    "SI_to_nonSI_avg = {side: {key: sum(sample[side][key] for sample in PC_to_nonPC.values()) / len(PC_to_nonPC) \n",
    "              for key in ['NonPC_to_PC', 'PC_NonPC']} for side in ['L', 'R']}\n",
    "\n",
    "# Difference Between Learned and Learning Ratios. Calculate averages over all animals\n",
    "ratios_sig_avg = {state: {side: sum(sample[state][side] for sample in ratios_sig_clstr.values()) / len(ratios_sig_clstr)\n",
    "                      for side in ['L', 'R']} for state in ['learning', 'learned']}\n",
    "\n",
    "\n",
    "\n",
    "# Common significants. Calculate averages using a list comprehension\n",
    "cell_type_ratios_avg = {side: sum(sample[side] for sample in comm_ratio_sig_clstr.values()) / len(comm_ratio_sig_clstr) \n",
    "                      for side in ['L', 'R']}\n",
    "\n",
    "\n",
    "# Convert the data into a DataFrame for easier plotting\n",
    "df_results = pd.DataFrame(comm_ratio_sig_clstr).T\n",
    "\n",
    "# Plotting the data\n",
    "ax = df_results.plot(kind='bar', figsize=(10, 6), title='Ratio of Common Significant Clusters Learning vs Learned')\n",
    "ax.set_ylabel('Ratio')\n",
    "ax.set_xlabel('Animal')\n",
    "ax.legend(title='Side', loc='upper left')\n",
    "plt.xticks(rotation=0)\n",
    "plt.ylim(0, 1)  # Set y-axis limit to ensure all bars are within the range\n",
    "plt.grid(axis='y', linestyle='--', alpha=0.7)\n",
    "plt.show()"
   ]
  },
  {
   "cell_type": "code",
   "execution_count": null,
   "metadata": {},
   "outputs": [
    {
     "data": {
      "image/png": "[encoded data removed]",
      "text/plain": [
       "<Figure size 864x288 with 3 Axes>"
      ]
     },
     "metadata": {
      "needs_background": "light"
     },
     "output_type": "display_data"
    }
   ],
   "source": [
    "# Importing the required libraries for plotting\n",
    "# Fancy plotting with color gradients, annotations, and improved layout\n",
    "#fig, axes = plt.subplots(1, 2, figsize=(8, 4), gridspec_kw={'width_ratios': [1, 1.52]})\n",
    "fig, axes = plt.subplots(1, 3, figsize=(12, 4), gridspec_kw={'width_ratios': [1,1.52,1 ]})\n",
    "\n",
    "# Colors and properties for the bars\n",
    "# colors = ['#69b3a2', '#e74c3c']\n",
    "# colors = ['#FF7F50', '#4682B4']\n",
    "\n",
    "colors = ['#4D4D4D', '#C0392B']\n",
    "colors2 = ['#BDC3C7', '#F1948A']\n",
    "\n",
    "# # Bar plot for cluster_type_ratios_avg\n",
    "# axes[1].bar(cell_type_ratios_avg.keys(), cell_type_ratios_avg.values(), color=colors, edgecolor='black', width=0.35)\n",
    "# axes[1].set_title('Common SI Cells', fontsize=16)\n",
    "# #axes[1].set_ylabel('Average (%)', fontsize=12)\n",
    "# #axes[1].set_xlabel('Side', fontsize=12)\n",
    "# axes[1].grid(True, axis='y', linestyle='--', alpha=0.6)\n",
    "\n",
    "# # Convert y-axis to percentage\n",
    "# axes[1].set_yticklabels([f'{int(t*100)}%' for t in axes[1].get_yticks()])\n",
    "\n",
    "\n",
    "# Bar plot for ratios_sig_cluster_avg with 'Learning' and 'Learned'\n",
    "learning_categories = ['Learning', 'Learned']\n",
    "learning_L = [ratios_sig_avg['learning']['L'], ratios_sig_avg['learned']['L']]\n",
    "learning_R = [ratios_sig_avg['learning']['R'], ratios_sig_avg['learned']['R']]\n",
    "\n",
    "x = np.arange(len(learning_categories))  # the label locations\n",
    "width = 0.35  # the width of the bars\n",
    "\n",
    "axes[0].bar(x - width/2, learning_L, width, label='Left', color=colors[0], edgecolor='black',alpha=1)\n",
    "axes[0].bar(x - width/2, cell_type_ratios_avg['L'], width,  color=colors2[0], edgecolor='black',alpha=.855, hatch='//')\n",
    "\n",
    "axes[0].bar(x + width/2, learning_R, width, label='Right', color=colors[1], edgecolor='black',alpha=1)\n",
    "\n",
    "axes[0].bar(x + width/2, cell_type_ratios_avg['R'], width, color=colors2[1], edgecolor='black',alpha=.855, hatch='//')\n",
    "\n",
    "#axes[0].set_title('Ratio of SI Cells', fontsize=16)\n",
    "axes[0].set_ylabel('Ratio ', fontsize=16)\n",
    "axes[0].set_xticks(x)\n",
    "axes[0].set_xticklabels(learning_categories)\n",
    "#axes[0].grid(True, axis='y', linestyle='--', alpha=0.6)\n",
    "axes[0].legend(loc='upper left',fontsize=10)\n",
    "axes[0].set_ylim([0,.833])\n",
    "axes[0].spines['top'].set_visible(False)\n",
    "axes[0].spines['right'].set_visible(False)\n",
    "# Convert y-axis to percentage\n",
    "#axes[0].set_yticklabels([f'{int(t*100)}%' for t in axes[0].get_yticks()])\n",
    "\n",
    "\n",
    "# Bar plot for SI_to_nonSI_cluster_avg with corrected x labels\n",
    "SI_to_nonSI_categories = ['Non-Sig to Sig', 'Sig to Non-Sig','Remained Sig']\n",
    "SI_L = [SI_to_nonSI_avg['L']['NonPC_to_PC'], SI_to_nonSI_avg['L']['PC_NonPC'],cell_type_ratios_avg['L']]\n",
    "SI_R = [SI_to_nonSI_avg['R']['NonPC_to_PC'], SI_to_nonSI_avg['R']['PC_NonPC'],cell_type_ratios_avg['R']]\n",
    "\n",
    "# SI_L = [SI_to_nonSI_cluster_avg['L']['NonPC_to_PC'], SI_to_nonSI_cluster_avg['L']['PC_NonPC'],cluster_type_ratios_avg['L']]\n",
    "# SI_R = [SI_to_nonSI_cluster_avg['R']['NonPC_to_PC'], SI_to_nonSI_cluster_avg['R']['PC_NonPC'],cluster_type_ratios_avg['R']]\n",
    "\n",
    "\n",
    "\n",
    "x = np.arange(len(SI_to_nonSI_categories))  # the label locations\n",
    "\n",
    "axes[1].bar(x - width/2, SI_L, width, label='Left', color=colors[0], edgecolor='black')\n",
    "axes[1].bar(x + width/2, SI_R, width, label='Right', color=colors[1], edgecolor='black')\n",
    "#axes[1].set_title('Transition in SI', fontsize=16)\n",
    "#axes[2].set_ylabel('Average (%)', fontsize=12)\n",
    "axes[1].set_xticks(x)\n",
    "axes[1].set_xticklabels(SI_to_nonSI_categories,rotation=30)\n",
    "#axes[1].grid(True, axis='y', linestyle='--', alpha=0.6)\n",
    "#axes[1].legend(loc='upper right')\n",
    "\n",
    "# Convert y-axis to percentage\n",
    "#axes[1].set_yticklabels([f'{int(t*100)}%' for t in axes[1].get_yticks()])\n",
    "plt.suptitle('Cells')\n",
    "\n",
    "# Adjust layout and show plot\n",
    "plt.tight_layout()\n",
    "#plt.savefig(savefolder+'Cell_ratio.svg', format='svg',dpi=300)\n",
    "\n",
    "plt.show()\n"
   ]
  },
  {
   "cell_type": "code",
   "execution_count": null,
   "metadata": {},
   "outputs": [
    {
     "data": {
      "image/png": "[encoded data removed]",
      "text/plain": [
       "<Figure size 720x432 with 1 Axes>"
      ]
     },
     "metadata": {
      "needs_background": "light"
     },
     "output_type": "display_data"
    },
    {
     "data": {
      "image/png": "[encoded data removed]",
      "text/plain": [
       "<Figure size 237.6x223.2 with 1 Axes>"
      ]
     },
     "metadata": {
      "needs_background": "light"
     },
     "output_type": "display_data"
    }
   ],
   "source": [
    "##Visualize the trial numbers. Comment otherwise\n",
    "\n",
    "Trial_number={}\n",
    "for fol in ['478','481','483','485']:\n",
    "\n",
    "    #fol='483'\n",
    "    dir_of_run='R'\n",
    "    for dir_of_run in ['R','L']:\n",
    "        for phase in ['learning','learned']:\n",
    "            #celltype='PC'\n",
    "            celltype='Alltest_neworder'\n",
    "            fs = 20# sampling freq\n",
    "            burst_length=0.5\n",
    "            burst_len=str(burst_length)+'s'\n",
    "            burstsize=burst_length*fs# sample numbers of a burst\n",
    "\n",
    "            filename = fol+'outward_'+dir_of_run+'_'+phase+'_correct_No_chunk_'+burst_len+'_transients_'+celltype+'_with_templates'\n",
    "\n",
    "            #filename = '478outward_R_all_correct_all_days_randomized_bursts_200ms_transients_allnew'\n",
    "\n",
    "            data = np.load(join(savefolder, filename), allow_pickle=True)\n",
    "\n",
    "            bound = [0, data['lin_pos'].shape[0]] #if turn_type == 'left' else [sepidx, endind]  \n",
    "\n",
    "            target_cluids=np.unique(data['ids_clust'])\n",
    "            Trial_number[fol+'_'+dir_of_run+'_'+phase]=len(np.unique(data['trial_idx_mask']))\n",
    "\n",
    "\n",
    "# Animal numbers\n",
    "animals = ['478', '481', '483', '485']\n",
    "\n",
    "# Extracting learning and learned for both L and R for each animal\n",
    "learning_R = [Trial_number[f'{animal}_R_learning'] for animal in animals]\n",
    "learned_R = [Trial_number[f'{animal}_R_learned'] for animal in animals]\n",
    "learning_L = [Trial_number[f'{animal}_L_learning'] for animal in animals]\n",
    "learned_L = [Trial_number[f'{animal}_L_learned'] for animal in animals]\n",
    "\n",
    "# Set positions for groups of bars\n",
    "x = np.arange(len(animals))  # the label locations\n",
    "width = 0.2  # the width of the bars\n",
    "\n",
    "# Create the plot\n",
    "fig, ax = plt.subplots(figsize=(10, 6))\n",
    "\n",
    "# Plot learning bars for Left and Right side next to each other\n",
    "bars_learning_L = ax.bar(x - width, learning_L, width, label='Left Learning', color='lightgreen')\n",
    "bars_learning_R = ax.bar(x, learning_R, width, label='Right Learning', color='lightblue')\n",
    "\n",
    "# Plot learned bars for Left and Right side next to each other, adjacent to the learning bars\n",
    "bars_learned_L = ax.bar(x + width, learned_L, width, label='Left Learned', color='green')\n",
    "bars_learned_R = ax.bar(x + 2 * width, learned_R, width, label='Right Learned', color='blue')\n",
    "\n",
    "# Adding title and labels\n",
    "ax.set_title('Trial Numbers for Different Animals (Learning vs Learned for L and R)')\n",
    "ax.set_xlabel('Animal Number')\n",
    "ax.set_ylabel('Number of Trials')\n",
    "\n",
    "# Adding x-axis labels with ticks at the center of the groups\n",
    "ax.set_xticks(x + width / 2)\n",
    "ax.set_xticklabels(animals)\n",
    "\n",
    "# Adding value labels on top of each bar\n",
    "for bars in [bars_learning_L, bars_learning_R, bars_learned_L, bars_learned_R]:\n",
    "    for bar in bars:\n",
    "        height = bar.get_height()\n",
    "        ax.annotate(f'{height}',\n",
    "                    xy=(bar.get_x() + bar.get_width() / 2, height),\n",
    "                    xytext=(0, 3),  # 3 points vertical offset\n",
    "                    textcoords=\"offset points\",\n",
    "                    ha='center', va='bottom')\n",
    "\n",
    "# Adding legend\n",
    "ax.legend()\n",
    "\n",
    "# Display the plot\n",
    "plt.tight_layout()\n",
    "plt.show()\n",
    "\n",
    "\n",
    "\n",
    "import matplotlib.pyplot as plt\n",
    "import numpy as np\n",
    "\n",
    "colors = ['#FF7F50', '#4682B4']\n",
    "\n",
    "# Organize data by condition\n",
    "R_learning = [value for key, value in Trial_number.items() if 'R_learning' in key]\n",
    "R_learned = [value for key, value in Trial_number.items() if 'R_learned' in key]\n",
    "L_learning = [value for key, value in Trial_number.items() if 'L_learning' in key]\n",
    "L_learned = [value for key, value in Trial_number.items() if 'L_learned' in key]\n",
    "\n",
    "\n",
    "# Calculate averages\n",
    "std_R_learning = np.std(R_learning)\n",
    "std_R_learned = np.std(R_learned)\n",
    "std_L_learning = np.std(L_learning)\n",
    "std_L_learned = np.std(L_learned)\n",
    "\n",
    "\n",
    "# Calculate averages\n",
    "avg_R_learning = np.mean(R_learning)\n",
    "avg_R_learned = np.mean(R_learned)\n",
    "avg_L_learning = np.mean(L_learning)\n",
    "avg_L_learned = np.mean(L_learned)\n",
    "\n",
    "# Plot the averages using grouped bars\n",
    "labels = ['Learning', 'Learned']\n",
    "right_side = [avg_R_learning, avg_R_learned]\n",
    "left_side = [avg_L_learning, avg_L_learned]\n",
    "\n",
    "\n",
    "right_side_std = [std_R_learning, std_R_learned]\n",
    "left_side_std = [std_L_learning, std_L_learned]\n",
    "\n",
    "x = np.arange(len(labels))  # Label locations\n",
    "width = 0.35  # Width of the bars\n",
    "\n",
    "fig, ax = plt.subplots(figsize=(3.3,3.1))\n",
    "colors = ['#4D4D4D', '#C0392B']\n",
    "# Plot the bars: Learning (Right and Left), Learned (Right and Left)\n",
    "bars2 = ax.bar(x - width/2, left_side,yerr=left_side_std,  capsize=5,width=width, label='Left', color=colors[0], edgecolor='black')\n",
    "bars1 = ax.bar(x + width/2, right_side,yerr=right_side_std, capsize=5, width=width, label='Right', color=colors[1], edgecolor='black')\n",
    "\n",
    "# Adding labels, title, and custom ticks\n",
    "ax.set_ylabel('Count',fontsize=15)\n",
    "#ax.set_title('Average Trial Number')\n",
    "ax.set_xticks(x)\n",
    "ax.set_xticklabels(labels,fontsize=16)\n",
    "ax.legend(fontsize=11)\n",
    "\n",
    "# # Optional: Add values on top of bars for clarity\n",
    "# def add_labels(bars):\n",
    "#     for bar in bars:\n",
    "#         height = bar.get_height()\n",
    "#         ax.annotate(f'{height:.1f}',\n",
    "#                     xy=(bar.get_x() + bar.get_width() / 2, height),\n",
    "#                     xytext=(0, 3),  # 3 points vertical offset\n",
    "#                     textcoords=\"offset points\",\n",
    "#                     ha='center', va='bottom')\n",
    "\n",
    "# add_labels(bars1)\n",
    "# add_labels(bars2)\n",
    "\n",
    "# Use a grid for better visualization\n",
    "ax.grid(True, linestyle='--', axis='y', alpha=0.7)\n",
    "\n",
    "# Tight layout to avoid clipping\n",
    "fig.tight_layout()\n",
    "\n",
    "# Show the plot\n",
    "plt.show()"
   ]
  },
  {
   "cell_type": "code",
   "execution_count": null,
   "metadata": {},
   "outputs": [],
   "source": [
    "# Function to merge arrays in dictionaries. merging pc fraction of all animals\n",
    "def merge_values(merged_dict, new_dict):\n",
    "    for key, value in new_dict.items():\n",
    "        if isinstance(value, dict):\n",
    "            # If the value is a dictionary, merge recursively\n",
    "            merged_dict[key] = merge_values(merged_dict.get(key, {}), value)\n",
    "        elif isinstance(value, np.ndarray):\n",
    "            # If the value is an array, concatenate the arrays\n",
    "            if key in merged_dict:\n",
    "                merged_dict[key] = np.concatenate((merged_dict[key], value))\n",
    "            else:\n",
    "                merged_dict[key] = value\n",
    "        else:\n",
    "            merged_dict[key] = value  # Handle other types if needed\n",
    "    return merged_dict"
   ]
  },
  {
   "cell_type": "code",
   "execution_count": null,
   "metadata": {},
   "outputs": [
    {
     "data": {
      "text/plain": [
       "[<matplotlib.lines.Line2D at 0x2bd65bbf100>]"
      ]
     },
     "execution_count": 45,
     "metadata": {},
     "output_type": "execute_result"
    },
    {
     "data": {
      "image/png": "[encoded data removed]",
      "text/plain": [
       "<Figure size 432x288 with 1 Axes>"
      ]
     },
     "metadata": {
      "needs_background": "light"
     },
     "output_type": "display_data"
    }
   ],
   "source": [
    "plt.plot(PC_learned)\n",
    "plt.plot(rate_L_R[fol1+'_L']['significant'])\n",
    "plt.plot(PC_learning)\n"
   ]
  },
  {
   "cell_type": "code",
   "execution_count": null,
   "metadata": {},
   "outputs": [
    {
     "name": "stderr",
     "output_type": "stream",
     "text": [
      "c:\\Users\\hamed\\Desktop\\Hamed\\Github\\TP7\\code\\mtools.py:3848: VisibleDeprecationWarning: Creating an ndarray from ragged nested sequences (which is a list-or-tuple of lists-or-tuples-or ndarrays with different lengths or shapes) is deprecated. If you meant to do this, you must specify 'dtype=object' when creating the ndarray.\n",
      "  cond_seqs[tsk]=np.asarray(sess_info['seqs'])[mskcnd & correct_mask & ph_mask]\n",
      "c:\\Users\\hamed\\Desktop\\Hamed\\Github\\TP7\\code\\mtools.py:3862: RuntimeWarning: invalid value encountered in long_scalars\n",
      "  pc_seq_ratio[iseq]=(np.sum(np.isin(seq,sig_pc_idx))/len(sig_pc_idx[0]))# how many precent of the place cells conributed in this sequence\n",
      "C:\\Users\\hamed\\AppData\\Local\\Temp\\ipykernel_15556\\3631207098.py:96: UserWarning: The palette list has more values (4) than needed (3), which may not be intended.\n",
      "  sns.boxplot(data=filtered_data_merged, ax=ax, palette=first_four_colors, notch=True, width=0.6)\n",
      "C:\\Users\\hamed\\AppData\\Local\\Temp\\ipykernel_15556\\3631207098.py:96: UserWarning: The palette list has more values (4) than needed (3), which may not be intended.\n",
      "  sns.boxplot(data=filtered_data_merged, ax=ax, palette=first_four_colors, notch=True, width=0.6)\n",
      "C:\\Users\\hamed\\AppData\\Local\\Temp\\ipykernel_15556\\3631207098.py:96: UserWarning: The palette list has more values (4) than needed (3), which may not be intended.\n",
      "  sns.boxplot(data=filtered_data_merged, ax=ax, palette=first_four_colors, notch=True, width=0.6)\n",
      "C:\\Users\\hamed\\AppData\\Local\\Temp\\ipykernel_15556\\3631207098.py:96: UserWarning: The palette list has more values (4) than needed (3), which may not be intended.\n",
      "  sns.boxplot(data=filtered_data_merged, ax=ax, palette=first_four_colors, notch=True, width=0.6)\n",
      "c:\\Users\\hamed\\Desktop\\Hamed\\Github\\TP7\\code\\mtools.py:3848: VisibleDeprecationWarning: Creating an ndarray from ragged nested sequences (which is a list-or-tuple of lists-or-tuples-or ndarrays with different lengths or shapes) is deprecated. If you meant to do this, you must specify 'dtype=object' when creating the ndarray.\n",
      "  cond_seqs[tsk]=np.asarray(sess_info['seqs'])[mskcnd & correct_mask & ph_mask]\n",
      "C:\\Users\\hamed\\AppData\\Local\\Temp\\ipykernel_15556\\3631207098.py:96: UserWarning: The palette list has more values (4) than needed (3), which may not be intended.\n",
      "  sns.boxplot(data=filtered_data_merged, ax=ax, palette=first_four_colors, notch=True, width=0.6)\n",
      "C:\\Users\\hamed\\AppData\\Local\\Temp\\ipykernel_15556\\3631207098.py:96: UserWarning: The palette list has more values (4) than needed (3), which may not be intended.\n",
      "  sns.boxplot(data=filtered_data_merged, ax=ax, palette=first_four_colors, notch=True, width=0.6)\n",
      "C:\\Users\\hamed\\AppData\\Local\\Temp\\ipykernel_15556\\3631207098.py:96: UserWarning: The palette list has more values (4) than needed (3), which may not be intended.\n",
      "  sns.boxplot(data=filtered_data_merged, ax=ax, palette=first_four_colors, notch=True, width=0.6)\n",
      "C:\\Users\\hamed\\AppData\\Local\\Temp\\ipykernel_15556\\3631207098.py:96: UserWarning: The palette list has more values (4) than needed (3), which may not be intended.\n",
      "  sns.boxplot(data=filtered_data_merged, ax=ax, palette=first_four_colors, notch=True, width=0.6)\n",
      "c:\\Users\\hamed\\Desktop\\Hamed\\Github\\TP7\\code\\mtools.py:3848: VisibleDeprecationWarning: Creating an ndarray from ragged nested sequences (which is a list-or-tuple of lists-or-tuples-or ndarrays with different lengths or shapes) is deprecated. If you meant to do this, you must specify 'dtype=object' when creating the ndarray.\n",
      "  cond_seqs[tsk]=np.asarray(sess_info['seqs'])[mskcnd & correct_mask & ph_mask]\n",
      "C:\\Users\\hamed\\AppData\\Local\\Temp\\ipykernel_15556\\3631207098.py:96: UserWarning: The palette list has more values (4) than needed (3), which may not be intended.\n",
      "  sns.boxplot(data=filtered_data_merged, ax=ax, palette=first_four_colors, notch=True, width=0.6)\n",
      "C:\\Users\\hamed\\AppData\\Local\\Temp\\ipykernel_15556\\3631207098.py:96: UserWarning: The palette list has more values (4) than needed (3), which may not be intended.\n",
      "  sns.boxplot(data=filtered_data_merged, ax=ax, palette=first_four_colors, notch=True, width=0.6)\n",
      "C:\\Users\\hamed\\AppData\\Local\\Temp\\ipykernel_15556\\3631207098.py:96: UserWarning: The palette list has more values (4) than needed (3), which may not be intended.\n",
      "  sns.boxplot(data=filtered_data_merged, ax=ax, palette=first_four_colors, notch=True, width=0.6)\n",
      "C:\\Users\\hamed\\AppData\\Local\\Temp\\ipykernel_15556\\3631207098.py:96: UserWarning: The palette list has more values (4) than needed (3), which may not be intended.\n",
      "  sns.boxplot(data=filtered_data_merged, ax=ax, palette=first_four_colors, notch=True, width=0.6)\n"
     ]
    },
    {
     "data": {
      "image/png": "[encoded data removed]",
      "text/plain": [
       "<Figure size 288x216 with 1 Axes>"
      ]
     },
     "metadata": {
      "needs_background": "light"
     },
     "output_type": "display_data"
    },
    {
     "data": {
      "image/png": "[encoded data removed]",
      "text/plain": [
       "<Figure size 288x216 with 1 Axes>"
      ]
     },
     "metadata": {
      "needs_background": "light"
     },
     "output_type": "display_data"
    },
    {
     "data": {
      "image/png": "[encoded data removed]",
      "text/plain": [
       "<Figure size 288x216 with 1 Axes>"
      ]
     },
     "metadata": {
      "needs_background": "light"
     },
     "output_type": "display_data"
    },
    {
     "data": {
      "image/png": "[encoded data removed]",
      "text/plain": [
       "<Figure size 288x216 with 1 Axes>"
      ]
     },
     "metadata": {
      "needs_background": "light"
     },
     "output_type": "display_data"
    },
    {
     "data": {
      "image/png": "[encoded data removed]",
      "text/plain": [
       "<Figure size 288x216 with 1 Axes>"
      ]
     },
     "metadata": {
      "needs_background": "light"
     },
     "output_type": "display_data"
    },
    {
     "data": {
      "image/png": "[encoded data removed]",
      "text/plain": [
       "<Figure size 288x216 with 1 Axes>"
      ]
     },
     "metadata": {
      "needs_background": "light"
     },
     "output_type": "display_data"
    },
    {
     "data": {
      "image/png": "[encoded data removed]",
      "text/plain": [
       "<Figure size 288x216 with 1 Axes>"
      ]
     },
     "metadata": {
      "needs_background": "light"
     },
     "output_type": "display_data"
    },
    {
     "data": {
      "image/png": "[encoded data removed]",
      "text/plain": [
       "<Figure size 288x216 with 1 Axes>"
      ]
     },
     "metadata": {
      "needs_background": "light"
     },
     "output_type": "display_data"
    },
    {
     "data": {
      "image/png": "[encoded data removed]",
      "text/plain": [
       "<Figure size 288x216 with 1 Axes>"
      ]
     },
     "metadata": {
      "needs_background": "light"
     },
     "output_type": "display_data"
    },
    {
     "data": {
      "image/png": "[encoded data removed]",
      "text/plain": [
       "<Figure size 288x216 with 1 Axes>"
      ]
     },
     "metadata": {
      "needs_background": "light"
     },
     "output_type": "display_data"
    },
    {
     "data": {
      "image/png": "[encoded data removed]",
      "text/plain": [
       "<Figure size 288x216 with 1 Axes>"
      ]
     },
     "metadata": {
      "needs_background": "light"
     },
     "output_type": "display_data"
    },
    {
     "data": {
      "image/png": "[encoded data removed]",
      "text/plain": [
       "<Figure size 288x216 with 1 Axes>"
      ]
     },
     "metadata": {
      "needs_background": "light"
     },
     "output_type": "display_data"
    }
   ],
   "source": [
    "#dict_list.append(pc_frac)\n",
    "plt.rcParams.update({'font.size': 16})\n",
    "plt.rcParams['axes.titlesize'] = 16\n",
    "plt.rcParams['xtick.labelsize'] = 14  # You can adjust the font size as needed\n",
    "plt.rcParams['ytick.labelsize'] = 14  # You can adjust the font size as needed\n",
    "\n",
    "from deepmerge import Merger\n",
    "#choose_cell_type='TC'# choose the the cell type you want to see its contribution in sequences (options: PC,TC,SI)\n",
    "plot_idividual_animals=False\n",
    "# Initialize an empty dictionary for the final result\n",
    "\n",
    "\n",
    "conds=['sampling_L',\n",
    " 'sampling_R',\n",
    " 'outward_L',\n",
    " 'outward_R',\n",
    " 'reward_L',\n",
    " 'reward_R',\n",
    " 'inward_L',\n",
    " 'inward_R']\n",
    "\n",
    "color_cycle = plt.rcParams['axes.prop_cycle'].by_key()['color']\n",
    "\n",
    "# Get the first four colors\n",
    "first_four_colors = color_cycle[:4]\n",
    "\n",
    "\n",
    "cond_number = dict(zip(conds, np.arange(len(conds))))# make mask values for each task\n",
    "cond_names=cond_number\n",
    "PC_seq_precent = {}\n",
    "\n",
    "for choose_cell_type in ['TC','PC','SI']:# check the precentage of contribution of all cell types in sequences\n",
    "    merged_dict = {}\n",
    "    for fol1 in allfolders2:\n",
    "\n",
    "        TC_learning=(cell_type_mask_phases['learning'][fol1]['TC_arm'] | cell_type_mask_phases['learning'][fol1]['TC_stem'])\n",
    "        TC_learned=(cell_type_mask_phases['learned'][fol1]['TC_arm'] | cell_type_mask_phases['learned'][fol1]['TC_stem'])\n",
    "\n",
    "        PC_learning=(cell_type_mask_phases['learning'][fol1]['PC_arm'] | cell_type_mask_phases['learning'][fol1]['PC_stem'])\n",
    "        PC_learned=(cell_type_mask_phases['learned'][fol1]['PC_arm'] | cell_type_mask_phases['learned'][fol1]['PC_stem'])\n",
    "\n",
    "        SI_learning=np.where(rate_L_R_all_phases['learning'][fol1+'_L']['significant']|rate_L_R_all_phases['learning'][fol1+'_R']['significant'])\n",
    "        SI_learned=np.where(rate_L_R_all_phases['learned'][fol1+'_L']['significant']|rate_L_R_all_phases['learned'][fol1+'_R']['significant'])\n",
    "        SI_all=np.where(rate_L_R_all_phases['learned'][fol1+'_L']['significant']|rate_L_R_all_phases['learned'][fol1+'_R']['significant'])\n",
    "\n",
    "\n",
    "        cell_type_indx={}\n",
    "        cell_type_indx['PC']={'learning':np.where(PC_learning),'learned':np.where(PC_learned)}\n",
    "\n",
    "        cell_type_indx['TC']={'learning':np.where(TC_learning),'learned':np.where(TC_learned)}\n",
    "\n",
    "        cell_type_indx['SI']={'learning':np.where(SI_learning),'learned':np.where(SI_learned),'All':np.where(SI_all)}\n",
    "\n",
    "\n",
    "        sig_pc_idx=cell_type_indx[choose_cell_type]\n",
    "\n",
    "\n",
    "\n",
    "\n",
    "\n",
    "\n",
    "        sessinfo_and_mask=np.load(savefolder+fol1+'Sesseion_info_All AllNo_chunk_0.5s_transients',allow_pickle=True)\n",
    "\n",
    "        #sig_pc_idx=np.where(significant_pc)\n",
    "\n",
    "        #sig_pc_idx=np.where(rate_L_R_all_phases[phase][fol1+'_L']['significant']|rate_L_R_all_phases[phase][fol1+'_R']['significant'])# get significant SI cells both in the left and right rungs\n",
    "        pc_frac=mot.pc_faction_in_sequnce(sessinfo_and_mask['Masks'],sessinfo_and_mask['sess_info'],sig_pc_idx,cond_names)\n",
    "        merged_dict = merge_values(merged_dict, pc_frac)# merge all animals\n",
    "\n",
    "        if plot_idividual_animals==True:\n",
    "\n",
    "            for mod in pc_frac.keys():\n",
    "                for cor in pc_frac[mod].keys():\n",
    "                    fig, ax = plt.subplots(1, 1, figsize=(4, 3))\n",
    "                    filtered_data = {key: value for key, value in pc_frac[mod][cor].items() if key != 'inward'}# exclude inward\n",
    "\n",
    "                    sns.swarmplot(data=filtered_data,ax=ax,size=3)\n",
    "                    #mot.significance_chekc(pc_frac[mod][cor],ax,first_four_colors)\n",
    "                    ax.set_title(fol1+'_'+mod+'_'+cor+'_')\n",
    "                    ax.set_ylim([0,1.1])\n",
    "                    ax.set_ylabel(\"% of PC in a seqeunce\")\n",
    "\n",
    "\n",
    "\n",
    "\n",
    "    \n",
    "\n",
    "\n",
    "    for mod in merged_dict.keys():# show merged data of all animals\n",
    "        for cor in merged_dict[mod].keys():\n",
    "            fig, ax = plt.subplots(1, 1, figsize=(4, 3))\n",
    "\n",
    "            filtered_data_merged = {key: value for key, value in merged_dict[mod][cor].items() if key != 'inward'}# exclude inward\n",
    "            #sns.swarmplot(data=filtered_data_merged,ax=ax,size=2)\n",
    "            leg_keys = filtered_data_merged.keys()\n",
    "            sns.boxplot(data=filtered_data_merged, ax=ax, palette=first_four_colors, notch=True, width=0.6)\n",
    "            # Add a custom legend\n",
    "            handles = [\n",
    "                plt.Line2D([0], [0], color=color, lw=4, label=key)\n",
    "                for color, key in zip(first_four_colors, leg_keys)\n",
    "            ]\n",
    "            ax.legend(handles=handles,loc=\"upper right\")\n",
    "\n",
    "            #mot.significance_chekc(merged_dict[mod][cor],ax,first_four_colors)\n",
    "            ax.set_title('All'+'_'+mod+'_'+cor+'_'+choose_cell_type)\n",
    "            ax.set_ylim([0,1.1])\n",
    "            ax.set_ylabel('% of '+choose_cell_type+' cells in seqeunces')\n",
    "            hide_spines(ax=ax)\n",
    "            plt.savefig(savefolder+choose_cell_type+'_per_sequence_All_animals'+mod+'.svg',format='svg')\n",
    "\n",
    "    PC_seq_precent[choose_cell_type]=merged_dict"
   ]
  },
  {
   "cell_type": "markdown",
   "metadata": {},
   "source": [
    "#### Sequence Rate"
   ]
  },
  {
   "cell_type": "code",
   "execution_count": null,
   "metadata": {},
   "outputs": [],
   "source": [
    "#viridis_cmap = plt.get_cmap('viridis', n_clusters)\n",
    "tasks=['sampling','outward','reward','inward']\n",
    "\n",
    "plt.rcParams.update({'font.size': 19})\n",
    "plt.rcParams['axes.titlesize'] = 19  # Set the title font size\n",
    "plt.rcParams['xtick.labelsize'] = 14  # You can adjust the font size as needed\n",
    "plt.rcParams['ytick.labelsize'] = 14  # You can adjust the font size as needed\n",
    "\n",
    "\n",
    "fig2,ax2=plt.subplots(1,4,figsize=(30,4))\n",
    "\n",
    "fig,ax=plt.subplots(1,4,figsize=(10,5))\n",
    "\n",
    "figs=plt.figure(figsize=(60,60))\n",
    "ax5s=figs.add_axes([1/len(tasks),0.1,1/len(tasks)-.01,.4],projection='3d', facecolor='white')\n",
    "#figs.patch.set_facecolor('black')\n",
    "cond_clst_idx={}\n",
    "for icond,cond_number in enumerate(cond_numbers.keys()):\n",
    "\n",
    "    name_cond=phase_name+' '+type_name\n",
    "\n",
    "    if ('outward' in cond_number) | ('inward' in cond_number):\n",
    "        speed_thr=0\n",
    "        \n",
    "    elif ('sampling' in cond_number) | ('reward' in cond_number):\n",
    "        #continue\n",
    "        speed_thr=0\n",
    "    # add the mask for speed. speed threshold is set to 5.\n",
    "    #speed_thr=0\n",
    "    smooth_speed=mot.smooth_signal(sess_info['speed'], 13)# moving average over .5  second\n",
    "    Masks['speed_seq']=np.asarray(smooth_speed)[sess_info['id_peaks']]>speed_thr\n",
    "    Masks['speed']=smooth_speed>speed_thr\n",
    "\n",
    "\n",
    "    run_data_all = mot.apply_masks_test(sess_info2,Masks2,cond_numbers[cond_number],cond_names,sessin_numbers,odd_even,session_mask,trial_type,phase)\n",
    "    trial_number=len(np.unique(run_data_all['trial_idx_mask']))\n",
    "\n",
    "\n",
    "\n",
    "    ### plot 3d animal's position+speed\n",
    "    ax5s.set_title(name_cond,fontsize=58,color='black')\n",
    "    X_loc_sess_peaks=(np.asarray(sess_info['xloc'])[run_data_all['idpeaks']])\n",
    "    Y_loc_sess_peaks=(np.asarray(sess_info['yloc'])[run_data_all['idpeaks']])\n",
    "    speed_sess_peaks=(np.asarray(sess_info['speed'])[run_data_all['idpeaks']])\n",
    "    colrlst = np.asarray(colorlist)[run_data_all['ids_clust']]\n",
    "    ax5s.scatter(X_loc_sess_peaks, Y_loc_sess_peaks,np.ones(len(Y_loc_sess_peaks))*speed_sess_peaks,\"X\",s=100,c=colrlst,alpha=.51,edgecolor='black')\n",
    "    ax5s.plot(run_data_all['x_loc'],run_data_all['y_loc'], '.',color='grey',alpha=.1)\n",
    "    #ax5s.plot(sess_info['xloc'],sess_info['yloc'], '.',color='grey',alpha=.009)\n",
    "\n",
    "    ax5s.set_facecolor('w') \n",
    "    ax5s.grid(False) \n",
    "    # ax5s.w_xaxis.pane.fill = False\n",
    "    # ax5s.w_yaxis.pane.fill = False\n",
    "    # ax5s.w_zaxis.pane.fill = False\n",
    "    ax5s.xaxis.pane.fill = False\n",
    "    ax5s.yaxis.pane.fill = False\n",
    "    ax5s.zaxis.pane.fill = False\n",
    "\n",
    "    ax5s.tick_params(axis='z', colors='gray',labelsize=22)\n",
    "    ax5s.view_init(elev=-90, azim=90)\n",
    "    #ax5s.view_init(elev=25, azim=-45)\n",
    "    #ax5s.view_init(elev=0, azim=0)\n",
    "\n",
    "\n",
    "    cond_clst_idx[cond_number] = run_data_all['ids_clust']\n",
    "\n",
    "    #customPalette = sns.set_palette(sns.color_palette(colrlst))# Use the parameter palette and use your own palette across all your\n",
    "    #sns.set_palette(sns.color_palette(colorlist))\n",
    "    sns.histplot(data=cond_clst_idx,y=cond_number ,kde=False,ax=ax[icond],edgecolor='black',bins=np.arange(n_clusters+2),color=color,)\n",
    "    for ic in range(len(ax[icond].patches)):\n",
    "        ax[icond].patches[ic].set_facecolor(colorlist[ic])\n",
    "\n",
    "\n",
    "\n",
    "\n",
    "\n",
    "    ax[icond].text(2,-1,'trial # = ' +str(trial_number))\n",
    "    #sns.histplot(cond_clst_idx[cond_number], kde=False, ax=ax[icond])\n",
    "    ax[icond].set_ylim(-3, np.max(sess_info['ids_clust'])+2)\n",
    "    #ax[icond].set_xlim(0, 80)\n",
    "    ax[icond].set_title(f' {cond_number}'+' speed thr='+str(speed_thr),fontsize=14)\n",
    "    ax[icond].set_ylabel('Cluster #',fontsize=14)\n",
    "    ax[icond].set_xlabel('Sequence counts',fontsize=14)\n",
    "\n",
    "    #plt.ylim([-1,np.max(sess_info['ids_clust'])])\n",
    "\n",
    "\n",
    "\n",
    "    ispk=0\n",
    "    for sspk in run_data_all['spike_idx_cells']:\n",
    "        ax2[icond].eventplot(sspk,lineoffsets=ispk)\n",
    "        ispk+=1\n",
    "    ax2[icond].set_title(cond_number+'  '+fol1+' '+type_name+' '+phase_name+' '+place_cell_name+' '+cell_types)\n",
    "    ax2[icond].set_ylabel('cell#')\n",
    "\n",
    "\n",
    "#plt.suptitle(fol1+'_'+'all'+'_'+type_name+'_'+place_cell_name+phase_name+'_'+cell_types)\n",
    "plt.tight_layout()"
   ]
  }
 ],
 "metadata": {
  "kernelspec": {
   "display_name": "base",
   "language": "python",
   "name": "python3"
  },
  "language_info": {
   "codemirror_mode": {
    "name": "ipython",
    "version": 3
   },
   "file_extension": ".py",
   "mimetype": "text/x-python",
   "name": "python",
   "nbconvert_exporter": "python",
   "pygments_lexer": "ipython3",
   "version": "3.9.21"
  }
 },
 "nbformat": 4,
 "nbformat_minor": 2
}
